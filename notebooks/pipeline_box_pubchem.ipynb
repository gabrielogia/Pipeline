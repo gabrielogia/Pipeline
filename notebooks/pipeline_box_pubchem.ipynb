{
 "cells": [
  {
   "cell_type": "code",
   "execution_count": 1,
   "id": "7806a4c3-2ae8-4013-a6ef-af2fc76c874a",
   "metadata": {},
   "outputs": [
    {
     "name": "stdout",
     "output_type": "stream",
     "text": [
      "Wed Jun 18 13:46:42 2025\n",
      "2025.03.2\n"
     ]
    }
   ],
   "source": [
    "import rdkit.Chem.AllChem as rdkit\n",
    "from rdkit.Chem import AllChem\n",
    "import copy\n",
    "import stk\n",
    "import os\n",
    "import py3Dmol\n",
    "\n",
    "import pandas as pd\n",
    "import json\n",
    "from rdkit import Chem\n",
    "from rdkit.Chem import Draw\n",
    "from rdkit.Chem.Draw import IPythonConsole\n",
    "from rdkit import rdBase\n",
    "import os,time\n",
    "print( time.asctime())\n",
    "print(rdBase.rdkitVersion)"
   ]
  },
  {
   "cell_type": "code",
   "execution_count": 2,
   "id": "c5f1b0bb-2b97-4d15-b97d-0be89326b7fc",
   "metadata": {},
   "outputs": [
    {
     "data": {
      "application/vnd.microsoft.datawrangler.viewer.v0+json": {
       "columns": [
        {
         "name": "index",
         "rawType": "int64",
         "type": "integer"
        },
        {
         "name": " cid",
         "rawType": "int64",
         "type": "integer"
        },
        {
         "name": "cmpdname",
         "rawType": "object",
         "type": "string"
        },
        {
         "name": "cmpdsynonym",
         "rawType": "object",
         "type": "string"
        },
        {
         "name": "mw",
         "rawType": "float64",
         "type": "float"
        },
        {
         "name": "mf",
         "rawType": "object",
         "type": "string"
        },
        {
         "name": "polararea",
         "rawType": "float64",
         "type": "float"
        },
        {
         "name": "complexity",
         "rawType": "float64",
         "type": "float"
        },
        {
         "name": "xlogp",
         "rawType": "float64",
         "type": "float"
        },
        {
         "name": "heavycnt",
         "rawType": "int64",
         "type": "integer"
        },
        {
         "name": "hbonddonor",
         "rawType": "int64",
         "type": "integer"
        },
        {
         "name": "hbondacc",
         "rawType": "int64",
         "type": "integer"
        },
        {
         "name": "rotbonds",
         "rawType": "int64",
         "type": "integer"
        },
        {
         "name": "inchi",
         "rawType": "object",
         "type": "string"
        },
        {
         "name": "isosmiles",
         "rawType": "object",
         "type": "string"
        },
        {
         "name": "canonicalsmiles",
         "rawType": "object",
         "type": "string"
        },
        {
         "name": "inchikey",
         "rawType": "object",
         "type": "string"
        },
        {
         "name": "iupacname",
         "rawType": "object",
         "type": "string"
        },
        {
         "name": "exactmass",
         "rawType": "float64",
         "type": "float"
        },
        {
         "name": "monoisotopicmass",
         "rawType": "float64",
         "type": "float"
        },
        {
         "name": "charge",
         "rawType": "int64",
         "type": "integer"
        },
        {
         "name": "covalentunitcnt",
         "rawType": "int64",
         "type": "integer"
        },
        {
         "name": "isotopeatomcnt",
         "rawType": "int64",
         "type": "integer"
        },
        {
         "name": "totalatomstereocnt",
         "rawType": "int64",
         "type": "integer"
        },
        {
         "name": "definedatomstereocnt",
         "rawType": "int64",
         "type": "integer"
        },
        {
         "name": "undefinedatomstereocnt",
         "rawType": "int64",
         "type": "integer"
        },
        {
         "name": "totalbondstereocnt",
         "rawType": "int64",
         "type": "integer"
        },
        {
         "name": "definedbondstereocnt",
         "rawType": "int64",
         "type": "integer"
        },
        {
         "name": "undefinedbondstereocnt",
         "rawType": "int64",
         "type": "integer"
        },
        {
         "name": "pclidcnt",
         "rawType": "int64",
         "type": "integer"
        },
        {
         "name": "gpidcnt",
         "rawType": "int64",
         "type": "integer"
        },
        {
         "name": "gpfamilycnt",
         "rawType": "int64",
         "type": "integer"
        },
        {
         "name": "meshheadings",
         "rawType": "object",
         "type": "unknown"
        },
        {
         "name": "annothits",
         "rawType": "object",
         "type": "string"
        },
        {
         "name": "annothitcnt",
         "rawType": "int64",
         "type": "integer"
        },
        {
         "name": "aids",
         "rawType": "object",
         "type": "string"
        },
        {
         "name": "cidcdate",
         "rawType": "int64",
         "type": "integer"
        },
        {
         "name": "sidsrcname",
         "rawType": "object",
         "type": "string"
        },
        {
         "name": "depcatg",
         "rawType": "object",
         "type": "string"
        },
        {
         "name": "annotation",
         "rawType": "object",
         "type": "unknown"
        }
       ],
       "ref": "395da936-1633-475a-9f63-43180dce1af6",
       "rows": [
        [
         "0",
         "6581",
         "Acrylic acid",
         "ACRYLIC ACID|2-Propenoic acid|79-10-7|prop-2-enoic acid|Propenoic acid|Vinylformic acid|Acroleic acid|Ethylenecarboxylic acid|Propene acid|ACRYLATE|Propenoate|9003-01-4|Glacial acrylic acid|Kyselina akrylova|Acrylic acid, glacial|RCRA waste number U008|Acide acrylique|Acido acrilio|Caswell No. 009A|Carbopol 934p|Viscalex HV 30|NSC 4765|CCRIS 737|Acrylic resin|HSDB 1421|UNII-J94PBK7X8S|EINECS 201-177-9|J94PBK7X8S|Carbopol 940|BRN 0635743|ACRLYLIC ACID|DTXSID0039229|CHEBI:18308|AI3-15717|NSC-4765|DTXCID8028|Aron|Antiprex A|Versicol E9|NSC4765|EC 201-177-9|Acrylic acid resin|Acrysol ase-75|C3:1n-1|Versicol E 7|Versicol E15|4-02-00-01455 (Beilstein Handbook Reference)|Acrysol A 1|Acrysol A 3|Acrysol A 5|Acrysol A-1|Acrysol AC 5|Carbopol 960|Carboset 515|Primal Ase 60|Revacryl A191|Versicol K 11|Versicol S 25|Dispex C40|Acrysol WS-24|Cyguard 266|Joncryl 678|Jurimer AC 10H|Jurimer AC 10P|Nalfloc 636|Good-rite K 37|Revacryl A 191|Junlon 110|Viscon 103|Good-rite K 702|Good-rite K 732|Good-rite WS 801|NCGC00166246-01|Synthemul 90-588|Aron A 10H|Carboset Resin No. 515|ACRYLIC ACID (IARC)|ACRYLIC ACID [IARC]|OLD 01|PA 11M|PAA-25|Carbopol|P 11H|P-11H|WS 24|ACRYLIC ACID (13C3)|Acido acrilio [Spanish]|Acide acrylique [French]|WS 801|Kyselina akrylova [Czech]|R968|UN2218|RCRA waste no. U008|allenediol|Acrysol lmw-20X|XPA|Aqueous acrylic acid|25987-55-7|Dow Latex 354|Ethene carboxylic acid|Acrylic acid, inhibited|CH2=CHCOOH|(stabilized with MEHQ)|Carbomer 934 (NF)|Carbomer 940 (NF)|Carbomer 941 (NF)|Carbopol 910 (TN)|Carbopol 934 (TN)|Carbopol 940 (TN)|Carbopol 941 (TN)|Carbomer 934P (NF)|Carbopol 934P (TN)|Carbomer 910 (USAN)|ACRYLIC ACID [MI]|Carbomer 1342 (NF)|Carbopol 1342 (TN)|ACRYLIC ACID [HSDB]|WLN: QV1U1|average Mv ~450,000|UN 2218 (Salt/Mix)|Acrylic acid, p.a., 99%|CHEMBL1213529|STR00040|Tox21_112372|LMFA01030193|MFCD00004367|NSC106034|NSC106035|NSC106036|NSC106037|NSC112122|NSC112123|NSC114472|NSC165257|NSC226569|STL281870|AKOS000118799|DB02579|NSC-106034|NSC-106035|NSC-106036|NSC-106037|NSC-112122|NSC-112123|NSC-114472|NSC-165257|NSC-226569|CAS-79-10-7|Poly(acrylic acid), 25% soln in water|BP-30259|1ST001124|DB-220116|DB-251641|A0141|NS00001146|EN300-17959|C00511|C19501|D03392|D03393|D03394|D03395|D03396|D03397|Acrylic Acid contains 200ppm MEHQ as inhibitor|Acrylic acid, inhibited [UN2218]  [Corrosive]|A830860|Q324628|Z57127944|F0001-2070|InChI=1/C3H4O2/c1-2-3(4)5/h2H,1H2,(H,4,5|Acrylic acid, anhydrous, contains 200 ppm MEHQ as inhibitor, 99%|Acrylic acid, SAJ first grade, >=97.0%, contains 190-210 ppm MEHQ as stabilizer|1204391-75-2|55927-87-2|9063-87-0",
         "72.06",
         "C3H4O2",
         "37.3",
         "55.9",
         "0.3",
         "5",
         "1",
         "2",
         "1",
         "InChI=1S/C3H4O2/c1-2-3(4)5/h2H,1H2,(H,4,5)",
         "C=CC(=O)O",
         "C=CC(=O)O",
         "NIXOWILDQLNWCW-UHFFFAOYSA-N",
         "prop-2-enoic acid",
         "72.0211",
         "72.0211",
         "0",
         "1",
         "0",
         "0",
         "0",
         "0",
         "0",
         "0",
         "0",
         "14297",
         "464476",
         "263916",
         null,
         "Biological Test Results|Interactions and Pathways|Chemical and Physical Properties|Classification|Drug and Medication Information|Food Additives and Ingredients|Identification|Literature|Patents|Pharmacology and Biochemistry|Safety and Hazards|Toxicity|Use and Manufacturing|Associated Disorders and Diseases|Spectral Information|Taxonomy|Biological Test Results: Active|Biological Test Results: Micromolar",
         "18",
         "155|157|161|165|167|175|192|248|256|328|880|1189|1194|1205|1208|1469|1471|1479|1487|1490|1688|1766|1768|2528|2546|2551|2662|485290|492961|498775|504327|504332|504749|504832|504834|504847|504865|588579|588834|602332|603955|624030|624031|624032|624044|624170|624172|624173|624296|624297|651631|651632|651633|651634|652048|652051|686978|686979|720516|720532|720533|720552|720634|720635|720637|720674|720675|720678|720679|720680|720681|720682|720683|720684|720685|720686|720687|720691|720692|720693|720719|720725|743012|743014|743015|743033|743035|743036|743040|743041|743042|743053|743054|743063|743064|743065|743066|743067|743069|743074|743075|743077|743078|743079|743080|743081|743083|743084|743085|743086|743091|743094|743122|743139|743140|743244|1144084|1259344|1259355|1259356|1259407|1259411|1296008|1345199|1346983|1346984|1346985|1346986|1346987|1645882|1645883|1645886|1645887|1745844|1749710|1749711",
         "20040916",
         "001Chemical|10X CHEM|1st Scientific|3B Scientific (Wuhan) Corp|3WAY PHARM INC|A&J Pharmtech CO., LTD.|A2B Chem|AA BLOCKS|AAA Chemistry|Aaron Chemicals LLC|AbaChemScene|abcr GmbH|ABI Chem|Acadechem|Achemica|Achemtek|Acmec Biochemical|Acorn PharmaTech Product List|AEchem Scientific Corp., USA|AHH Chemical co.,ltd|AK Scientific, Inc. (AKSCI)|AKos Consulting & Solutions|Aladdin|Alfa Chemistry|Alichem|Amadis Chemical|Ambeed|Ambinter|AN PharmaTech|Angel Pharmatech Ltd.|Angene Chemical|Anward|Apexmol|Aribo Reagent|Ark Pharm, Inc.|AstaTech, Inc.|Aurora Fine Chemicals LLC|BenchChem|BePharm Ltd.|Bic Biotech|Biocore|BioCyc|Biosynth|BLD Pharm|BOC Sciences|Broad Institute|BroadPharm|CAPOT|Carcinogenic Potency Database (CPDB)|CD Formulation|Center for Chemical Genomics, University of Michigan|ChEBI|Chem-Space.com Database|ChemBank|Chembase.cn|ChEMBL|Chemchart|ChemDB|Chemenu Inc.|ChemExper Chemical Directory|Chemical Carcinogenesis Research Information System (CCRIS)|Chemical Synthesis Database|ChemIDplus|Chemieliva Pharmaceutical Co., Ltd|ChemMol|ChemSpider|ChemTik|China MainChem Co., Ltd|CHIRALEN|Clearsynth|Clinivex|Collaborative Drug Discovery, Inc.|Combi-Blocks|Comparative Toxicogenomics Database (CTD)|Cooke Chemical Co., Ltd|Crystallography Open Database (COD)|CymitQuimica|DAOGE BIOPHARMA|Davey Lab, Department of Microbiology, NEIDL, Boston University|DC Chemicals|Debye Scientific Co., Ltd|DiscoveryGate|DrugBank|DTP/NCI|EAWAG Biocatalysis/Biodegradation Database|ECI Group, LCSB, University of Luxembourg|Egon Willighagen, Department of Bioinformatics - BiGCaT, Maastricht University|eMolecules|Emory University Molecular Libraries Screening Center|Enamine|eNovation Chemicals|enviPath|EPA DSSTox|EPA Substance Registry Services|EvitaChem|FDA Global Substance Registration System (GSRS)|Finetech Industry Limited|Founder Pharma|Glentham Life Sciences Ltd.|Google Patents|Hairui Chemical|Hoffman Fine Chemicals|Human Metabolome Database (HMDB)|Hunan Chemfish Pharmaceutical Co., Ltd.|IBM|iChemical Technology USA Inc|ISpharm|IUPAC Digitized pKa Dataset|J&H Chemical Co.,ltd|Jamson Pharmachem Technology|Japan Chemical Substance Dictionary (Nikkaji)|KEGG|Key Organics/BIONET|King Scientific|LabNetwork, a WuXi AppTec Company|labseeker|LeadScope|LEAPCHEM|LGC Standards|Life Chemicals|LIPID MAPS|MassBank Europe|MassBank of North America (MoNA)|Matrix Scientific|Mcule|Metabolomics Workbench|MolCore|Moldb|Molecule Market|Molepedia|MolPort|MP Biomedicals|MTDP|MuseChem|National Center for Advancing Translational Sciences (NCATS)|NCBI Structure|NextBio|NextMove Software|NIAID ChemDB|NIST Chemistry WebBook|NIST Mass Spectrometry Data Center|NMRShiftDB|NORMAN Suspect List Exchange|NovoSeek|Oakwood Products|OChem|OtavaChemicals|OXCHEM CORPORATION|Parchem|PATENTSCOPE (WIPO)|PDSP|Probes & Drugs portal|Protein Data Bank in Europe (PDBe)|PubChem Reference Collection|Rare Chemicals GmbH, Germany|RR Scientific|Santa Cruz Biotechnology, Inc.|SCRIPDB|Sigma-Aldrich|Sinfoo Biotech|SLING Consortium|SMID|Smolecule|Springer Nature|Starshine Chemical|SureChEMBL|Syntree|TCI (Tokyo Chemical Industry)|THE BioTek|The Cambridge Structural Database|Therapeutic Target Database (TTD)|Thermo Fisher Scientific|Thieme Chemistry|Thomson Pharma|Thoreauchem|TimTec|Tox21|ToxPlanet|Tractus|TripleBond|Vitas-M Laboratory|VladaChem|VWR, Part of Avantor|Wikidata|Wiley|Win-Win Chemical|Wolves R&D chemical|Wubei-Biochem|Wutech|Yick-Vic Chemicals & Pharmaceuticals (HK) Ltd.|Yuhao Chemical|ZeroPM - Zero Pollution of Persistent, Mobile Substances|ZINC",
         "Chemical Vendors|Curation Efforts|Governmental Organizations|Journal Publishers|Legacy Depositors|NIH Initiatives|Research and Development|Subscription Services",
         "D001697 - Biomedical and Dental Materials > D014014 - Tissue Adhesives"
        ],
        [
         "1",
         "13165",
         "2-Hydroxyethyl acrylate",
         "2-HYDROXYETHYL ACRYLATE|818-61-1|Hydroxyethyl acrylate|2-hydroxyethyl prop-2-enoate|Ethylene glycol monoacrylate|2-Propenoic acid, 2-hydroxyethyl ester|Bisomer 2HEA|Acrylic acid 2-hydroxyethyl ester|2-hydroxyethylacrylate|2-(Acryloyloxy)ethanol|Ethylene glycol, acrylate|Acrylic acid, 2-hydroxyethyl ester|Ethylene glycol, monoacrylate|CCRIS 3431|HSDB 1123|EINECS 212-454-9|2-Hydroxyethylester kyseliny akrylove|UNII-25GT92NY0C|BRN 0969853|25GT92NY0C|26022-14-0|DTXSID2022123|MFCD00002865|DTXCID202123|HEA|EC 212-454-9|HYDROXYETHYL ACRYLATE, 2-|26403-58-7|MFCD00081878|CAS-818-61-1|2-Hydroxyethyl acrylate(7.56 cp(15.5 degrees c))|2-Hydroxyethylester kyseliny akrylove [Czech]|hydroxyethylacrylate|hydroxylethyl acrylate|2-hydroxylethylacrylate|Ethyleen glycol acrylaat|Ethylene glycol acrylate|2-hydroxy-ethyl acrylate|beta-Hydroxyethyl acrylate|Ethandiol-1,2-monoacrylate|2-Hydroxyethyl-2-propenoate|.beta.-Hydroxyethyl acrylate|SCHEMBL14875|MLS002174257|Acrylic acid hydroxyethyl ester|CHEMBL1330518|2-Hydroxyethyl acrylate,97.5%|acrylic acid 2-hydroxy-ethyl ester|Tox21_201430|Tox21_302968|2-propenoic acid 2-hydroxyethyl ester|2-Propenoic acid, 2-hydroxyethylester|AKOS015856805|2-HYDROXYETHYL ACRYLATE [HSDB]|CS-W013616|NCGC00090958-01|NCGC00090958-02|NCGC00256462-01|NCGC00258981-01|LS-13051|SMR001253953|A0743|NS00006157|2-Hydroxyethyl Acrylate (stabilized with MEHQ)|D78194|2-Hydroxyethyl Acrylate, (stabilized with MEHQ)|A840207|J-521472|Q27253959|InChI=1/C5H8O3/c1-2-5(7)8-4-3-6/h2,6H,1,3-4H|2-Hydroxyethyl acrylate, 96%, contains 200-650 ppm monomethyl ether hydroquinone as inhibitor",
         "116.11",
         "C5H8O3",
         "46.5",
         "87.7",
         "-0.2",
         "8",
         "1",
         "3",
         "4",
         "InChI=1S/C5H8O3/c1-2-5(7)8-4-3-6/h2,6H,1,3-4H2",
         "C=CC(=O)OCCO",
         "C=CC(=O)OCCO",
         "OMIGHNLMNHATMP-UHFFFAOYSA-N",
         "2-hydroxyethyl prop-2-enoate",
         "116.047",
         "116.047",
         "0",
         "1",
         "0",
         "0",
         "0",
         "0",
         "0",
         "0",
         "0",
         "644",
         "23270",
         "12260",
         null,
         "Biological Test Results|Interactions and Pathways|Chemical and Physical Properties|Classification|Drug and Medication Information|Food Additives and Ingredients|Identification|Literature|Patents|Pharmacology and Biochemistry|Safety and Hazards|Toxicity|Use and Manufacturing|Associated Disorders and Diseases|Spectral Information|Biological Test Results: Active|Biological Test Results: Micromolar",
         "17",
         "421|426|427|433|434|435|445|530|540|541|542|543|544|545|546|584|585|595|596|603|605|654|655|656|657|658|659|660|661|662|663|664|665|666|667|875|880|881|884|885|886|887|889|892|893|894|900|902|912|921|923|924|925|926|938|946|947|948|955|960|961|962|963|964|965|966|967|968|969|970|971|972|973|974|975|976|977|978|979|980|981|982|983|984|985|986|987|988|989|993|994|995|1030|1188|1452|1457|1458|1469|1471|1476|1477|1478|1479|1948|2101|2107|2112|2120|2517|2546|2549|2551|485290|488839|488862|488895|488896|488899|488965|488966|492953|492956|492972|493005|493008|493087|493091|493098|493131|493160|493187|493244|504326|504329|504339|504357|504411|504414|504423|504441|504444|504454|504462|504490|504523|504558|504577|504582|504621|504634|504648|504690|504692|504700|504707|504720|504734|504766|504775|504803|504845|504847|504884|504891|504894|504937|540253|540256|540263|540267|540276|540295|540303|540308|540317|540336|540364|588334|588335|588352|588354|588358|588391|588405|588413|588436|588453|588456|588458|588473|588475|588489|588492|588493|588497|588499|588501|588513|588514|588515|588516|588526|588527|588532|588533|588534|588535|588536|588537|588541|588543|588544|588545|588546|588547|588549|588579|588590|588591|588621|588664|588674|588689|588692|588726|588727|588795|588812|588813|588814|588819|588834|588850|588852|588855|588856|602123|602141|602162|602163|602179|602229|602233|602244|602247|602248|602250|602261|602274|602281|602310|602313|602329|602332|602340|602342|602346|602363|602393|602396|602399|602405|602410|602429|602438|602440|602449|602481|623870|623877|623901|624037|624038|624040|624125|624126|624127|624168|624169|624170|624171|624172|624173|624178|624202|624204|624246|624256|624263|624267|624268|624287|624288|624291|624296|624297|624304|624330|624352|624354|624377|624414|624415|624416|624417|624418|624463|624464|624465|624466|624467|624483|651550|651560|651572|651582|651602|651610|651631|651632|651633|651634|651635|651636|651640|651644|651647|651654|651658|651661|651687|651699|651702|651704|651710|651711|651718|651719|651723|651724|651725|651741|651743|651749|651751|651754|651755|651757|651758|651768|651777|651778|651800|651802|651819|651820|651821|651838|651957|651958|651999|652010|652017|652025|652039|652048|652051|652054|652067|652104|652105|652106|652115|652126|652154|652162|652163|652197|652257|686940|686964|686970|686971|686978|686979|686996|687014|687016|720504|720508|720509|720511|720516|720542|720543|720551|720552|720553|720579|720580|720582|720596|720634|720635|720636|720637|720647|720648|720652|720653|720659|720674|720675|720678|720679|720680|720681|720682|720683|720684|720685|720686|720687|720691|720692|720693|720700|720702|720704|720706|720707|720708|720709|720711|720719|720725|743012|743014|743015|743033|743035|743036|743040|743041|743042|743053|743054|743063|743064|743065|743066|743067|743069|743074|743075|743077|743078|743079|743080|743081|743083|743084|743085|743086|743091|743094|743122|743126|743139|743140|743191|743194|743199|743202|743203|743209|743210|743211|743212|743213|743215|743217|743218|743219|743220|743221|743222|743223|743224|743225|743226|743227|743228|743238|743239|743240|743241|743242|743247|743255|743266|743269|743279|743287|743288|743292|743397|743398|743445|1053197|1159509|1159515|1159516|1159517|1159518|1159519|1159520|1159521|1159523|1159524|1159525|1159526|1159527|1159528|1159529|1159531|1159551|1159552|1159553|1159555|1159606|1224834|1224835|1224836|1224837|1224838|1224839|1224840|1224841|1224842|1224843|1224844|1224845|1224846|1224847|1224848|1224849|1224865|1224867|1224868|1224869|1224870|1224871|1224872|1224873|1224874|1224875|1224876|1224877|1224878|1224879|1224880|1224881|1224882|1224883|1224884|1224885|1224886|1224887|1224888|1224889|1224890|1224892|1224893|1224894|1224895|1224896|1259241|1259242|1259243|1259244|1259247|1259248|1259313|1259318|1259364|1259365|1259366|1259367|1259368|1259369|1259377|1259378|1259379|1259380|1259381|1259382|1259383|1259384|1259385|1259386|1259387|1259388|1259390|1259391|1259392|1259393|1259394|1259395|1259396|1259400|1259401|1259402|1259403|1259404|1259407|1259415|1272365|1346378|1346784|1346795|1346798|1346799|1346824|1346829|1346859|1346877|1346891|1346924|1346977|1346978|1346979|1346980|1346981|1346982|1347030|1347031|1347032|1347033|1347034|1347035|1347036|1347037|1347038|1347041|1347056|1347071|1347075|1347076|1347120|1347131|1347395|1347397|1347398|1347399|1671190|1671196|1671197|1671198|1671199|1671200|1671201|1671463|1745845|1919968|1919969|1919970|1920062|1920063|1920064|1920065|1920067|1920068|1963577|1963578|1963579|1963580|1963581|1963582|1963583|1963584|1963585",
         "20050327",
         "001Chemical|10X CHEM|3B Scientific (Wuhan) Corp|3WAY PHARM INC|A&J Pharmtech CO., LTD.|A2B Chem|AA BLOCKS|AAA Chemistry|Aaron Chemicals LLC|AbaChemScene|abcr GmbH|ABI Chem|Acadechem|Achemtek|Acmec Biochemical|AHH Chemical co.,ltd|AK Scientific, Inc. (AKSCI)|AKos Consulting & Solutions|Alfa Chemistry|Alichem|Allbio Pharm Co., Ltd|Amadis Chemical|Ambeed|AN PharmaTech|Angene Chemical|Anward|AstaTech, Inc.|Aurora Fine Chemicals LLC|BenchChem|Bic Biotech|Biosynth|BLD Pharm|BOC Sciences|Boerchem|Chem-Space.com Database|Chembase.cn|ChEMBL|ChemDB|Chemenu Inc.|ChemExper Chemical Directory|Chemhere|Chemical Carcinogenesis Research Information System (CCRIS)|ChemIDplus|Chemieliva Pharmaceutical Co., Ltd|Cheminformatics Friedrich-Schiller-University Jena|ChemMol|ChemSpider|ChemTik|Comparative Toxicogenomics Database (CTD)|Cooke Chemical Co., Ltd|CymitQuimica|DiscoveryGate|ECI Group, LCSB, University of Luxembourg|Egon Willighagen, Department of Bioinformatics - BiGCaT, Maastricht University|eMolecules|eNovation Chemicals|EPA DSSTox|EPA Substance Registry Services|EvitaChem|FDA Global Substance Registration System (GSRS)|Finetech Industry Limited|Founder Pharma|Glentham Life Sciences Ltd.|Google Patents|Hairui Chemical|IBM|iChemical Technology USA Inc|ISpharm|J&H Chemical Co.,ltd|Japan Chemical Substance Dictionary (Nikkaji)|Key Organics/BIONET|King Scientific|Kingston Chemistry|LabNetwork, a WuXi AppTec Company|labseeker|LeadScope|LEAPCHEM|MassBank Europe|MassBank of North America (MoNA)|Mcule|MLSMR|MolCore|Molecule Market|Molepedia|MolPort|MuseChem|National Center for Advancing Translational Sciences (NCATS)|NextBio|NextMove Software|NIST Chemistry WebBook|NIST Mass Spectrometry Data Center|NMRShiftDB|NORMAN Suspect List Exchange|NovoSeek|Parchem|PATENTSCOPE (WIPO)|PubChem Reference Collection|RR Scientific|Santa Cruz Biotechnology, Inc.|SCRIPDB|Sigma-Aldrich|Sinfoo Biotech|SLING Consortium|Small Molecule Screening Facility, UW Madison|Smolecule|Springer Nature|SpringerMaterials|Starshine Chemical|SureChEMBL|SynQuest Laboratories|Syntree|TCI (Tokyo Chemical Industry)|THE BioTek|Thermo Fisher Scientific|Thieme Chemistry|Thomson Pharma|Thoreauchem|Tox21|ToxPlanet|Tractus|VladaChem|VWR, Part of Avantor|Wikidata|Wiley|Win-Win Chemical|Wubei-Biochem|Wutech|Yick-Vic Chemicals & Pharmaceuticals (HK) Ltd.|Yuhao Chemical|ZeroPM - Zero Pollution of Persistent, Mobile Substances|ZINC",
         "Chemical Vendors|Curation Efforts|Governmental Organizations|Journal Publishers|Legacy Depositors|NIH Initiatives|Research and Development|Subscription Services",
         null
        ],
        [
         "2",
         "5355130",
         "Octinoxate",
         "Octinoxate|5466-77-3|83834-59-7|2-Ethylhexyl 4-methoxycinnamate|Parsol MCX|Parsol MOX|Parsol|2-Ethylhexyl-p-methoxycinnamate|4-Methoxycinnamic Acid 2-Ethylhexyl Ester|2-Ethylhexyl p-methoxycinnamate|Octyl methoxycinnamate|2-Ethylhexyl trans-4-methoxycinnamate|Escalol 557|(E)-2-Ethylhexyl 3-(4-methoxyphenyl)acrylate|Uvinul MC80|Ethylhexyl p-methoxycinnamate|Heliopan New|2-Ethylhexyl 3-(4-methoxyphenyl)acrylate|(E)-Octinoxate|Ethylhexyl methoxycinnamate|Uvinul MC 80|Ocinoxate|Eusolex 2292|Jeescreen omc|Solarom omc|Neo heliopan AV|2-ethylhexyl (E)-3-(4-methoxyphenyl)prop-2-enoate|UNII-4Y5P7MUD51|Escalol 557nb|Uvinul mc 80n|Escalol 557t|Uvinul mc 90|2-Propenoic acid, 3-(4-methoxyphenyl)-, 2-ethylhexyl ester|4Y5P7MUD51|Sunscreen AV|Eusolex uv-pearls omc|Sun caps 664|Octyl p-Methoxycinnamate|NSC-26466|Octyl 4-methoxycinnamic acid|DTXCID905302|DTXSID1025302|DTXSID9047205|CHEBI:88667|EC 629-661-9|2-Propenoic acid, 3-(4-methoxyphenyl)-, 2-ethylhexyl ester, (2E)-|2-Ethylhexyl methoxycinnamate|octylmethoxycinnamate|2-Ethylhexyl |trans|-4-methoxycinnamate|NCGC00160623-01|SHADE UVAGUARD COMPONENT OCTINOXATE|NSC 26466|OCTINOXATE (MART.)|OCTINOXATE [MART.]|OCTINOXATE (USP-RS)|OCTINOXATE [USP-RS]|Octinoxate [USAN]|Parsol mcx-sa|OCTINOXATE (USP MONOGRAPH)|OCTINOXATE [USP MONOGRAPH]|CAS-5466-77-3|octyl-methoxycinnamate|(E)-Octyl methoxycinnamate|octinoxato|octinoxatum|Foundation|CalciumRepair|ExpressionMarine|Healthy Makeup|RetinC|sunscreen sprays|Anti AgingStar|VitaK|Alix Avien|octinoxate powder|RegemarineExtreme|HydromarineExtreme|Silky FinishFluid|La Creme Plus|Octinoxate 6%|SeborrheicPurifying|Beyond ColorLipcolor|Octinoxate 6.0%|Surf Bay Lip Balm|ultra color absolute|LBelSupremacie Teint|Parsol (TN)|Beautiful Eyes Cream|Bebak Sun Protection|Hyaluronic FillerSerum|Premium Age Protector|The Healthy Foundation|UvinulT MC 80 N|2-ethylhexyl 3-(4-methoxyphenyl)-2-propenoate|PERFECT BUSTBODY|Long Last Makeup 00|Long Last Makeup 01|Long Last Makeup 03|Long Last Makeup 05|Neo heliopan, type AV|UV Shield SPF 42|Garnier Skin Active BB|Octinoxate (USP/INN)|ethylhexl methoxycinnamate|DR. IASO|Flormar BB BB01 Fair|OCTINOXATE [INN]|Optimal Tinted Complexion|Flormar BB BB03 Light|OCTINOXATE [HSDB]|UV MILD SUN BLOCK|Alix AvienVegan CC Cream|Camouflage Concealer Cream|Intervene Makeup SPF 15|OCTINOXATE [VANDF]|Detoxifying Day Cream Rich|Beyond ColorLip Conditioner|Satin SatisfactionLip Color|Ultra Color RichCool Bliss|2-Power Fabric SPF 25|All Hours Primer SPF 18|Cover Cream. Sun protection|CRYSTAL MIRACLE MULTI|OCTINOXATE [WHO-DD]|SCHEMBL15609|Beyond ColorPlumping Lipcolor|Healthy MakeupLip Conditioner|Skin Recovery Face SPF 15|Detoxifying Day Cream Regular|Flormar CC 02 Anti Redness|Flormar CC 04 Anti Fatigue|MLS004773966|Flormar BB BB02 Fair Light|Kroger Dark Tanning OilSPF 4|MACSELECT TINT SPF 15|2-ethylhexyl (2E)-3-(4-methoxyphenyl)prop-2-enoate|Flormar Mattifying BB 01 Fair|SELECTSPF 15 FOUNDATION|CHEMBL1200608|DTXCID0028119|Ethylhexyl Methoxycinnamate cream|OCTINOXATE [ORANGE BOOK]|TREATMENT LIPSHINESPF 15|Alix AvienVegan Matte Foundation|Flormar Mattifying BB 03 Light|HY-B1234A|Rimmel BB Cream Beauty BalmDark|Tanning Sunscreen SPF 4Daylogic|Top Secrets BB Primer SPF 25|3-(4-Methoxyphenyl)-2-propenoic acid 2-ethylhexyl ester|D02BA02|Balm with Natural Butters SPF15|Rimmel BB Cream Beauty BalmLight|Flormar CC 03 Anti Dark Circles|Pretty by Flormar BB 001 Light|Rimmel BB Cream Beauty BalmMedium|Ultra Color RichMoisture Seduction|4-Methoxycinnamic Acid Octyl Ester|Bain de SoleilOrange Gelee SPF 4|FIRMING AND MOISTURIZINGBODY|Maquillaje Liquido Maxima Cobertura|MINERALIZE FOUNDATIONSPF 15|OCTYL METHOXYCINNAMATE [MI]|STUDIO MOISTURE TINTSPF 15|HY-B1234|NSC26466|TRACELESSSKIN RESPONSIVE TINT|Beyond ColorPlumping Lip Conditioner|Intervene Makeup SPF 15 Soft Sand|p-Methoxyzimtsaure-2-ethylhexylester|Tox21_111942|Tox21_201327|Tox21_302576|Intervene Makeup SPF 15 Soft Beige|Intervene Makeup SPF 15 Soft Cocoa|Intervene Makeup SPF 15 Soft Honey|Intervene Makeup SPF 15 Soft Shell|Intervene Makeup SPF 15 Soft Toast|Intervene Makeup SPF 15 Soft Wheat|Mattifying Facial SPF 15 Oily Skin|MFCD00072582|s5320|Flormar Mattifying BB 02 Fair Light|OCTYL METHOXYCINNAMATE [VANDF]|AKOS015838519|Intervene Makeup SPF 15 Soft Bisque|Intervene Makeup SPF 15 Soft Bronze|Intervene Makeup SPF 15 Soft Toffee|MOISTURE RICH FOUNDATIONSPF 15|Tox21_111942_1|1ST3409|2-Ethylhexyl 4-methoxycinnamate, 98%|CCG-267384|CS-4732|DB09496|Rimmel BB Cream Beauty BalmVery Light|ETHYLHEXYL METHOXYCI NNAMATE Cream|Intervene Makeup SPF 15 Soft Sunbeige|Long Last Make UP 02 (Neo Heliopan)|MACHYPER REAL SPF 15 FOUNDATION|2-Ethylhexyl (trans)-4-methoxycinnamate|FACE IT AQUA TINTED32800420|FACE IT AQUA TINTED32800421|Flormar Smooth Touch Foundation 10 Sand|Intervene Makeup SPF 15 Soft Porcelain|NARS AFTERGLOW LIP BALM CLEAN CUT|NCGC00160623-02|NCGC00160623-03|NCGC00160623-04|NCGC00181309-01|NCGC00256897-01|NCGC00258879-01|AS-11708|Flormar Smooth Touch Foundation 04 Ivory|Flormar Smooth Touch Foundation 06 Beige|Flormar Smooth Touch Foundation 11 Honey|Flormar Smooth Touch Foundation 12 Amber|Garnier Skin Renew Miracle Skin Perfector|GR LONGSTAY Matte Face Powder SPF 15|High Protection Sun Air Spray SPF50 PA|Hydrating Facial Cream SPF 15 Dry Skin|Hydrating Facial SPF 15 Mix Normal Skin|Pretty by Flormar BB 005 Natural Beige|SHISEIDO PROTECTIVE LIP CONDITIONER|SMR001550370|TONYMOLY KISS KISS LIP ESSENCE BALM|CAS-83834-59-7|Flormar Smooth Touch Foundation 13 Caramel|FUTURIST AGE RESISTING MAKEUPSPF 15|MICRO RETOUCHINGBLUR COMPACT SPF 50|TOM FORD TRACELESS FOUNDATIONSPF 15|2-Ethylhexyl trans-4-methoxycinnamate, 98%|2-ETHYLHEXYL-TRANS-4-METHOXYCINNAMATE|BENEFIANCE PROTECTIVE HAND REVITALIZER|CS-0031468|ETHYLHEXYL P-METHOXYCINNAMATE [VANDF]|M1082|NS00013675|OCTINOXATE COMPONENT OF SHADE UVAGUARD|True Color Flawless Liquid Foundation SPF15|(E)-2-Ethylhexyl3-(4-methoxyphenyl)acrylate|Ceramide Time Complex Moisture Cream SPF 15|DOUBLE MATTEOIL CONTROL MAKEUP SPF 15|Dr. C. Tuna Sun 6 SPF Tan and Care Carrot|ESIKAHydrated Face Makeup Foundation SPF 15|Flormar Smooth Touch Foundation 01 Porcelain|Skin Caviar Foundation Sunscreen SPF 15-Buff|True Color Ideal Nude Matte Foundation SPF20|D05225|D95744|Flormar Perfect Coverage Foundation 115 Toffee|Flormar Smooth Touch Foundation 03 Light Ivory|Flormar Smooth Touch Foundation 05 Soft Beige|Skin Caviar Foundation Sunscreen SPF 15-Mocha|Skin Caviar Foundation Sunscreen SPF 15-Peche|Skin Caviar Foundation Sunscreen SPF 15-Petal|VIRTUAL SKINSUPER NATURAL FINISH SPF 10|Flormar Smooth Touch Foundation 09 Golden Beige|Flormar Smooth Touch Foundation 14 Dark Caramel|P-METHOXYCINNAMIC ACID 2-ETHYLHEXYL ESTER|Pretty by Flormar Cover up Foundation 004 Ivory|Pretty by Flormar Cover up Foundation 006 Beige|Pretty by Flormar Cover up Foundation 010 Sand|Pretty by Flormar Cover up Foundation 011 Honey|Pretty by Flormar Cover up Foundation 012 Amber|A840663|CLE DE PEAU BEAUTE RADIANT FOUNDATIONBEIGE|CLE DE PEAU BEAUTE RADIANT FOUNDATIONIVORY|CLE DE PEAU BEAUTE RADIANT FOUNDATIONMOCHA|CLE DE PEAU BEAUTE RADIANT FOUNDATIONOCHER|EN300-22794950|Flawless Finish Bare Perfection Makeup SPF 8 Buff|Flawless Finish Bare Perfection Makeup SPF 8 Fawn|Flormar Smooth Touch Foundation 02 Pink Porcelain|Flormar Smooth Touch Foundation 07 Golden Neutral|MICRO RETOUCHINGN203 NATURAL BEIGE SPF50|Pretty by Flormar Mattifying Foundation 004 Ivory|Pretty by Flormar Mattifying Foundation 006 Beige|Pretty by Flormar Mattifying Foundation 010 Sand|Pretty by Flormar Mattifying Foundation 011 Honey|Pretty by Flormar Mattifying Foundation 012 Amber|Pretty by Flormar Weigthless Foundation 004 Ivory|Pretty by Flormar Weigthless Foundation 006 Beige|Pretty by Flormar Weigthless Foundation 010 Sand|Pretty by Flormar Weigthless Foundation 011 Honey|Pretty by Flormar Weigthless Foundation 012 Amber|Q739648|SHISEIDO REVITALESSENCE SKIN GLOW FOUNDATION|SR-01000883955|SUGAR SPICE LIP TREATMENT SUNSCREEN SPF 15|2-Ethylhexyl 4-methoxycinnamate, analytical standard|Flawless Finish Bare Perfection Makeup SPF 8 Beige|Flawless Finish Bare Perfection Makeup SPF 8 Bisque|Flawless Finish Bare Perfection Makeup SPF 8 Cameo|Flawless Finish Bare Perfection Makeup SPF 8 Cream|Flawless Finish Bare Perfection Makeup SPF 8 Honey|Flawless Finish Bare Perfection Makeup SPF 8 Ivory|Flawless Finish Bare Perfection Makeup SPF 8 Mocha|Flormar Perfect Coverage Foundation 118 Dark Brown|Fresh Mint Moisturizing Sunscreen Lip Balm SPF 15|MINERALIZESATIN FOUNDATION SPF 15 FOUNDATION|Pretty by Flormar Cover up Foundation 007 Neutral|Pretty by Flormar Cover up Foundation 013 Caramel|Pretty by Flormar Mattifying Foundation 007 Neutral|Pretty by Flormar Mattifying Foundation 013 Caramel|Pretty by Flormar Weigthless Foundation 007 Neutral|Pretty by Flormar Weigthless Foundation 013 Caramel|Protective Makeup SPF 15 with Edelwess Stem Cells|RAIN AND SHINE LIPTINTWITH SPF 10 SUNSCREEN|Skin Caviar Foundation Sunscreen SPF 15-Pure Ivory|Skin Caviar Foundation Sunscreen SPF 15-Soft Ivory|Skin Caviar Foundation Sunscreen SPF 15-Warm Beige|Skin Caviar Foundation Sunscreen SPF 15-Warm Ivory|Skin Caviar Foundation Sunscreen SPF 15-Warm Linen|SR-01000883955-1|Sweet Berry Moisturizing Sunscreen Lip Balm SPF 15|Flawless Finish Bare Perfection Makeup SPF 8 Camellia|Flormar Perfect Coverage Foundation 117 Dark Caramel|Pretty by Flormar Cover up Foundation 001 Porcelain|Pretty by Flormar Cover up Foundation 005 Soft Beige|Pretty by Flormar Mattifying Foundation 001 Porcelain|Pretty by Flormar Weigthless Foundation 001Porcelain|SHISEIDO FUTURE LX TOTAL RADIANCE FOUNDATION E|Skin Caviar Foundation Sunscreen SPF 15-Creme Peche|Skin Caviar Foundation Sunscreen SPF 15-Golden Beige|Skin Caviar Foundation Sunscreen SPF 15-Honey Beige|Skin Caviar Foundation Sunscreen SPF 15-Soleil Peche|Skin Caviar Foundation Sunscreen SPF 15-Tender Ivory|True Color Flawless Cream To Powder Foundation SPF15|CLE DE PEAU BEAUTE REFINING FLUID FOUNDATIONB10|CLE DE PEAU BEAUTE REFININ",
         "290.4",
         "C18H26O3",
         "35.5",
         "304.0",
         "5.3",
         "21",
         "0",
         "3",
         "10",
         "InChI=1S/C18H26O3/c1-4-6-7-15(5-2)14-21-18(19)13-10-16-8-11-17(20-3)12-9-16/h8-13,15H,4-7,14H2,1-3H3/b13-10+",
         "CCCCC(CC)COC(=O)/C=C/C1=CC=C(C=C1)OC",
         "CCCCC(CC)COC(=O)C=CC1=CC=C(C=C1)OC",
         "YBGZDTIWKVFICR-JLHYYAGUSA-N",
         "2-ethylhexyl (E)-3-(4-methoxyphenyl)prop-2-enoate",
         "290.188",
         "290.188",
         "0",
         "1",
         "0",
         "1",
         "0",
         "1",
         "1",
         "1",
         "0",
         "298",
         "61231",
         "19797",
         null,
         "Biological Test Results|Interactions and Pathways|Chemical and Physical Properties|Classification|Drug and Medication Information|Identification|Literature|Patents|Pharmacology and Biochemistry|Safety and Hazards|Toxicity|Use and Manufacturing|Associated Disorders and Diseases|Spectral Information|Taxonomy|Biological Test Results: Active|Biological Test Results: Micromolar",
         "17",
         "880|1469|1471|1479|1487|1490|1688|1766|1768|2528|2546|2551|2662|485290|492961|504327|504332|504749|504832|504834|504847|504865|588209|588210|588579|588834|602332|624030|624031|624032|624044|624170|624172|624173|624296|624297|625295|651631|651632|651633|651634|651635|652048|652051|686978|686979|720516|720532|720533|720552|720634|720635|720637|720674|720675|720678|720679|720680|720681|720682|720683|720684|720685|720686|720687|720691|720692|720693|720719|720725|743012|743014|743015|743033|743035|743036|743040|743041|743042|743053|743054|743063|743064|743065|743066|743067|743069|743074|743075|743077|743078|743079|743080|743081|743083|743084|743085|743086|743091|743094|743122|743139|743140|743191|743194|743199|743202|743203|743209|743210|743211|743212|743213|743215|743217|743218|743219|743220|743221|743222|743223|743224|743225|743226|743227|743228|743239|743240|743241|743242|743244|1117298|1117304|1117305|1117310|1117312|1117314|1117326|1117329|1117336|1117340|1117341|1117342|1117343|1117346|1159509|1159515|1159516|1159517|1159518|1159519|1159520|1159521|1159523|1159525|1159526|1159527|1159528|1159529|1159531|1159551|1159552|1159553|1159555|1159614|1178161|1224834|1224835|1224836|1224837|1224838|1224839|1224840|1224841|1224842|1224843|1224844|1224845|1224846|1224847|1224848|1224849|1224857|1224859|1224867|1224868|1224869|1224870|1224871|1224872|1224873|1224874|1224875|1224876|1224877|1224878|1224879|1224880|1224881|1224882|1224883|1224884|1224885|1224886|1224887|1224888|1224889|1224890|1224892|1224893|1224894|1224895|1224896|1259241|1259242|1259243|1259244|1259247|1259248|1259251|1259310|1259344|1259355|1259356|1259364|1259365|1259366|1259367|1259368|1259369|1259374|1259377|1259378|1259379|1259380|1259381|1259382|1259383|1259384|1259385|1259386|1259387|1259388|1259390|1259391|1259392|1259393|1259394|1259395|1259396|1259400|1259401|1259402|1259403|1259404|1259415|1259422|1296008|1296009|1345084|1345199|1346378|1346428|1346784|1346795|1346798|1346799|1346824|1346829|1346859|1346877|1346891|1346924|1346977|1346978|1346979|1346980|1346981|1346982|1346983|1346984|1346985|1346986|1346987|1347030|1347031|1347032|1347033|1347034|1347035|1347036|1347037|1347038|1347053|1347055|1347082|1347083|1347085|1347086|1347089|1347090|1347091|1347092|1347093|1347094|1347095|1347096|1347097|1347098|1347099|1347100|1347101|1347102|1347103|1347104|1347105|1347106|1347107|1347108|1347154|1347395|1347397|1347398|1347399|1347407|1347424|1347425|1479145|1479147|1479149|1479150|1508602|1508616|1508620|1508623|1508624|1508630|1645839|1645840|1645841|1645842|1645845|1645846|1645851|1645870|1645876|1645877|1645882|1645883|1645886|1645887|1671188|1671190|1671193|1671194|1671196|1671197|1671198|1671199|1671200|1671201|1745845|1745856|1745857|1845191|1845192|1919968|1919969|1919970|1920063|1920064|1920065|1920067|1920068|1963577|1963578|1963579|1963580|1963581|1963582|1963583|1963584|1963585|1963596",
         "20050326",
         "001Chemical|10X CHEM|3B Scientific (Wuhan) Corp|3WAY PHARM INC|A2B Chem|AA BLOCKS|Aaron Chemicals LLC|AbaChemScene|abcr GmbH|ABI Chem|AbMole Bioscience|AbovChem LLC|Acadechem|Achemo Scientific Limited|Achemtek|Acmec Biochemical|AK Scientific, Inc. (AKSCI)|AKos Consulting & Solutions|Aladdin|Alfa Chemistry|Alichem|Amadis Chemical|Ambeed|AN PharmaTech|AstaTech, Inc.|BenchChem|Bic Biotech|BLD Pharm|BOC Sciences|Center for Chemical Genomics, University of Michigan|ChEBI|Chem-Space.com Database|Chembase.cn|ChEMBL|Chemenu Inc.|ChemFaces|ChemIDplus|Chemieliva Pharmaceutical Co., Ltd|ChemMol|ChemSpider|Collaborative Drug Discovery, Inc.|Combi-Blocks|Comparative Toxicogenomics Database (CTD)|CymitQuimica|DiscoveryGate|DrugBank|DrugCentral|DTP/NCI|Egon Willighagen, Department of Bioinformatics - BiGCaT, Maastricht University|eMolecules|Enamine|eNovation Chemicals|EPA DSSTox|EPA Substance Registry Services|FDA Global Substance Registration System (GSRS)|Finetech Industry Limited|Founder Pharma|Frinton Laboratories|Google Patents|Human Metabolome Database (HMDB)|IBM|J&H Chemical Co.,ltd|Japan Chemical Substance Dictionary (Nikkaji)|KEGG|Key Organics/BIONET|LabNetwork, a WuXi AppTec Company|labseeker|LeadScope|LGC Standards|MassBank Europe|MassBank of North America (MoNA)|Matrix Scientific|Mcule|MedChemexpress MCE|MLSMR|Molepedia|MolPort|MuseChem|National Center for Advancing Translational Sciences (NCATS)|NextBio|NextMove Software|NIST Mass Spectrometry Data Center|NORMAN Suspect List Exchange|NovoSeek|Oakwood Products|Parchem|PATENTSCOPE (WIPO)|Pi Chemicals|Probes & Drugs portal|PubChem Reference Collection|R&D Chemicals|RR Scientific|Santa Cruz Biotechnology, Inc.|SCRIPDB|Selleck Chemicals|Sigma-Aldrich|Sinfoo Biotech|Smolecule|Springer Nature|Starshine Chemical|SureChEMBL|Syntree|TargetMol|TCI (Tokyo Chemical Industry)|THE BioTek|The Scripps Research Institute Molecular Screening Center|Thermo Fisher Scientific|Thieme Chemistry|Thomson Pharma|TimTec|Tox21|ToxPlanet|Tractus|VladaChem|VWR, Part of Avantor|Wikidata|Wiley|Win-Win Chemical|Wubei-Biochem|Yick-Vic Chemicals & Pharmaceuticals (HK) Ltd.|Yuhao Chemical|ZeroPM - Zero Pollution of Persistent, Mobile Substances",
         "Chemical Vendors|Curation Efforts|Governmental Organizations|Journal Publishers|Legacy Depositors|NIH Initiatives|Research and Development|Subscription Services",
         "C1892 - Chemopreventive Agent > C851 - Sunscreen|D - Dermatologicals > D02 - Emollients and protectives > D02B - Protectives against uv-radiation > D02BA - Protectives against uv-radiation for topical use|D003358 - Cosmetics|D003879 - Dermatologic Agents|D020011 - Protective Agents > D011837 - Radiation-Protective Agents > D013473 - Sunscreening Agents"
        ],
        [
         "3",
         "8846",
         "Butyl Acrylate",
         "BUTYL ACRYLATE|141-32-2|n-Butyl acrylate|butyl prop-2-enoate|2-Propenoic acid, butyl ester|n-Butyl propenoate|Acrylic acid butyl ester|Butyl 2-propenoate|butylacrylate|Acrylic acid, butyl ester|Butyl acrylate resin|Acrylic acid n-butyl ester|Butylester kyseliny akrylove|2-propenoic acid butyl ester|Butyl acrylate, n-|9003-49-0|CCRIS 3401|HSDB 305|NSC 5163|EINECS 205-480-7|UNII-705NM8U35V|BRN 1749970|CHEBI:3245|DTXSID6024676|AI3-15739|705NM8U35V|NSC-5163|Acrylic acid, n-butyl ester|DTXCID104676|EC 205-480-7|4-02-00-01463 (Beilstein Handbook Reference)|N-BUTYL ACRYLATE (IARC)|N-BUTYL ACRYLATE [IARC]|n-butylacrylate|CAS-141-32-2|Butylester kyseliny akrylove [Czech]|UN2348|n-butyl acrylat|Butyl propenoate|n-butyl-acrylate|Acrylate de butyle|Acrylsaeurebutylester|normal butyl acrylate|Acrilato de n-butilo|n-Butyl-2-propenoate|PERM GLUE|Butylacrylate, inhibited|Propensaure-n-butylester|Acrylic acid-butyl ester|BUTYL 2-PROPENATE|Butyl acrylates, inhibited|BUTYL-2-PROPENOATE|SCHEMBL15037|N-BUTYL 2-PROPENOATE|n-Butyl acrylate, AR,99%|n-Butyl acrylate, CP,98%|BIDD:ER0366|BUTYL ACRYLATE [HSDB]|WLN: 4OV1U1|N-BUTYL ACRYLATE [MI]|2-propenoic acid n-butyl ester|CHEMBL1546388|BUTYL ACRYLATE, STABILIZED|NSC5163|BUTYL ACRYLATES, STABILIZED|Butyl acrylate, analytical standard|Tox21_201387|Tox21_303296|MFCD00009446|STL280321|Butyl Acrylate, stabilized with MEHQ|AKOS000120041|Butyl Acrylate (stabilized with MEHQ)|UN 2348|NCGC00091107-01|NCGC00091107-02|NCGC00256946-01|NCGC00258938-01|BP-20380|LS-13309|Butyl acrylate, purum, >=99.0% (GC)|A0142|NS00007563|Butyl acrylate, SAJ first grade, >=99.0%|EN300-19865|A807751|A845377|Q343005|J-007481|J-519959|Butyl acrylates, inhibited [UN2348]  [Flammable liquid]|Butyl acrylate, >=99%, contains 10-60 ppm monomethyl ether hydroquinone as inhibitor",
         "128.169",
         "C7H12O2",
         "26.3",
         "97.1",
         "2.4",
         "9",
         "0",
         "2",
         "5",
         "InChI=1S/C7H12O2/c1-3-5-6-9-7(8)4-2/h4H,2-3,5-6H2,1H3",
         "CCCCOC(=O)C=C",
         "CCCCOC(=O)C=C",
         "CQEYYJKEWSMYFG-UHFFFAOYSA-N",
         "butyl prop-2-enoate",
         "128.084",
         "128.084",
         "0",
         "1",
         "0",
         "0",
         "0",
         "0",
         "0",
         "0",
         "0",
         "3452",
         "161905",
         "68033",
         null,
         "Biological Test Results|Chemical and Physical Properties|Classification|Drug and Medication Information|Food Additives and Ingredients|Identification|Literature|Patents|Pharmacology and Biochemistry|Safety and Hazards|Toxicity|Use and Manufacturing|Associated Disorders and Diseases|Spectral Information|Biological Test Results: Active|Biological Test Results: Micromolar",
         "16",
         "421|426|427|433|434|435|445|530|540|541|542|543|544|545|546|584|585|595|596|603|605|654|655|656|657|658|659|660|661|662|663|664|665|666|667|875|880|881|884|885|886|887|889|892|893|894|900|902|912|921|923|924|925|926|938|946|947|948|955|960|961|962|963|964|965|966|967|968|969|970|971|972|973|974|975|976|977|978|979|980|981|982|983|984|985|986|987|988|989|993|994|995|1030|1452|1457|1458|1469|1471|1476|1477|1478|1479|1948|2101|2107|2112|2120|2517|2546|2549|2551|485290|588513|588514|588515|588516|588526|588527|588532|588533|588534|588535|588536|588537|588541|588543|588544|588545|588546|588547|588834|651631|651632|651633|651634|651741|651743|651749|651751|651754|651755|651757|651758|651777|651778|651802|651838|720516|720552|720634|720635|720636|720637|720652|720653|720659|720674|720675|720678|720679|720680|720681|720682|720683|720684|720685|720686|720687|720691|720692|720693|720719|720725|743012|743014|743015|743033|743035|743036|743040|743041|743042|743053|743054|743063|743064|743065|743066|743067|743069|743074|743075|743077|743078|743079|743080|743081|743083|743084|743085|743086|743091|743094|743122|743139|743140|743191|743194|743199|743202|743203|743209|743210|743211|743212|743213|743215|743217|743218|743219|743220|743221|743222|743223|743224|743225|743226|743227|743228|743239|743240|743241|743242|743288|743292|1159509|1159515|1159516|1159517|1159518|1159519|1159520|1159521|1159523|1159525|1159526|1159527|1159528|1159529|1159531|1159551|1159552|1159553|1159555|1224834|1224835|1224836|1224837|1224838|1224839|1224840|1224841|1224842|1224843|1224844|1224845|1224846|1224847|1224848|1224849|1224867|1224868|1224869|1224870|1224871|1224872|1224873|1224874|1224875|1224876|1224877|1224878|1224879|1224880|1224881|1224882|1224883|1224884|1224885|1224886|1224887|1224888|1224889|1224890|1224892|1224893|1224894|1224895|1224896|1259241|1259242|1259243|1259244|1259247|1259248|1259364|1259365|1259366|1259367|1259368|1259369|1259377|1259378|1259379|1259380|1259381|1259382|1259383|1259384|1259385|1259386|1259387|1259388|1259390|1259391|1259392|1259393|1259394|1259395|1259396|1259401|1259402|1259403|1259404|1259407|1259411|1346784|1346795|1346798|1346799|1346824|1346829|1346859|1346877|1346891|1346924|1346977|1346978|1346979|1346980|1346981|1346982|1347030|1347031|1347032|1347033|1347034|1347035|1347036|1347037|1347038|1347395|1347397|1347398|1347399|1466498|1469819|1671196|1671197|1671198|1671199|1671200|1671201|1919968|1919969|1919970|1920063|1920064|1920065|1920067|1920068|1963577|1963578|1963579|1963580|1963581|1963582|1963583|1963584|1963585",
         "20040916",
         "001Chemical|10X CHEM|1st Scientific|3B Scientific (Wuhan) Corp|A&J Pharmtech CO., LTD.|A2B Chem|AA BLOCKS|AAA Chemistry|abcr GmbH|ABI Chem|Acadechem|Achemica|Achemo Scientific Limited|Achemtek|Acmec Biochemical|AK Scientific, Inc. (AKSCI)|AKos Consulting & Solutions|Alfa Chemistry|Amadis Chemical|Ambinter|AN PharmaTech|Angene Chemical|Anward|Aurora Fine Chemicals LLC|BenchChem|Bic Biotech|BIDD|Biosynth|BOC Sciences|BroadPharm|CAPOT|ChEBI|Chem-Space.com Database|Chembase.cn|ChEMBL|ChemDB|ChemExper Chemical Directory|Chemical Carcinogenesis Research Information System (CCRIS)|Chemical Synthesis Database|ChemIDplus|Chemieliva Pharmaceutical Co., Ltd|Cheminformatics Friedrich-Schiller-University Jena|ChemMol|ChemSpider|ChemTik|China MainChem Co., Ltd|CHIRALEN|Cooke Chemical Co., Ltd|CymitQuimica|DiscoveryGate|DTP/NCI|ECI Group, LCSB, University of Luxembourg|Egon Willighagen, Department of Bioinformatics - BiGCaT, Maastricht University|eMolecules|Enamine|EPA DSSTox|EPA Substance Registry Services|EvitaChem|FDA Global Substance Registration System (GSRS)|Google Patents|Hairui Chemical|Human Metabolome Database (HMDB)|Hunan Chemfish Pharmaceutical Co., Ltd.|IBM|iChemical Technology USA Inc|ISpharm|J&H Chemical Co.,ltd|Japan Chemical Substance Dictionary (Nikkaji)|KEGG|Key Organics/BIONET|King Scientific|LeadScope|LEAPCHEM|LGC Standards|MassBank Europe|MassBank of North America (MoNA)|Mcule|Metabolomics Workbench|MolCore|Molecule Market|Molepedia|MolPort|MP Biomedicals|MuseChem|National Center for Advancing Translational Sciences (NCATS)|Nature Chemistry|Nature Synthesis|NextBio|NextMove Software|NIAID ChemDB|NIST Chemistry WebBook|NIST Mass Spectrometry Data Center|NORMAN Suspect List Exchange|NovoSeek|Oakwood Products|Parchem|PATENTSCOPE (WIPO)|PubChem Reference Collection|RR Scientific|Santa Cruz Biotechnology, Inc.|SCRIPDB|Sigma-Aldrich|Sinfoo Biotech|SLING Consortium|Smolecule|SPECIFIC POLYMERS (SP)|Springer Nature|SpringerMaterials|Starshine Chemical|SureChEMBL|SynQuest Laboratories|TCI (Tokyo Chemical Industry)|THE BioTek|Thermo Fisher Scientific|Thieme Chemistry|Thomson Pharma|Tox21|ToxPlanet|Tractus|Vitas-M Laboratory|VladaChem|VWR, Part of Avantor|Wikidata|Wiley|Win-Win Chemical|Wubei-Biochem|Wutech|Yick-Vic Chemicals & Pharmaceuticals (HK) Ltd.|Yuhao Chemical|ZeroPM - Zero Pollution of Persistent, Mobile Substances|ZINC|Zjartschem",
         "Chemical Vendors|Curation Efforts|Governmental Organizations|Journal Publishers|Legacy Depositors|NIH Initiatives|Research and Development|Subscription Services",
         null
        ],
        [
         "4",
         "8821",
         "Ethyl acrylate",
         "ETHYL ACRYLATE|140-88-5|Acrylic acid ethyl ester|ethyl prop-2-enoate|Ethyl propenoate|2-Propenoic acid, ethyl ester|Ethyl 2-propenoate|Ethylacrylaat|Ethylakrylat|Etil acrilato|Ethyl acrylate, inhibited|Aethylacrylat|Etilacrilatului|Ethoxycarbonylethylene|Acrylic acid, ethyl ester|Acrylate d'ethyle|Carboset 511|Akrylanem etylu|Acrylsaeureaethylester|Ethyl acrylate (inhibited)|Ethyl propenoate, inhibited|NCI-C50384|FEMA No. 2418|FEMA Number 2418|Ethyl acrylate (natural)|Acrylic acid, ethyl ester (inhibited)|Etilacrilatului [Romanian]|RCRA waste number U113|Ethylester kyseliny akrylove|NSC 8263|9003-32-1|CCRIS 248|2-Propenoic Acid Ethyl Ester|HSDB 193|ETHYL-D5 ACRYLATE|EINECS 205-438-8|ethyl 2E-propenoate|BRN 0773866|DTXSID4020583|UNII-71E6178C9T|AI3-15734|NSC-8263|Etilacrilatului(roumanian)|CH2=CHCOOC2H5|71E6178C9T|DTXCID00583|CHEBI:82327|Ethyl ester of 2-propenoic acid|EC 205-438-8|35717-06-7|4-02-00-01460 (Beilstein Handbook Reference)|WE(2:0/3:1(2E))|Ethyl Acrylate (Stabilized with 4-methoxyphenol)|ETHYL ACRYLATE (IARC)|ETHYL ACRYLATE [IARC]|Ethylakrylat [Czech]|Ethylacrylaat [Dutch]|Aethylacrylat [German]|Ethylacrylate|Etil acrilato [Italian]|Akrylanem etylu [Polish]|Acrylate d'ethyle [French]|Acrylsaeureaethylester [German]|Ethylester kyseliny akrylove [Czech]|UN1917|RCRA waste no. U113|Acrylic acid-ethyl ester|SCHEMBL3180|ETHYL ACRYLATE [MI]|ETHYL ACRYLATE [FCC]|CHEMBL52084|ETHYL ACRYLATE [FHFI]|ETHYL ACRYLATE [HSDB]|WLN: 2OV1U1|Ethyl acrylate, inhibited [UN1917] [Flammable liquid]|FEMA 2418|FEMA-2418|NSC8263|Ethyl acrylate, analytical standard|AMY40211|BCP06341|Tox21_202513|BBL011497|LMFA07010505|MFCD00009188|STL146609|Ethyl Acrylate, stabilized with MEHQ|AKOS005721113|Ethyl Acrylate (stabilized with MEHQ)|NCGC00091041-01|NCGC00260062-01|CAS-140-88-5|VS-02962|Ethyl acrylate, purum, >=99.0% (GC)|Propenoic acid,ethyl ester (ethylacrylate)|DB-042537|Ethyl Acrylate 1000 microg/mL in Methanol|A0143|Ethyl acrylate, >=99.5%, stabilized, FG|NS00006376|EN300-19964|Ethyl acrylate, SAJ first grade, >=99.0%|C19238|Ethyl Acrylate stabilized with 10 - 20 ppm MEHQ|Q343014|J-007427|PROPENOIC ACID,ETHYL ESTER  (ETHYLACRYLATE)|Ethyl acrylate, inhibited [UN1917]  [Flammable liquid]|F1908-0175|Ethyl acrylate, contains 10-20 ppm MEHQ as inhibitor, 99%|InChI=1/C5H8O2/c1-3-5(6)7-4-2/h3H,1,4H2,2H|2-Propenoic acid, 1,1'-((dihydro-5-(2-hydroxyethyl)-2,4,6-trioxo-1,3,5-triazine-1,3(2H,4H)-diyl)di-2,1-ethanediyl) ester",
         "100.12",
         "C5H8O2",
         "26.3",
         "76.1",
         "1.3",
         "7",
         "0",
         "2",
         "3",
         "InChI=1S/C5H8O2/c1-3-5(6)7-4-2/h3H,1,4H2,2H3",
         "CCOC(=O)C=C",
         "CCOC(=O)C=C",
         "JIGUQPWFLRLWPJ-UHFFFAOYSA-N",
         "ethyl prop-2-enoate",
         "100.052",
         "100.052",
         "0",
         "1",
         "0",
         "0",
         "0",
         "0",
         "0",
         "0",
         "0",
         "2495",
         "43681",
         "22209",
         null,
         "Biological Test Results|Interactions and Pathways|Chemical and Physical Properties|Classification|Food Additives and Ingredients|Identification|Literature|Patents|Pharmacology and Biochemistry|Safety and Hazards|Toxicity|Use and Manufacturing|Associated Disorders and Diseases|Spectral Information|Taxonomy|Biological Test Results: Active",
         "16",
         "421|426|427|433|434|435|445|530|540|541|542|543|544|545|546|584|585|595|596|603|605|654|655|656|657|658|659|660|661|662|663|664|665|666|667|875|880|881|884|885|886|887|889|892|893|894|900|902|912|921|923|924|925|926|938|946|947|948|955|960|961|962|963|964|965|966|967|968|969|970|971|972|973|974|975|976|977|978|979|980|981|982|983|984|985|986|987|988|989|993|994|995|1030|1189|1194|1199|1205|1208|1452|1457|1458|1469|1471|1476|1477|1478|1479|1948|2101|2107|2112|2120|2517|2546|2549|2551|174708|485290|588513|588514|588515|588516|588526|588527|588532|588533|588534|588535|588536|588537|588541|588543|588544|588545|588546|588547|588834|651631|651632|651633|651634|651741|651743|651749|651751|651754|651755|651757|651758|651777|651778|651802|651838|720516|720552|720634|720635|720636|720637|720652|720653|720659|720674|720675|720678|720679|720680|720681|720682|720683|720684|720685|720686|720687|720691|720692|720693|720719|720725|743012|743014|743015|743033|743035|743036|743040|743041|743042|743053|743054|743063|743064|743065|743066|743067|743069|743074|743075|743077|743078|743079|743080|743081|743083|743084|743085|743086|743091|743094|743122|743139|743140|743191|743194|743199|743202|743203|743209|743210|743211|743212|743213|743215|743217|743218|743219|743220|743221|743222|743223|743224|743225|743226|743227|743228|743239|743240|743241|743242|743288|743292|1159509|1159515|1159516|1159517|1159518|1159519|1159520|1159521|1159523|1159525|1159526|1159527|1159528|1159529|1159531|1159551|1159552|1159553|1159555|1224834|1224835|1224836|1224837|1224838|1224839|1224840|1224841|1224842|1224843|1224844|1224845|1224846|1224847|1224848|1224849|1224867|1224868|1224869|1224870|1224871|1224872|1224873|1224874|1224875|1224876|1224877|1224878|1224879|1224880|1224881|1224882|1224883|1224884|1224885|1224886|1224887|1224888|1224889|1224890|1224892|1224893|1224894|1224895|1224896|1259241|1259242|1259243|1259244|1259247|1259248|1259364|1259365|1259366|1259367|1259368|1259369|1259377|1259378|1259379|1259380|1259381|1259382|1259383|1259384|1259385|1259386|1259387|1259388|1259390|1259391|1259392|1259393|1259394|1259395|1259396|1259401|1259402|1259403|1259404|1259407|1259408|1259411|1346784|1346795|1346798|1346799|1346824|1346829|1346859|1346877|1346891|1346924|1346977|1346978|1346979|1346980|1346981|1346982|1347030|1347031|1347032|1347033|1347034|1347035|1347036|1347037|1347038|1347395|1347397|1347398|1347399|1469819|1671196|1671197|1671198|1671199|1671200|1671201|1745844|1919968|1919969|1919970|1920063|1920064|1920065|1920067|1920068|1963577|1963578|1963579|1963580|1963581|1963582|1963583|1963584|1963585",
         "20050326",
         "10X CHEM|1st Scientific|3B Scientific (Wuhan) Corp|A&J Pharmtech CO., LTD.|A2B Chem|AA BLOCKS|AAA Chemistry|abcr GmbH|ABI Chem|Acadechem|Achemica|AHH Chemical co.,ltd|AK Scientific, Inc. (AKSCI)|AKos Consulting & Solutions|Alfa Chemistry|Amadis Chemical|Ambinter|AN PharmaTech|Angene Chemical|Anward|Apexmol|Ark Pharma Scientific Limited|BenchChem|Bic Biotech|BioChemPartner|Biocore|Biosynth|BOC Sciences|Cangzhou Enke Pharma Tech Co.,Ltd.|Carcinogenic Potency Database (CPDB)|CD Formulation|ChEBI|Chem-Space.com Database|Chembase.cn|ChEMBL|Chemchart|ChemDB|ChemExper Chemical Directory|Chemical Carcinogenesis Research Information System (CCRIS)|ChemIDplus|Chemieliva Pharmaceutical Co., Ltd|Cheminformatics Friedrich-Schiller-University Jena|ChemMol|ChemSpider|ChemTik|CHIRALEN|Clearsynth|Comparative Toxicogenomics Database (CTD)|Cooke Chemical Co., Ltd|CymitQuimica|Debye Scientific Co., Ltd|DiscoveryGate|DTP/NCI|ECI Group, LCSB, University of Luxembourg|Egon Willighagen, Department of Bioinformatics - BiGCaT, Maastricht University|eMolecules|Enamine|EPA DSSTox|EPA Substance Registry Services|EvitaChem|FDA Global Substance Registration System (GSRS)|Genetic Toxicology Data Bank (GENE-TOX)|Google Patents|Hairui Chemical|Human Metabolome Database (HMDB)|IBM|iChemical Technology USA Inc|ISpharm|J&H Chemical Co.,ltd|Japan Chemical Substance Dictionary (Nikkaji)|KEGG|Key Organics/BIONET|King Scientific|Kingston Chemistry|labseeker|Lan Pharmatech|LeadScope|LEAPCHEM|LGC Standards|Life Chemicals|LIPID MAPS|MassBank Europe|MassBank of North America (MoNA)|Matrix Scientific|Mcule|Metabolomics Workbench|MolCore|Molepedia|MolPort|MuseChem|National Center for Advancing Translational Sciences (NCATS)|Nature Synthesis|NextBio|NextMove Software|NIST Chemistry WebBook|NIST Mass Spectrometry Data Center|NMRShiftDB|NORMAN Suspect List Exchange|NovoSeek|Oakwood Products|OChem|OtavaChemicals|Parchem|PATENTSCOPE (WIPO)|PubChem Reference Collection|Rare Chemicals GmbH, Germany|RR Scientific|Santa Cruz Biotechnology, Inc.|SCRIPDB|Sigma-Aldrich|Sinfoo Biotech|SLING Consortium|Smolecule|SPECIFIC POLYMERS (SP)|Springer Nature|SpringerMaterials|Starshine Chemical|SureChEMBL|TCI (Tokyo Chemical Industry)|THE BioTek|Thermo Fisher Scientific|Thieme Chemistry|Thomson Pharma|TimTec|Tox21|ToxPlanet|Tractus|Vitas-M Laboratory|VladaChem|VWR, Part of Avantor|Wikidata|Wiley|Win-Win Chemical|Wolves R&D chemical|Wubei-Biochem|Wutech|Yick-Vic Chemicals & Pharmaceuticals (HK) Ltd.|Yuhao Chemical|ZeroPM - Zero Pollution of Persistent, Mobile Substances|ZINC",
         "Chemical Vendors|Curation Efforts|Governmental Organizations|Journal Publishers|Legacy Depositors|NIH Initiatives|Research and Development|Subscription Services",
         "D009676 - Noxae > D002273 - Carcinogens|D009676 - Noxae > D009153 - Mutagens"
        ]
       ],
       "shape": {
        "columns": 39,
        "rows": 5
       }
      },
      "text/html": [
       "<div>\n",
       "<style scoped>\n",
       "    .dataframe tbody tr th:only-of-type {\n",
       "        vertical-align: middle;\n",
       "    }\n",
       "\n",
       "    .dataframe tbody tr th {\n",
       "        vertical-align: top;\n",
       "    }\n",
       "\n",
       "    .dataframe thead th {\n",
       "        text-align: right;\n",
       "    }\n",
       "</style>\n",
       "<table border=\"1\" class=\"dataframe\">\n",
       "  <thead>\n",
       "    <tr style=\"text-align: right;\">\n",
       "      <th></th>\n",
       "      <th>cid</th>\n",
       "      <th>cmpdname</th>\n",
       "      <th>cmpdsynonym</th>\n",
       "      <th>mw</th>\n",
       "      <th>mf</th>\n",
       "      <th>polararea</th>\n",
       "      <th>complexity</th>\n",
       "      <th>xlogp</th>\n",
       "      <th>heavycnt</th>\n",
       "      <th>hbonddonor</th>\n",
       "      <th>...</th>\n",
       "      <th>gpidcnt</th>\n",
       "      <th>gpfamilycnt</th>\n",
       "      <th>meshheadings</th>\n",
       "      <th>annothits</th>\n",
       "      <th>annothitcnt</th>\n",
       "      <th>aids</th>\n",
       "      <th>cidcdate</th>\n",
       "      <th>sidsrcname</th>\n",
       "      <th>depcatg</th>\n",
       "      <th>annotation</th>\n",
       "    </tr>\n",
       "  </thead>\n",
       "  <tbody>\n",
       "    <tr>\n",
       "      <th>0</th>\n",
       "      <td>6581</td>\n",
       "      <td>Acrylic acid</td>\n",
       "      <td>ACRYLIC ACID|2-Propenoic acid|79-10-7|prop-2-e...</td>\n",
       "      <td>72.060</td>\n",
       "      <td>C3H4O2</td>\n",
       "      <td>37.3</td>\n",
       "      <td>55.9</td>\n",
       "      <td>0.3</td>\n",
       "      <td>5</td>\n",
       "      <td>1</td>\n",
       "      <td>...</td>\n",
       "      <td>464476</td>\n",
       "      <td>263916</td>\n",
       "      <td>NaN</td>\n",
       "      <td>Biological Test Results|Interactions and Pathw...</td>\n",
       "      <td>18</td>\n",
       "      <td>155|157|161|165|167|175|192|248|256|328|880|11...</td>\n",
       "      <td>20040916</td>\n",
       "      <td>001Chemical|10X CHEM|1st Scientific|3B Scienti...</td>\n",
       "      <td>Chemical Vendors|Curation Efforts|Governmental...</td>\n",
       "      <td>D001697 - Biomedical and Dental Materials &gt; D0...</td>\n",
       "    </tr>\n",
       "    <tr>\n",
       "      <th>1</th>\n",
       "      <td>13165</td>\n",
       "      <td>2-Hydroxyethyl acrylate</td>\n",
       "      <td>2-HYDROXYETHYL ACRYLATE|818-61-1|Hydroxyethyl ...</td>\n",
       "      <td>116.110</td>\n",
       "      <td>C5H8O3</td>\n",
       "      <td>46.5</td>\n",
       "      <td>87.7</td>\n",
       "      <td>-0.2</td>\n",
       "      <td>8</td>\n",
       "      <td>1</td>\n",
       "      <td>...</td>\n",
       "      <td>23270</td>\n",
       "      <td>12260</td>\n",
       "      <td>NaN</td>\n",
       "      <td>Biological Test Results|Interactions and Pathw...</td>\n",
       "      <td>17</td>\n",
       "      <td>421|426|427|433|434|435|445|530|540|541|542|54...</td>\n",
       "      <td>20050327</td>\n",
       "      <td>001Chemical|10X CHEM|3B Scientific (Wuhan) Cor...</td>\n",
       "      <td>Chemical Vendors|Curation Efforts|Governmental...</td>\n",
       "      <td>NaN</td>\n",
       "    </tr>\n",
       "    <tr>\n",
       "      <th>2</th>\n",
       "      <td>5355130</td>\n",
       "      <td>Octinoxate</td>\n",
       "      <td>Octinoxate|5466-77-3|83834-59-7|2-Ethylhexyl 4...</td>\n",
       "      <td>290.400</td>\n",
       "      <td>C18H26O3</td>\n",
       "      <td>35.5</td>\n",
       "      <td>304.0</td>\n",
       "      <td>5.3</td>\n",
       "      <td>21</td>\n",
       "      <td>0</td>\n",
       "      <td>...</td>\n",
       "      <td>61231</td>\n",
       "      <td>19797</td>\n",
       "      <td>NaN</td>\n",
       "      <td>Biological Test Results|Interactions and Pathw...</td>\n",
       "      <td>17</td>\n",
       "      <td>880|1469|1471|1479|1487|1490|1688|1766|1768|25...</td>\n",
       "      <td>20050326</td>\n",
       "      <td>001Chemical|10X CHEM|3B Scientific (Wuhan) Cor...</td>\n",
       "      <td>Chemical Vendors|Curation Efforts|Governmental...</td>\n",
       "      <td>C1892 - Chemopreventive Agent &gt; C851 - Sunscre...</td>\n",
       "    </tr>\n",
       "    <tr>\n",
       "      <th>3</th>\n",
       "      <td>8846</td>\n",
       "      <td>Butyl Acrylate</td>\n",
       "      <td>BUTYL ACRYLATE|141-32-2|n-Butyl acrylate|butyl...</td>\n",
       "      <td>128.169</td>\n",
       "      <td>C7H12O2</td>\n",
       "      <td>26.3</td>\n",
       "      <td>97.1</td>\n",
       "      <td>2.4</td>\n",
       "      <td>9</td>\n",
       "      <td>0</td>\n",
       "      <td>...</td>\n",
       "      <td>161905</td>\n",
       "      <td>68033</td>\n",
       "      <td>NaN</td>\n",
       "      <td>Biological Test Results|Chemical and Physical ...</td>\n",
       "      <td>16</td>\n",
       "      <td>421|426|427|433|434|435|445|530|540|541|542|54...</td>\n",
       "      <td>20040916</td>\n",
       "      <td>001Chemical|10X CHEM|1st Scientific|3B Scienti...</td>\n",
       "      <td>Chemical Vendors|Curation Efforts|Governmental...</td>\n",
       "      <td>NaN</td>\n",
       "    </tr>\n",
       "    <tr>\n",
       "      <th>4</th>\n",
       "      <td>8821</td>\n",
       "      <td>Ethyl acrylate</td>\n",
       "      <td>ETHYL ACRYLATE|140-88-5|Acrylic acid ethyl est...</td>\n",
       "      <td>100.120</td>\n",
       "      <td>C5H8O2</td>\n",
       "      <td>26.3</td>\n",
       "      <td>76.1</td>\n",
       "      <td>1.3</td>\n",
       "      <td>7</td>\n",
       "      <td>0</td>\n",
       "      <td>...</td>\n",
       "      <td>43681</td>\n",
       "      <td>22209</td>\n",
       "      <td>NaN</td>\n",
       "      <td>Biological Test Results|Interactions and Pathw...</td>\n",
       "      <td>16</td>\n",
       "      <td>421|426|427|433|434|435|445|530|540|541|542|54...</td>\n",
       "      <td>20050326</td>\n",
       "      <td>10X CHEM|1st Scientific|3B Scientific (Wuhan) ...</td>\n",
       "      <td>Chemical Vendors|Curation Efforts|Governmental...</td>\n",
       "      <td>D009676 - Noxae &gt; D002273 - Carcinogens|D00967...</td>\n",
       "    </tr>\n",
       "  </tbody>\n",
       "</table>\n",
       "<p>5 rows × 39 columns</p>\n",
       "</div>"
      ],
      "text/plain": [
       "       cid                 cmpdname  \\\n",
       "0     6581             Acrylic acid   \n",
       "1    13165  2-Hydroxyethyl acrylate   \n",
       "2  5355130               Octinoxate   \n",
       "3     8846           Butyl Acrylate   \n",
       "4     8821           Ethyl acrylate   \n",
       "\n",
       "                                         cmpdsynonym       mw        mf  \\\n",
       "0  ACRYLIC ACID|2-Propenoic acid|79-10-7|prop-2-e...   72.060    C3H4O2   \n",
       "1  2-HYDROXYETHYL ACRYLATE|818-61-1|Hydroxyethyl ...  116.110    C5H8O3   \n",
       "2  Octinoxate|5466-77-3|83834-59-7|2-Ethylhexyl 4...  290.400  C18H26O3   \n",
       "3  BUTYL ACRYLATE|141-32-2|n-Butyl acrylate|butyl...  128.169   C7H12O2   \n",
       "4  ETHYL ACRYLATE|140-88-5|Acrylic acid ethyl est...  100.120    C5H8O2   \n",
       "\n",
       "   polararea  complexity  xlogp  heavycnt  hbonddonor  ...  gpidcnt  \\\n",
       "0       37.3        55.9    0.3         5           1  ...   464476   \n",
       "1       46.5        87.7   -0.2         8           1  ...    23270   \n",
       "2       35.5       304.0    5.3        21           0  ...    61231   \n",
       "3       26.3        97.1    2.4         9           0  ...   161905   \n",
       "4       26.3        76.1    1.3         7           0  ...    43681   \n",
       "\n",
       "   gpfamilycnt meshheadings  \\\n",
       "0       263916          NaN   \n",
       "1        12260          NaN   \n",
       "2        19797          NaN   \n",
       "3        68033          NaN   \n",
       "4        22209          NaN   \n",
       "\n",
       "                                           annothits annothitcnt  \\\n",
       "0  Biological Test Results|Interactions and Pathw...          18   \n",
       "1  Biological Test Results|Interactions and Pathw...          17   \n",
       "2  Biological Test Results|Interactions and Pathw...          17   \n",
       "3  Biological Test Results|Chemical and Physical ...          16   \n",
       "4  Biological Test Results|Interactions and Pathw...          16   \n",
       "\n",
       "                                                aids  cidcdate  \\\n",
       "0  155|157|161|165|167|175|192|248|256|328|880|11...  20040916   \n",
       "1  421|426|427|433|434|435|445|530|540|541|542|54...  20050327   \n",
       "2  880|1469|1471|1479|1487|1490|1688|1766|1768|25...  20050326   \n",
       "3  421|426|427|433|434|435|445|530|540|541|542|54...  20040916   \n",
       "4  421|426|427|433|434|435|445|530|540|541|542|54...  20050326   \n",
       "\n",
       "                                          sidsrcname  \\\n",
       "0  001Chemical|10X CHEM|1st Scientific|3B Scienti...   \n",
       "1  001Chemical|10X CHEM|3B Scientific (Wuhan) Cor...   \n",
       "2  001Chemical|10X CHEM|3B Scientific (Wuhan) Cor...   \n",
       "3  001Chemical|10X CHEM|1st Scientific|3B Scienti...   \n",
       "4  10X CHEM|1st Scientific|3B Scientific (Wuhan) ...   \n",
       "\n",
       "                                             depcatg  \\\n",
       "0  Chemical Vendors|Curation Efforts|Governmental...   \n",
       "1  Chemical Vendors|Curation Efforts|Governmental...   \n",
       "2  Chemical Vendors|Curation Efforts|Governmental...   \n",
       "3  Chemical Vendors|Curation Efforts|Governmental...   \n",
       "4  Chemical Vendors|Curation Efforts|Governmental...   \n",
       "\n",
       "                                          annotation  \n",
       "0  D001697 - Biomedical and Dental Materials > D0...  \n",
       "1                                                NaN  \n",
       "2  C1892 - Chemopreventive Agent > C851 - Sunscre...  \n",
       "3                                                NaN  \n",
       "4  D009676 - Noxae > D002273 - Carcinogens|D00967...  \n",
       "\n",
       "[5 rows x 39 columns]"
      ]
     },
     "execution_count": 2,
     "metadata": {},
     "output_type": "execute_result"
    }
   ],
   "source": [
    "df = pd.read_csv('PubChem_compound_text_Acrylate.csv')\n",
    "df.head()"
   ]
  },
  {
   "cell_type": "code",
   "execution_count": 3,
   "id": "f44c09e4-0e43-451e-8482-01104c1b5575",
   "metadata": {},
   "outputs": [],
   "source": [
    "with open('pubchem_db.txt') as f:\n",
    "    lines = f.readlines()\n",
    "    \n",
    "pubchem_cid = []\n",
    "pubchem_smiles = []\n",
    "pubchem_smiles_rep = []\n",
    "for i in range(len(lines)):\n",
    "    line = lines[i]\n",
    "    pubchem_cid.append(line.split()[0])\n",
    "    \n",
    "    sm=line.split()[1]\n",
    "    sm_rep = copy.copy(sm)\n",
    "    #sm_rep = \"[*]CC[*]\"+sm_rep[3:]\n",
    "    pubchem_smiles.append(sm)\n",
    "    #pubchem_smiles_rep.append(sm_rep)"
   ]
  },
  {
   "cell_type": "code",
   "execution_count": 4,
   "id": "eab0bd15-48d6-4fd8-aba4-20f684c04e21",
   "metadata": {},
   "outputs": [
    {
     "name": "stdout",
     "output_type": "stream",
     "text": [
      "Name: Acrylic acid\n",
      "Smiles: C=CC(=O)O\n"
     ]
    },
    {
     "data": {
      "image/png": "[encoded data removed]",
      "text/plain": [
       "<rdkit.Chem.rdchem.Mol at 0x164494350>"
      ]
     },
     "execution_count": 4,
     "metadata": {},
     "output_type": "execute_result"
    }
   ],
   "source": [
    "idd = 0\n",
    "smlA = pubchem_smiles[idd]\n",
    "nameA = df['cmpdname'][idd]\n",
    "print('Name: '+nameA)\n",
    "\n",
    "print('Smiles: '+smlA)\n",
    "mA = Chem.MolFromSmiles(smlA)\n",
    "mA"
   ]
  },
  {
   "cell_type": "code",
   "execution_count": 16,
   "id": "f648e053-458a-4d63-b5f6-ef2dcda6800e",
   "metadata": {},
   "outputs": [
    {
     "name": "stdout",
     "output_type": "stream",
     "text": [
      "Name: Ethyl acrylate\n",
      "Smiles: CCOC(=O)C=C\n"
     ]
    },
    {
     "data": {
      "image/png": "[encoded data removed]",
      "text/plain": [
       "<rdkit.Chem.rdchem.Mol at 0x167748d60>"
      ]
     },
     "execution_count": 16,
     "metadata": {},
     "output_type": "execute_result"
    }
   ],
   "source": [
    "idd = 4\n",
    "smlB = pubchem_smiles[idd]\n",
    "nameB = df['cmpdname'][idd]\n",
    "print('Name: '+nameB)\n",
    "\n",
    "print('Smiles: '+smlB)\n",
    "mB = Chem.MolFromSmiles(smlB)\n",
    "mB"
   ]
  },
  {
   "cell_type": "code",
   "execution_count": 11,
   "id": "3327e974",
   "metadata": {},
   "outputs": [
    {
     "data": {
      "application/vnd.microsoft.datawrangler.viewer.v0+json": {
       "columns": [
        {
         "name": "index",
         "rawType": "int64",
         "type": "integer"
        },
        {
         "name": " cid",
         "rawType": "int64",
         "type": "integer"
        },
        {
         "name": "cmpdname",
         "rawType": "object",
         "type": "string"
        },
        {
         "name": "cmpdsynonym",
         "rawType": "object",
         "type": "string"
        },
        {
         "name": "mw",
         "rawType": "float64",
         "type": "float"
        },
        {
         "name": "mf",
         "rawType": "object",
         "type": "string"
        },
        {
         "name": "polararea",
         "rawType": "float64",
         "type": "float"
        },
        {
         "name": "complexity",
         "rawType": "float64",
         "type": "float"
        },
        {
         "name": "xlogp",
         "rawType": "float64",
         "type": "float"
        },
        {
         "name": "heavycnt",
         "rawType": "int64",
         "type": "integer"
        },
        {
         "name": "hbonddonor",
         "rawType": "int64",
         "type": "integer"
        },
        {
         "name": "hbondacc",
         "rawType": "int64",
         "type": "integer"
        },
        {
         "name": "rotbonds",
         "rawType": "int64",
         "type": "integer"
        },
        {
         "name": "inchi",
         "rawType": "object",
         "type": "string"
        },
        {
         "name": "isosmiles",
         "rawType": "object",
         "type": "string"
        },
        {
         "name": "canonicalsmiles",
         "rawType": "object",
         "type": "string"
        },
        {
         "name": "inchikey",
         "rawType": "object",
         "type": "string"
        },
        {
         "name": "iupacname",
         "rawType": "object",
         "type": "string"
        },
        {
         "name": "exactmass",
         "rawType": "float64",
         "type": "float"
        },
        {
         "name": "monoisotopicmass",
         "rawType": "float64",
         "type": "float"
        },
        {
         "name": "charge",
         "rawType": "int64",
         "type": "integer"
        },
        {
         "name": "covalentunitcnt",
         "rawType": "int64",
         "type": "integer"
        },
        {
         "name": "isotopeatomcnt",
         "rawType": "int64",
         "type": "integer"
        },
        {
         "name": "totalatomstereocnt",
         "rawType": "int64",
         "type": "integer"
        },
        {
         "name": "definedatomstereocnt",
         "rawType": "int64",
         "type": "integer"
        },
        {
         "name": "undefinedatomstereocnt",
         "rawType": "int64",
         "type": "integer"
        },
        {
         "name": "totalbondstereocnt",
         "rawType": "int64",
         "type": "integer"
        },
        {
         "name": "definedbondstereocnt",
         "rawType": "int64",
         "type": "integer"
        },
        {
         "name": "undefinedbondstereocnt",
         "rawType": "int64",
         "type": "integer"
        },
        {
         "name": "pclidcnt",
         "rawType": "int64",
         "type": "integer"
        },
        {
         "name": "gpidcnt",
         "rawType": "int64",
         "type": "integer"
        },
        {
         "name": "gpfamilycnt",
         "rawType": "int64",
         "type": "integer"
        },
        {
         "name": "meshheadings",
         "rawType": "object",
         "type": "unknown"
        },
        {
         "name": "annothits",
         "rawType": "object",
         "type": "unknown"
        },
        {
         "name": "annothitcnt",
         "rawType": "int64",
         "type": "integer"
        },
        {
         "name": "aids",
         "rawType": "object",
         "type": "unknown"
        },
        {
         "name": "cidcdate",
         "rawType": "int64",
         "type": "integer"
        },
        {
         "name": "sidsrcname",
         "rawType": "object",
         "type": "string"
        },
        {
         "name": "depcatg",
         "rawType": "object",
         "type": "string"
        },
        {
         "name": "annotation",
         "rawType": "object",
         "type": "unknown"
        }
       ],
       "ref": "94843f55-1f04-4338-8123-e6f3745b935a",
       "rows": [
        [
         "1",
         "13165",
         "2-Hydroxyethyl acrylate",
         "2-HYDROXYETHYL ACRYLATE|818-61-1|Hydroxyethyl acrylate|2-hydroxyethyl prop-2-enoate|Ethylene glycol monoacrylate|2-Propenoic acid, 2-hydroxyethyl ester|Bisomer 2HEA|Acrylic acid 2-hydroxyethyl ester|2-hydroxyethylacrylate|2-(Acryloyloxy)ethanol|Ethylene glycol, acrylate|Acrylic acid, 2-hydroxyethyl ester|Ethylene glycol, monoacrylate|CCRIS 3431|HSDB 1123|EINECS 212-454-9|2-Hydroxyethylester kyseliny akrylove|UNII-25GT92NY0C|BRN 0969853|25GT92NY0C|26022-14-0|DTXSID2022123|MFCD00002865|DTXCID202123|HEA|EC 212-454-9|HYDROXYETHYL ACRYLATE, 2-|26403-58-7|MFCD00081878|CAS-818-61-1|2-Hydroxyethyl acrylate(7.56 cp(15.5 degrees c))|2-Hydroxyethylester kyseliny akrylove [Czech]|hydroxyethylacrylate|hydroxylethyl acrylate|2-hydroxylethylacrylate|Ethyleen glycol acrylaat|Ethylene glycol acrylate|2-hydroxy-ethyl acrylate|beta-Hydroxyethyl acrylate|Ethandiol-1,2-monoacrylate|2-Hydroxyethyl-2-propenoate|.beta.-Hydroxyethyl acrylate|SCHEMBL14875|MLS002174257|Acrylic acid hydroxyethyl ester|CHEMBL1330518|2-Hydroxyethyl acrylate,97.5%|acrylic acid 2-hydroxy-ethyl ester|Tox21_201430|Tox21_302968|2-propenoic acid 2-hydroxyethyl ester|2-Propenoic acid, 2-hydroxyethylester|AKOS015856805|2-HYDROXYETHYL ACRYLATE [HSDB]|CS-W013616|NCGC00090958-01|NCGC00090958-02|NCGC00256462-01|NCGC00258981-01|LS-13051|SMR001253953|A0743|NS00006157|2-Hydroxyethyl Acrylate (stabilized with MEHQ)|D78194|2-Hydroxyethyl Acrylate, (stabilized with MEHQ)|A840207|J-521472|Q27253959|InChI=1/C5H8O3/c1-2-5(7)8-4-3-6/h2,6H,1,3-4H|2-Hydroxyethyl acrylate, 96%, contains 200-650 ppm monomethyl ether hydroquinone as inhibitor",
         "116.11",
         "C5H8O3",
         "46.5",
         "87.7",
         "-0.2",
         "8",
         "1",
         "3",
         "4",
         "InChI=1S/C5H8O3/c1-2-5(7)8-4-3-6/h2,6H,1,3-4H2",
         "C=CC(=O)OCCO",
         "C=CC(=O)OCCO",
         "OMIGHNLMNHATMP-UHFFFAOYSA-N",
         "2-hydroxyethyl prop-2-enoate",
         "116.047",
         "116.047",
         "0",
         "1",
         "0",
         "0",
         "0",
         "0",
         "0",
         "0",
         "0",
         "644",
         "23270",
         "12260",
         null,
         "Biological Test Results|Interactions and Pathways|Chemical and Physical Properties|Classification|Drug and Medication Information|Food Additives and Ingredients|Identification|Literature|Patents|Pharmacology and Biochemistry|Safety and Hazards|Toxicity|Use and Manufacturing|Associated Disorders and Diseases|Spectral Information|Biological Test Results: Active|Biological Test Results: Micromolar",
         "17",
         "421|426|427|433|434|435|445|530|540|541|542|543|544|545|546|584|585|595|596|603|605|654|655|656|657|658|659|660|661|662|663|664|665|666|667|875|880|881|884|885|886|887|889|892|893|894|900|902|912|921|923|924|925|926|938|946|947|948|955|960|961|962|963|964|965|966|967|968|969|970|971|972|973|974|975|976|977|978|979|980|981|982|983|984|985|986|987|988|989|993|994|995|1030|1188|1452|1457|1458|1469|1471|1476|1477|1478|1479|1948|2101|2107|2112|2120|2517|2546|2549|2551|485290|488839|488862|488895|488896|488899|488965|488966|492953|492956|492972|493005|493008|493087|493091|493098|493131|493160|493187|493244|504326|504329|504339|504357|504411|504414|504423|504441|504444|504454|504462|504490|504523|504558|504577|504582|504621|504634|504648|504690|504692|504700|504707|504720|504734|504766|504775|504803|504845|504847|504884|504891|504894|504937|540253|540256|540263|540267|540276|540295|540303|540308|540317|540336|540364|588334|588335|588352|588354|588358|588391|588405|588413|588436|588453|588456|588458|588473|588475|588489|588492|588493|588497|588499|588501|588513|588514|588515|588516|588526|588527|588532|588533|588534|588535|588536|588537|588541|588543|588544|588545|588546|588547|588549|588579|588590|588591|588621|588664|588674|588689|588692|588726|588727|588795|588812|588813|588814|588819|588834|588850|588852|588855|588856|602123|602141|602162|602163|602179|602229|602233|602244|602247|602248|602250|602261|602274|602281|602310|602313|602329|602332|602340|602342|602346|602363|602393|602396|602399|602405|602410|602429|602438|602440|602449|602481|623870|623877|623901|624037|624038|624040|624125|624126|624127|624168|624169|624170|624171|624172|624173|624178|624202|624204|624246|624256|624263|624267|624268|624287|624288|624291|624296|624297|624304|624330|624352|624354|624377|624414|624415|624416|624417|624418|624463|624464|624465|624466|624467|624483|651550|651560|651572|651582|651602|651610|651631|651632|651633|651634|651635|651636|651640|651644|651647|651654|651658|651661|651687|651699|651702|651704|651710|651711|651718|651719|651723|651724|651725|651741|651743|651749|651751|651754|651755|651757|651758|651768|651777|651778|651800|651802|651819|651820|651821|651838|651957|651958|651999|652010|652017|652025|652039|652048|652051|652054|652067|652104|652105|652106|652115|652126|652154|652162|652163|652197|652257|686940|686964|686970|686971|686978|686979|686996|687014|687016|720504|720508|720509|720511|720516|720542|720543|720551|720552|720553|720579|720580|720582|720596|720634|720635|720636|720637|720647|720648|720652|720653|720659|720674|720675|720678|720679|720680|720681|720682|720683|720684|720685|720686|720687|720691|720692|720693|720700|720702|720704|720706|720707|720708|720709|720711|720719|720725|743012|743014|743015|743033|743035|743036|743040|743041|743042|743053|743054|743063|743064|743065|743066|743067|743069|743074|743075|743077|743078|743079|743080|743081|743083|743084|743085|743086|743091|743094|743122|743126|743139|743140|743191|743194|743199|743202|743203|743209|743210|743211|743212|743213|743215|743217|743218|743219|743220|743221|743222|743223|743224|743225|743226|743227|743228|743238|743239|743240|743241|743242|743247|743255|743266|743269|743279|743287|743288|743292|743397|743398|743445|1053197|1159509|1159515|1159516|1159517|1159518|1159519|1159520|1159521|1159523|1159524|1159525|1159526|1159527|1159528|1159529|1159531|1159551|1159552|1159553|1159555|1159606|1224834|1224835|1224836|1224837|1224838|1224839|1224840|1224841|1224842|1224843|1224844|1224845|1224846|1224847|1224848|1224849|1224865|1224867|1224868|1224869|1224870|1224871|1224872|1224873|1224874|1224875|1224876|1224877|1224878|1224879|1224880|1224881|1224882|1224883|1224884|1224885|1224886|1224887|1224888|1224889|1224890|1224892|1224893|1224894|1224895|1224896|1259241|1259242|1259243|1259244|1259247|1259248|1259313|1259318|1259364|1259365|1259366|1259367|1259368|1259369|1259377|1259378|1259379|1259380|1259381|1259382|1259383|1259384|1259385|1259386|1259387|1259388|1259390|1259391|1259392|1259393|1259394|1259395|1259396|1259400|1259401|1259402|1259403|1259404|1259407|1259415|1272365|1346378|1346784|1346795|1346798|1346799|1346824|1346829|1346859|1346877|1346891|1346924|1346977|1346978|1346979|1346980|1346981|1346982|1347030|1347031|1347032|1347033|1347034|1347035|1347036|1347037|1347038|1347041|1347056|1347071|1347075|1347076|1347120|1347131|1347395|1347397|1347398|1347399|1671190|1671196|1671197|1671198|1671199|1671200|1671201|1671463|1745845|1919968|1919969|1919970|1920062|1920063|1920064|1920065|1920067|1920068|1963577|1963578|1963579|1963580|1963581|1963582|1963583|1963584|1963585",
         "20050327",
         "001Chemical|10X CHEM|3B Scientific (Wuhan) Corp|3WAY PHARM INC|A&J Pharmtech CO., LTD.|A2B Chem|AA BLOCKS|AAA Chemistry|Aaron Chemicals LLC|AbaChemScene|abcr GmbH|ABI Chem|Acadechem|Achemtek|Acmec Biochemical|AHH Chemical co.,ltd|AK Scientific, Inc. (AKSCI)|AKos Consulting & Solutions|Alfa Chemistry|Alichem|Allbio Pharm Co., Ltd|Amadis Chemical|Ambeed|AN PharmaTech|Angene Chemical|Anward|AstaTech, Inc.|Aurora Fine Chemicals LLC|BenchChem|Bic Biotech|Biosynth|BLD Pharm|BOC Sciences|Boerchem|Chem-Space.com Database|Chembase.cn|ChEMBL|ChemDB|Chemenu Inc.|ChemExper Chemical Directory|Chemhere|Chemical Carcinogenesis Research Information System (CCRIS)|ChemIDplus|Chemieliva Pharmaceutical Co., Ltd|Cheminformatics Friedrich-Schiller-University Jena|ChemMol|ChemSpider|ChemTik|Comparative Toxicogenomics Database (CTD)|Cooke Chemical Co., Ltd|CymitQuimica|DiscoveryGate|ECI Group, LCSB, University of Luxembourg|Egon Willighagen, Department of Bioinformatics - BiGCaT, Maastricht University|eMolecules|eNovation Chemicals|EPA DSSTox|EPA Substance Registry Services|EvitaChem|FDA Global Substance Registration System (GSRS)|Finetech Industry Limited|Founder Pharma|Glentham Life Sciences Ltd.|Google Patents|Hairui Chemical|IBM|iChemical Technology USA Inc|ISpharm|J&H Chemical Co.,ltd|Japan Chemical Substance Dictionary (Nikkaji)|Key Organics/BIONET|King Scientific|Kingston Chemistry|LabNetwork, a WuXi AppTec Company|labseeker|LeadScope|LEAPCHEM|MassBank Europe|MassBank of North America (MoNA)|Mcule|MLSMR|MolCore|Molecule Market|Molepedia|MolPort|MuseChem|National Center for Advancing Translational Sciences (NCATS)|NextBio|NextMove Software|NIST Chemistry WebBook|NIST Mass Spectrometry Data Center|NMRShiftDB|NORMAN Suspect List Exchange|NovoSeek|Parchem|PATENTSCOPE (WIPO)|PubChem Reference Collection|RR Scientific|Santa Cruz Biotechnology, Inc.|SCRIPDB|Sigma-Aldrich|Sinfoo Biotech|SLING Consortium|Small Molecule Screening Facility, UW Madison|Smolecule|Springer Nature|SpringerMaterials|Starshine Chemical|SureChEMBL|SynQuest Laboratories|Syntree|TCI (Tokyo Chemical Industry)|THE BioTek|Thermo Fisher Scientific|Thieme Chemistry|Thomson Pharma|Thoreauchem|Tox21|ToxPlanet|Tractus|VladaChem|VWR, Part of Avantor|Wikidata|Wiley|Win-Win Chemical|Wubei-Biochem|Wutech|Yick-Vic Chemicals & Pharmaceuticals (HK) Ltd.|Yuhao Chemical|ZeroPM - Zero Pollution of Persistent, Mobile Substances|ZINC",
         "Chemical Vendors|Curation Efforts|Governmental Organizations|Journal Publishers|Legacy Depositors|NIH Initiatives|Research and Development|Subscription Services",
         null
        ],
        [
         "9302",
         "117064378",
         "Hydroxyethyl acrylate-1-13C, 2,3,3-d3, 97% (CP), 99 atom % 13C, 98 atom % D",
         "Hydroxyethyl acrylate-1-13C, 2,3,3-d3, 97% (CP), 99 atom % 13C, 98 atom % D",
         "120.13",
         "C5H8O3",
         "46.5",
         "87.7",
         "-0.2",
         "8",
         "1",
         "3",
         "4",
         "InChI=1S/C5H8O3/c1-2-5(7)8-4-3-6/h2,6H,1,3-4H2/i1D2,2D,5+1",
         "[2H]C(=C([2H])[13C](=O)OCCO)[2H]",
         "C=CC(=O)OCCO",
         "OMIGHNLMNHATMP-YJHZBZHESA-N",
         "2-hydroxyethyl 2,3,3-trideuterio(113C)prop-2-enoate",
         "120.07",
         "120.07",
         "0",
         "1",
         "4",
         "0",
         "0",
         "0",
         "0",
         "0",
         "0",
         "0",
         "0",
         "0",
         null,
         null,
         "0",
         null,
         "20160130",
         "Ambinter|Aurora Fine Chemicals LLC|Chemieliva Pharmaceutical Co., Ltd|Sigma-Aldrich",
         "Chemical Vendors|Legacy Depositors",
         null
        ]
       ],
       "shape": {
        "columns": 39,
        "rows": 2
       }
      },
      "text/html": [
       "<div>\n",
       "<style scoped>\n",
       "    .dataframe tbody tr th:only-of-type {\n",
       "        vertical-align: middle;\n",
       "    }\n",
       "\n",
       "    .dataframe tbody tr th {\n",
       "        vertical-align: top;\n",
       "    }\n",
       "\n",
       "    .dataframe thead th {\n",
       "        text-align: right;\n",
       "    }\n",
       "</style>\n",
       "<table border=\"1\" class=\"dataframe\">\n",
       "  <thead>\n",
       "    <tr style=\"text-align: right;\">\n",
       "      <th></th>\n",
       "      <th>cid</th>\n",
       "      <th>cmpdname</th>\n",
       "      <th>cmpdsynonym</th>\n",
       "      <th>mw</th>\n",
       "      <th>mf</th>\n",
       "      <th>polararea</th>\n",
       "      <th>complexity</th>\n",
       "      <th>xlogp</th>\n",
       "      <th>heavycnt</th>\n",
       "      <th>hbonddonor</th>\n",
       "      <th>...</th>\n",
       "      <th>gpidcnt</th>\n",
       "      <th>gpfamilycnt</th>\n",
       "      <th>meshheadings</th>\n",
       "      <th>annothits</th>\n",
       "      <th>annothitcnt</th>\n",
       "      <th>aids</th>\n",
       "      <th>cidcdate</th>\n",
       "      <th>sidsrcname</th>\n",
       "      <th>depcatg</th>\n",
       "      <th>annotation</th>\n",
       "    </tr>\n",
       "  </thead>\n",
       "  <tbody>\n",
       "    <tr>\n",
       "      <th>1</th>\n",
       "      <td>13165</td>\n",
       "      <td>2-Hydroxyethyl acrylate</td>\n",
       "      <td>2-HYDROXYETHYL ACRYLATE|818-61-1|Hydroxyethyl ...</td>\n",
       "      <td>116.11</td>\n",
       "      <td>C5H8O3</td>\n",
       "      <td>46.5</td>\n",
       "      <td>87.7</td>\n",
       "      <td>-0.2</td>\n",
       "      <td>8</td>\n",
       "      <td>1</td>\n",
       "      <td>...</td>\n",
       "      <td>23270</td>\n",
       "      <td>12260</td>\n",
       "      <td>NaN</td>\n",
       "      <td>Biological Test Results|Interactions and Pathw...</td>\n",
       "      <td>17</td>\n",
       "      <td>421|426|427|433|434|435|445|530|540|541|542|54...</td>\n",
       "      <td>20050327</td>\n",
       "      <td>001Chemical|10X CHEM|3B Scientific (Wuhan) Cor...</td>\n",
       "      <td>Chemical Vendors|Curation Efforts|Governmental...</td>\n",
       "      <td>NaN</td>\n",
       "    </tr>\n",
       "    <tr>\n",
       "      <th>9302</th>\n",
       "      <td>117064378</td>\n",
       "      <td>Hydroxyethyl acrylate-1-13C, 2,3,3-d3, 97% (CP...</td>\n",
       "      <td>Hydroxyethyl acrylate-1-13C, 2,3,3-d3, 97% (CP...</td>\n",
       "      <td>120.13</td>\n",
       "      <td>C5H8O3</td>\n",
       "      <td>46.5</td>\n",
       "      <td>87.7</td>\n",
       "      <td>-0.2</td>\n",
       "      <td>8</td>\n",
       "      <td>1</td>\n",
       "      <td>...</td>\n",
       "      <td>0</td>\n",
       "      <td>0</td>\n",
       "      <td>NaN</td>\n",
       "      <td>NaN</td>\n",
       "      <td>0</td>\n",
       "      <td>NaN</td>\n",
       "      <td>20160130</td>\n",
       "      <td>Ambinter|Aurora Fine Chemicals LLC|Chemieliva ...</td>\n",
       "      <td>Chemical Vendors|Legacy Depositors</td>\n",
       "      <td>NaN</td>\n",
       "    </tr>\n",
       "  </tbody>\n",
       "</table>\n",
       "<p>2 rows × 39 columns</p>\n",
       "</div>"
      ],
      "text/plain": [
       "            cid                                           cmpdname  \\\n",
       "1         13165                            2-Hydroxyethyl acrylate   \n",
       "9302  117064378  Hydroxyethyl acrylate-1-13C, 2,3,3-d3, 97% (CP...   \n",
       "\n",
       "                                            cmpdsynonym      mw      mf  \\\n",
       "1     2-HYDROXYETHYL ACRYLATE|818-61-1|Hydroxyethyl ...  116.11  C5H8O3   \n",
       "9302  Hydroxyethyl acrylate-1-13C, 2,3,3-d3, 97% (CP...  120.13  C5H8O3   \n",
       "\n",
       "      polararea  complexity  xlogp  heavycnt  hbonddonor  ...  gpidcnt  \\\n",
       "1          46.5        87.7   -0.2         8           1  ...    23270   \n",
       "9302       46.5        87.7   -0.2         8           1  ...        0   \n",
       "\n",
       "      gpfamilycnt meshheadings  \\\n",
       "1           12260          NaN   \n",
       "9302            0          NaN   \n",
       "\n",
       "                                              annothits annothitcnt  \\\n",
       "1     Biological Test Results|Interactions and Pathw...          17   \n",
       "9302                                                NaN           0   \n",
       "\n",
       "                                                   aids  cidcdate  \\\n",
       "1     421|426|427|433|434|435|445|530|540|541|542|54...  20050327   \n",
       "9302                                                NaN  20160130   \n",
       "\n",
       "                                             sidsrcname  \\\n",
       "1     001Chemical|10X CHEM|3B Scientific (Wuhan) Cor...   \n",
       "9302  Ambinter|Aurora Fine Chemicals LLC|Chemieliva ...   \n",
       "\n",
       "                                                depcatg  annotation  \n",
       "1     Chemical Vendors|Curation Efforts|Governmental...         NaN  \n",
       "9302                 Chemical Vendors|Legacy Depositors         NaN  \n",
       "\n",
       "[2 rows x 39 columns]"
      ]
     },
     "execution_count": 11,
     "metadata": {},
     "output_type": "execute_result"
    }
   ],
   "source": [
    "df[df['canonicalsmiles'] == 'C=CC(=O)OCCO']"
   ]
  },
  {
   "cell_type": "code",
   "execution_count": 6,
   "id": "ba5aa529",
   "metadata": {},
   "outputs": [],
   "source": [
    "def replace_first_cce(smiles):\n",
    "    mol = Chem.MolFromSmiles(smiles)\n",
    "    if mol is None:\n",
    "        raise ValueError(\"Invalid SMILES string\")\n",
    "    \n",
    "    # Find the first C=C double bond\n",
    "    for bond in mol.GetBonds():\n",
    "        if bond.GetBondType() == Chem.BondType.DOUBLE:\n",
    "            atom1 = bond.GetBeginAtom()\n",
    "            atom2 = bond.GetEndAtom()\n",
    "            if atom1.GetSymbol() == 'C' and atom2.GetSymbol() == 'C':\n",
    "                # Instead of SMILES replacement, modify the molecule\n",
    "                mol = Chem.RWMol(mol)\n",
    "                bond.SetBondType(Chem.BondType.SINGLE)\n",
    "                # Add Br atoms\n",
    "                br1 = mol.AddAtom(Chem.Atom('Br'))\n",
    "                br2 = mol.AddAtom(Chem.Atom('Br'))\n",
    "                mol.AddBond(atom1.GetIdx(), br1, Chem.BondType.SINGLE)\n",
    "                mol.AddBond(atom2.GetIdx(), br2, Chem.BondType.SINGLE)\n",
    "                return Chem.MolToSmiles(mol)\n",
    "    \n",
    "    return smiles  # No double bond found, return original\n",
    "\n",
    "fixed_monomer_1 = smlA\n",
    "fixed_monomer_2 = smlB"
   ]
  },
  {
   "cell_type": "code",
   "execution_count": 7,
   "id": "30823c50",
   "metadata": {},
   "outputs": [
    {
     "data": {
      "image/png": "[encoded data removed]",
      "text/plain": [
       "<rdkit.Chem.rdchem.Mol at 0x156d45a10>"
      ]
     },
     "execution_count": 7,
     "metadata": {},
     "output_type": "execute_result"
    }
   ],
   "source": [
    "# Fix the fixed monomers smiles to bromo form\n",
    "fixed1_bromo = replace_first_cce(fixed_monomer_1)\n",
    "fixed2_bromo = replace_first_cce(fixed_monomer_2)\n",
    "mB = Chem.MolFromSmiles(fixed2_bromo)\n",
    "mB"
   ]
  },
  {
   "cell_type": "code",
   "execution_count": 8,
   "id": "72f18ec4",
   "metadata": {},
   "outputs": [
    {
     "name": "stdout",
     "output_type": "stream",
     "text": [
      "Saved copolymer: ./a.xyz\n"
     ]
    }
   ],
   "source": [
    "bb1 = stk.BuildingBlock(fixed1_bromo, [stk.BromoFactory()])\n",
    "bb2 = stk.BuildingBlock(fixed2_bromo, [stk.BromoFactory()])\n",
    "\n",
    "polymer = stk.ConstructedMolecule(\n",
    "    topology_graph=stk.polymer.Linear(\n",
    "        building_blocks=(bb1, bb2),\n",
    "        repeating_unit='AB',\n",
    "        num_repeating_units=3,\n",
    "        optimizer=stk.Collapser(scale_steps=False),\n",
    "    ),\n",
    ")\n",
    "\n",
    "rdkit_polymer = polymer.to_rdkit_mol()\n",
    "rdkit_polymer = Chem.AddHs(rdkit_polymer)\n",
    "Chem.SanitizeMol(rdkit_polymer)\n",
    "\n",
    "# Embed if necessary (sometimes stk embedding is enough, but we do ETKDG for 3D coords)\n",
    "params = AllChem.ETKDGv3()\n",
    "params.useRandomCoords = True\n",
    "params.maxIterations = 1000\n",
    "params.numThreads = 1\n",
    "params.randomSeed = 42\n",
    "\n",
    "AllChem.MMFFOptimizeMolecule(rdkit_polymer)\n",
    "\n",
    "polymer = polymer.with_position_matrix(\n",
    "    position_matrix=rdkit_polymer.GetConformer().GetPositions()\n",
    ")\n",
    "\n",
    "# Write XYZ file function unchanged\n",
    "def write_xyz_file(mol, filename):\n",
    "    conf = mol.GetConformer()\n",
    "    num_atoms = mol.GetNumAtoms()\n",
    "    with open(filename, 'w') as f:\n",
    "        f.write(f\"{num_atoms}\\n\")\n",
    "        f.write(f\"Molecule ID: {os.path.basename(filename).split('.')[0]}\\n\")\n",
    "        for i in range(num_atoms):\n",
    "            atom = mol.GetAtomWithIdx(i)\n",
    "            pos = conf.GetAtomPosition(i)\n",
    "            symbol = atom.GetSymbol()\n",
    "            f.write(f\"{symbol} {pos.x:.6f} {pos.y:.6f} {pos.z:.6f}\\n\")\n",
    "\n",
    "# Write .xyz file\n",
    "xyz_filename = os.path.join('.', f\"a.xyz\")\n",
    "write_xyz_file(polymer.to_rdkit_mol(), xyz_filename)\n",
    "print(f\"Saved copolymer: {xyz_filename}\")"
   ]
  },
  {
   "cell_type": "code",
   "execution_count": 9,
   "id": "943ecf3b",
   "metadata": {},
   "outputs": [
    {
     "data": {
      "application/3dmoljs_load.v0": "<div id=\"3dmolviewer_1750185236438391\"  style=\"position: relative; width: 400px; height: 400px;\">\n        <p id=\"3dmolwarning_1750185236438391\" style=\"background-color:#ffcccc;color:black\">3Dmol.js failed to load for some reason.  Please check your browser console for error messages.<br></p>\n        </div>\n<script>\n\nvar loadScriptAsync = function(uri){\n  return new Promise((resolve, reject) => {\n    //this is to ignore the existence of requirejs amd\n    var savedexports, savedmodule;\n    if (typeof exports !== 'undefined') savedexports = exports;\n    else exports = {}\n    if (typeof module !== 'undefined') savedmodule = module;\n    else module = {}\n\n    var tag = document.createElement('script');\n    tag.src = uri;\n    tag.async = true;\n    tag.onload = () => {\n        exports = savedexports;\n        module = savedmodule;\n        resolve();\n    };\n  var firstScriptTag = document.getElementsByTagName('script')[0];\n  firstScriptTag.parentNode.insertBefore(tag, firstScriptTag);\n});\n};\n\nif(typeof $3Dmolpromise === 'undefined') {\n$3Dmolpromise = null;\n  $3Dmolpromise = loadScriptAsync('https://cdn.jsdelivr.net/npm/3dmol@2.5.0/build/3Dmol-min.js');\n}\n\nvar viewer_1750185236438391 = null;\nvar warn = document.getElementById(\"3dmolwarning_1750185236438391\");\nif(warn) {\n    warn.parentNode.removeChild(warn);\n}\n$3Dmolpromise.then(function() {\nviewer_1750185236438391 = $3Dmol.createViewer(document.getElementById(\"3dmolviewer_1750185236438391\"),{backgroundColor:\"white\"});\nviewer_1750185236438391.zoomTo();\n\tviewer_1750185236438391.removeAllModels();\n\tviewer_1750185236438391.addModel(\"\\n     RDKit          3D\\n\\n269271  0  0  0  0  0  0  0  0999 V2000\\n    5.0862   -6.1002    0.2185 O   0  0  0  0  0  0  0  0  0  0  0  0\\n    4.4553   -7.0982   -0.2712 C   0  0  0  0  0  0  0  0  0  0  0  0\\n    5.2024   -7.9931   -0.9843 O   0  0  0  0  0  0  0  0  0  0  0  0\\n    2.9929   -7.2344   -0.0534 C   0  0  0  0  0  0  0  0  0  0  0  0\\n    2.1547   -8.7225   -0.8649 Br  0  0  0  0  0  0  0  0  0  0  0  0\\n    2.4745   -6.2989    0.6458 C   0  0  0  0  0  0  0  0  0  0  0  0\\n    6.0059   -7.6626   -1.5453 H   0  0  0  0  0  0  0  0  0  0  0  0\\n    3.1655   -5.5026    1.0172 H   0  0  0  0  0  0  0  0  0  0  0  0\\n   -0.0880   -8.0520    1.4658 O   0  0  0  0  0  0  0  0  0  0  0  0\\n   -1.2003   -7.3881    1.4570 C   0  0  0  0  0  0  0  0  0  0  0  0\\n   -2.1901   -8.0096    2.0970 O   0  0  0  0  0  0  0  0  0  0  0  0\\n   -1.2066   -6.0762    0.7557 C   0  0  0  0  0  0  0  0  0  0  0  0\\n   -2.2989   -5.3235    0.7089 C   0  0  0  0  0  0  0  0  0  0  0  0\\n   -2.0109   -8.5425    2.9676 H   0  0  0  0  0  0  0  0  0  0  0  0\\n   -2.9566   -6.2699    1.4381 H   0  0  0  0  0  0  0  0  0  0  0  0\\n   -6.0737   -5.9747   -0.0110 O   0  0  0  0  0  0  0  0  0  0  0  0\\n   -6.1756   -5.3910    1.0425 C   0  0  0  0  0  0  0  0  0  0  0  0\\n   -7.2255   -5.8030    1.9041 O   0  0  0  0  0  0  0  0  0  0  0  0\\n   -5.2643   -4.2572    1.5135 C   0  0  0  0  0  0  0  0  0  0  0  0\\n   -5.5818   -3.8478    2.6807 C   0  0  0  0  0  0  0  0  0  0  0  0\\n   -7.6354   -6.7258    1.8410 H   0  0  0  0  0  0  0  0  0  0  0  0\\n   -6.5581   -4.5630    3.0003 H   0  0  0  0  0  0  0  0  0  0  0  0\\n    4.2370    3.6262   -3.6959 C   0  0  0  0  0  0  0  0  0  0  0  0\\n    4.8911    4.1005   -2.4234 C   0  0  0  0  0  0  0  0  0  0  0  0\\n    5.0549    5.5912   -2.3466 C   0  0  0  0  0  0  0  0  0  0  0  0\\n    3.7884    6.3563   -2.4153 C   0  0  0  0  0  0  0  0  0  0  0  0\\n    2.7963    6.1012   -1.3377 C   0  0  0  0  0  0  0  0  0  0  0  0\\n    3.3672    6.3600    0.0519 C   0  0  0  0  0  0  0  0  0  0  0  0\\n    2.2654    6.2500    1.0818 C   0  0  0  0  0  0  0  0  0  0  0  0\\n    1.5519    4.9446    1.0065 C   0  0  0  0  0  0  0  0  0  0  0  0\\n    0.4168    4.9275    2.0365 C   0  0  0  0  0  0  0  0  0  0  0  0\\n   -0.2619    3.5681    1.8245 C   0  0  0  0  0  0  0  0  0  0  0  0\\n   -1.4668    3.6065    2.7669 C   0  0  0  0  0  0  0  0  0  0  0  0\\n   -2.2732    2.4125    2.6034 C   0  0  0  0  0  0  0  0  0  0  0  0\\n   -1.5919    1.0818    3.0188 C   0  0  0  0  0  0  0  0  0  0  0  0\\n   -2.6032    0.0557    2.6737 C   0  0  0  0  0  0  0  0  0  0  0  0\\n   -2.5378   -1.3592    3.0074 C   0  0  0  0  0  0  0  0  0  0  0  0\\n   -1.4093   -2.2389    2.7058 C   0  0  0  0  0  0  0  0  0  0  0  0\\n   -0.1696   -2.1916    3.5133 C   0  0  0  0  0  0  0  0  0  0  0  0\\n   -0.3279   -2.6063    4.9137 C   0  0  0  0  0  0  0  0  0  0  0  0\\n   -0.7899   -4.0236    5.1904 C   0  0  0  0  0  0  0  0  0  0  0  0\\n    0.1317   -5.0394    4.6045 C   0  0  0  0  0  0  0  0  0  0  0  0\\n   -0.0292   -5.1176    3.1803 O   0  0  0  0  0  0  0  0  0  0  0  0\\n    0.9430   -5.8064    2.4836 C   0  0  0  0  0  0  0  0  0  0  0  0\\n    1.8779   -6.2495    3.2764 O   0  0  0  0  0  0  0  0  0  0  0  0\\n    1.1015   -6.0819    1.0965 C   0  0  0  0  0  0  0  0  0  0  0  0\\n    0.1254   -5.9052    0.1158 C   0  0  0  0  0  0  0  0  0  0  0  0\\n    0.3633   -5.8744   -1.2641 C   0  0  0  0  0  0  0  0  0  0  0  0\\n   -0.7285   -6.2668   -2.1051 C   0  0  0  0  0  0  0  0  0  0  0  0\\n   -0.6674   -6.2515   -3.4579 C   0  0  0  0  0  0  0  0  0  0  0  0\\n    0.4653   -5.8534   -4.0952 C   0  0  0  0  0  0  0  0  0  0  0  0\\n    0.5920   -5.8187   -5.4788 O   0  0  0  0  0  0  0  0  0  0  0  0\\n    1.5499   -5.4676   -3.3638 C   0  0  0  0  0  0  0  0  0  0  0  0\\n    2.7561   -5.0648   -3.8977 O   0  0  0  0  0  0  0  0  0  0  0  0\\n    3.8903   -4.7016   -3.1947 C   0  0  0  0  0  0  0  0  0  0  0  0\\n    1.4590   -5.4870   -1.9773 C   0  0  0  0  0  0  0  0  0  0  0  0\\n    3.9148    4.4983   -4.2983 H   0  0  0  0  0  0  0  0  0  0  0  0\\n    3.3902    2.9770   -3.4281 H   0  0  0  0  0  0  0  0  0  0  0  0\\n    4.9505    2.9948   -4.2724 H   0  0  0  0  0  0  0  0  0  0  0  0\\n    4.3947    3.7184   -1.5197 H   0  0  0  0  0  0  0  0  0  0  0  0\\n    5.9223    3.6179   -2.3950 H   0  0  0  0  0  0  0  0  0  0  0  0\\n    5.7745    5.9500   -3.1442 H   0  0  0  0  0  0  0  0  0  0  0  0\\n    5.5585    5.8341   -1.3629 H   0  0  0  0  0  0  0  0  0  0  0  0\\n    4.0762    7.4631   -2.3819 H   0  0  0  0  0  0  0  0  0  0  0  0\\n    3.3015    6.1737   -3.4154 H   0  0  0  0  0  0  0  0  0  0  0  0\\n    2.5163    4.9950   -1.3375 H   0  0  0  0  0  0  0  0  0  0  0  0\\n    1.8568    6.6788   -1.4474 H   0  0  0  0  0  0  0  0  0  0  0  0\\n    4.1139    5.5332    0.2558 H   0  0  0  0  0  0  0  0  0  0  0  0\\n    3.8503    7.3220    0.1034 H   0  0  0  0  0  0  0  0  0  0  0  0\\n    1.5706    7.1101    0.8626 H   0  0  0  0  0  0  0  0  0  0  0  0\\n    2.7136    6.4385    2.0879 H   0  0  0  0  0  0  0  0  0  0  0  0\\n    2.1972    4.0826    1.1006 H   0  0  0  0  0  0  0  0  0  0  0  0\\n    1.0681    4.8932   -0.0070 H   0  0  0  0  0  0  0  0  0  0  0  0\\n   -0.3182    5.6976    1.7813 H   0  0  0  0  0  0  0  0  0  0  0  0\\n    0.8604    4.9742    3.0226 H   0  0  0  0  0  0  0  0  0  0  0  0\\n    0.4367    2.7696    2.0885 H   0  0  0  0  0  0  0  0  0  0  0  0\\n   -0.5945    3.4854    0.7960 H   0  0  0  0  0  0  0  0  0  0  0  0\\n   -1.1022    3.6993    3.8245 H   0  0  0  0  0  0  0  0  0  0  0  0\\n   -2.0888    4.5210    2.5150 H   0  0  0  0  0  0  0  0  0  0  0  0\\n   -3.2335    2.4024    3.1861 H   0  0  0  0  0  0  0  0  0  0  0  0\\n   -2.5832    2.2305    1.5411 H   0  0  0  0  0  0  0  0  0  0  0  0\\n   -0.6818    0.9228    2.3915 H   0  0  0  0  0  0  0  0  0  0  0  0\\n   -1.3453    1.1194    4.0536 H   0  0  0  0  0  0  0  0  0  0  0  0\\n   -2.8917    0.1801    1.5531 H   0  0  0  0  0  0  0  0  0  0  0  0\\n   -3.5768    0.4553    3.1509 H   0  0  0  0  0  0  0  0  0  0  0  0\\n   -2.8201   -1.4228    4.1120 H   0  0  0  0  0  0  0  0  0  0  0  0\\n   -3.4309   -1.8347    2.4506 H   0  0  0  0  0  0  0  0  0  0  0  0\\n   -1.6920   -3.2864    2.5368 H   0  0  0  0  0  0  0  0  0  0  0  0\\n   -1.0438   -1.8880    1.6725 H   0  0  0  0  0  0  0  0  0  0  0  0\\n    0.5560   -2.8731    3.0325 H   0  0  0  0  0  0  0  0  0  0  0  0\\n    0.2587   -1.1633    3.4144 H   0  0  0  0  0  0  0  0  0  0  0  0\\n    0.6911   -2.5990    5.3879 H   0  0  0  0  0  0  0  0  0  0  0  0\\n   -0.9310   -1.9668    5.5726 H   0  0  0  0  0  0  0  0  0  0  0  0\\n   -0.8661   -4.1879    6.2734 H   0  0  0  0  0  0  0  0  0  0  0  0\\n   -1.8285   -4.1672    4.7742 H   0  0  0  0  0  0  0  0  0  0  0  0\\n    0.0875   -6.0411    5.0241 H   0  0  0  0  0  0  0  0  0  0  0  0\\n    1.2029   -4.6773    4.7282 H   0  0  0  0  0  0  0  0  0  0  0  0\\n   -1.6580   -6.5816   -1.6496 H   0  0  0  0  0  0  0  0  0  0  0  0\\n   -1.5124   -6.5369   -4.0875 H   0  0  0  0  0  0  0  0  0  0  0  0\\n    1.2688   -5.2829   -5.9787 H   0  0  0  0  0  0  0  0  0  0  0  0\\n    4.6392   -4.2577   -3.8984 H   0  0  0  0  0  0  0  0  0  0  0  0\\n    3.6820   -3.9473   -2.4233 H   0  0  0  0  0  0  0  0  0  0  0  0\\n    4.3895   -5.5887   -2.7342 H   0  0  0  0  0  0  0  0  0  0  0  0\\n    2.3045   -5.1371   -1.4380 H   0  0  0  0  0  0  0  0  0  0  0  0\\n    8.4872    5.7614   -8.9742 C   0  0  0  0  0  0  0  0  0  0  0  0\\n    7.5665    5.4187   -7.8381 C   0  0  0  0  0  0  0  0  0  0  0  0\\n    6.5459    6.5554   -7.7127 C   0  0  0  0  0  0  0  0  0  0  0  0\\n    5.6318    6.2654   -6.5578 C   0  0  0  0  0  0  0  0  0  0  0  0\\n    4.5714    7.3180   -6.3473 C   0  0  0  0  0  0  0  0  0  0  0  0\\n    3.6932    7.4534   -7.5910 C   0  0  0  0  0  0  0  0  0  0  0  0\\n    2.6034    8.4584   -7.4005 C   0  0  0  0  0  0  0  0  0  0  0  0\\n    1.6034    8.1314   -6.3344 C   0  0  0  0  0  0  0  0  0  0  0  0\\n    0.8606    6.8363   -6.6607 C   0  0  0  0  0  0  0  0  0  0  0  0\\n   -0.1578    6.6279   -5.5876 C   0  0  0  0  0  0  0  0  0  0  0  0\\n   -0.9523    5.3370   -5.7753 C   0  0  0  0  0  0  0  0  0  0  0  0\\n   -1.9026    5.3036   -4.6032 C   0  0  0  0  0  0  0  0  0  0  0  0\\n   -2.8128    4.1518   -4.5046 C   0  0  0  0  0  0  0  0  0  0  0  0\\n   -2.2095    2.7981   -4.3235 C   0  0  0  0  0  0  0  0  0  0  0  0\\n   -1.3175    2.7324   -3.0753 C   0  0  0  0  0  0  0  0  0  0  0  0\\n   -0.8113    1.3070   -2.9238 C   0  0  0  0  0  0  0  0  0  0  0  0\\n    0.1529    1.2494   -1.7693 C   0  0  0  0  0  0  0  0  0  0  0  0\\n    0.6914   -0.1565   -1.6331 C   0  0  0  0  0  0  0  0  0  0  0  0\\n   -0.4396   -1.0768   -1.1946 C   0  0  0  0  0  0  0  0  0  0  0  0\\n   -0.0014   -2.5119   -1.2008 C   0  0  0  0  0  0  0  0  0  0  0  0\\n   -0.8992   -3.3613   -0.6134 O   0  0  0  0  0  0  0  0  0  0  0  0\\n   -2.2496   -3.1847   -0.4056 C   0  0  0  0  0  0  0  0  0  0  0  0\\n   -2.7349   -2.1323   -0.7618 O   0  0  0  0  0  0  0  0  0  0  0  0\\n   -3.0604   -4.3293    0.2798 C   0  0  0  0  0  0  0  0  0  0  0  0\\n   -4.2959   -3.8679    0.5212 C   0  0  0  0  0  0  0  0  0  0  0  0\\n   -4.7197   -2.7360   -0.3070 C   0  0  0  0  0  0  0  0  0  0  0  0\\n   -5.3026   -1.5659   -0.0768 C   0  0  0  0  0  0  0  0  0  0  0  0\\n   -5.8143   -0.8093   -1.1429 C   0  0  0  0  0  0  0  0  0  0  0  0\\n   -5.7139   -1.2646   -2.4700 C   0  0  0  0  0  0  0  0  0  0  0  0\\n   -6.2588   -0.4584   -3.4425 O   0  0  0  0  0  0  0  0  0  0  0  0\\n   -5.0869   -2.5130   -2.7296 C   0  0  0  0  0  0  0  0  0  0  0  0\\n   -5.0848   -2.7939   -4.0983 O   0  0  0  0  0  0  0  0  0  0  0  0\\n   -4.4761   -3.9226   -4.6897 C   0  0  0  0  0  0  0  0  0  0  0  0\\n   -4.6254   -3.1849   -1.6965 C   0  0  0  0  0  0  0  0  0  0  0  0\\n    9.1643    4.9544   -9.2663 H   0  0  0  0  0  0  0  0  0  0  0  0\\n    9.1298    6.6343   -8.7128 H   0  0  0  0  0  0  0  0  0  0  0  0\\n    7.9124    6.0931   -9.8782 H   0  0  0  0  0  0  0  0  0  0  0  0\\n    7.0205    4.4798   -8.1134 H   0  0  0  0  0  0  0  0  0  0  0  0\\n    8.1257    5.2491   -6.9047 H   0  0  0  0  0  0  0  0  0  0  0  0\\n    7.1271    7.4652   -7.5022 H   0  0  0  0  0  0  0  0  0  0  0  0\\n    6.0069    6.5983   -8.6739 H   0  0  0  0  0  0  0  0  0  0  0  0\\n    5.1588    5.2847   -6.5769 H   0  0  0  0  0  0  0  0  0  0  0  0\\n    6.2787    6.3180   -5.6396 H   0  0  0  0  0  0  0  0  0  0  0  0\\n    3.9346    6.9708   -5.5289 H   0  0  0  0  0  0  0  0  0  0  0  0\\n    5.0400    8.3090   -6.1148 H   0  0  0  0  0  0  0  0  0  0  0  0\\n    3.2702    6.4401   -7.7732 H   0  0  0  0  0  0  0  0  0  0  0  0\\n    4.3375    7.7774   -8.4588 H   0  0  0  0  0  0  0  0  0  0  0  0\\n    2.0498    8.5929   -8.3629 H   0  0  0  0  0  0  0  0  0  0  0  0\\n    3.1150    9.4461   -7.1946 H   0  0  0  0  0  0  0  0  0  0  0  0\\n    0.8753    8.9336   -6.2452 H   0  0  0  0  0  0  0  0  0  0  0  0\\n    2.1640    7.9201   -5.3742 H   0  0  0  0  0  0  0  0  0  0  0  0\\n    1.5566    5.9704   -6.6734 H   0  0  0  0  0  0  0  0  0  0  0  0\\n    0.3361    6.9820   -7.6273 H   0  0  0  0  0  0  0  0  0  0  0  0\\n    0.2911    6.7242   -4.6122 H   0  0  0  0  0  0  0  0  0  0  0  0\\n   -0.9392    7.4402   -5.6769 H   0  0  0  0  0  0  0  0  0  0  0  0\\n   -1.5795    5.3996   -6.6897 H   0  0  0  0  0  0  0  0  0  0  0  0\\n   -0.2797    4.4764   -5.7590 H   0  0  0  0  0  0  0  0  0  0  0  0\\n   -2.5016    6.2528   -4.5932 H   0  0  0  0  0  0  0  0  0  0  0  0\\n   -1.2364    5.4076   -3.7034 H   0  0  0  0  0  0  0  0  0  0  0  0\\n   -3.5646    4.2998   -3.6731 H   0  0  0  0  0  0  0  0  0  0  0  0\\n   -3.4123    4.1120   -5.4541 H   0  0  0  0  0  0  0  0  0  0  0  0\\n   -2.9806    2.0306   -4.1756 H   0  0  0  0  0  0  0  0  0  0  0  0\\n   -1.5426    2.5156   -5.1851 H   0  0  0  0  0  0  0  0  0  0  0  0\\n   -0.4219    3.3519   -3.2260 H   0  0  0  0  0  0  0  0  0  0  0  0\\n   -1.9416    2.9766   -2.2180 H   0  0  0  0  0  0  0  0  0  0  0  0\\n   -0.2644    1.0462   -3.8599 H   0  0  0  0  0  0  0  0  0  0  0  0\\n   -1.6878    0.6285   -2.8014 H   0  0  0  0  0  0  0  0  0  0  0  0\\n   -0.3912    1.5260   -0.8337 H   0  0  0  0  0  0  0  0  0  0  0  0\\n    0.9960    1.9406   -1.8645 H   0  0  0  0  0  0  0  0  0  0  0  0\\n    1.4041   -0.1257   -0.7830 H   0  0  0  0  0  0  0  0  0  0  0  0\\n    1.1192   -0.5061   -2.5633 H   0  0  0  0  0  0  0  0  0  0  0  0\\n   -1.2020   -0.9996   -2.0080 H   0  0  0  0  0  0  0  0  0  0  0  0\\n   -0.7917   -0.6957   -0.2399 H   0  0  0  0  0  0  0  0  0  0  0  0\\n    0.2149   -2.7378   -2.2869 H   0  0  0  0  0  0  0  0  0  0  0  0\\n    0.9744   -2.5624   -0.6264 H   0  0  0  0  0  0  0  0  0  0  0  0\\n   -5.3379   -1.2019    0.9294 H   0  0  0  0  0  0  0  0  0  0  0  0\\n   -6.2924    0.1214   -0.9547 H   0  0  0  0  0  0  0  0  0  0  0  0\\n   -7.1284    0.0567   -3.2736 H   0  0  0  0  0  0  0  0  0  0  0  0\\n   -4.9661   -4.0868   -5.6758 H   0  0  0  0  0  0  0  0  0  0  0  0\\n   -3.3594   -3.7438   -4.8077 H   0  0  0  0  0  0  0  0  0  0  0  0\\n   -4.6151   -4.8053   -4.0464 H   0  0  0  0  0  0  0  0  0  0  0  0\\n   -4.1354   -4.1464   -1.9014 H   0  0  0  0  0  0  0  0  0  0  0  0\\n    4.7034   -2.1112   -5.8674 C   0  0  0  0  0  0  0  0  0  0  0  0\\n    4.8085   -0.9126   -4.9377 C   0  0  0  0  0  0  0  0  0  0  0  0\\n    4.6013   -1.3088   -3.5119 C   0  0  0  0  0  0  0  0  0  0  0  0\\n    4.6529   -0.0744   -2.5746 C   0  0  0  0  0  0  0  0  0  0  0  0\\n    4.4224   -0.5000   -1.1758 C   0  0  0  0  0  0  0  0  0  0  0  0\\n    4.3144    0.6841   -0.1910 C   0  0  0  0  0  0  0  0  0  0  0  0\\n    4.0232    0.1035    1.1500 C   0  0  0  0  0  0  0  0  0  0  0  0\\n    3.7368    1.0815    2.2524 C   0  0  0  0  0  0  0  0  0  0  0  0\\n    3.4418    0.2351    3.4730 C   0  0  0  0  0  0  0  0  0  0  0  0\\n    2.9336    1.0439    4.6662 C   0  0  0  0  0  0  0  0  0  0  0  0\\n    2.6935    0.0035    5.7152 C   0  0  0  0  0  0  0  0  0  0  0  0\\n    1.9745    0.4836    6.9720 C   0  0  0  0  0  0  0  0  0  0  0  0\\n    0.6329    0.9385    6.5431 C   0  0  0  0  0  0  0  0  0  0  0  0\\n   -0.3523    1.2895    7.6737 C   0  0  0  0  0  0  0  0  0  0  0  0\\n   -1.6011    1.6497    6.8860 C   0  0  0  0  0  0  0  0  0  0  0  0\\n   -2.8603    1.8355    7.6377 C   0  0  0  0  0  0  0  0  0  0  0  0\\n   -3.9500    2.3302    6.6629 C   0  0  0  0  0  0  0  0  0  0  0  0\\n   -5.3416    2.0892    7.2274 C   0  0  0  0  0  0  0  0  0  0  0  0\\n   -5.5440    0.5407    7.2290 C   0  0  0  0  0  0  0  0  0  0  0  0\\n   -5.5509    0.1152    5.8210 C   0  0  0  0  0  0  0  0  0  0  0  0\\n   -5.4345   -1.2607    5.5583 O   0  0  0  0  0  0  0  0  0  0  0  0\\n   -5.5738   -1.7508    4.2243 C   0  0  0  0  0  0  0  0  0  0  0  0\\n   -5.8649   -0.8556    3.3930 O   0  0  0  0  0  0  0  0  0  0  0  0\\n   -5.3844   -3.1426    3.8965 C   0  0  0  0  0  0  0  0  0  0  0  0\\n   -5.0355   -3.8815    5.0213 C   0  0  0  0  0  0  0  0  0  0  0  0\\n   -4.6887   -3.1457    6.7086 Br  0  0  0  0  0  0  0  0  0  0  0  0\\n   -5.1479   -5.3209    4.9046 C   0  0  0  0  0  0  0  0  0  0  0  0\\n   -4.7142   -6.0030    3.8929 C   0  0  0  0  0  0  0  0  0  0  0  0\\n   -4.8184   -7.2607    3.3968 C   0  0  0  0  0  0  0  0  0  0  0  0\\n   -5.7010   -8.0027    4.3873 C   0  0  0  0  0  0  0  0  0  0  0  0\\n   -5.8848   -9.3098    3.9982 O   0  0  0  0  0  0  0  0  0  0  0  0\\n   -6.1706   -7.3493    5.4551 C   0  0  0  0  0  0  0  0  0  0  0  0\\n   -6.9513   -8.2714    6.1925 O   0  0  0  0  0  0  0  0  0  0  0  0\\n   -7.6360   -8.1234    7.3847 C   0  0  0  0  0  0  0  0  0  0  0  0\\n   -5.9943   -6.0518    5.8507 C   0  0  0  0  0  0  0  0  0  0  0  0\\n    5.5428   -2.7918   -5.8243 H   0  0  0  0  0  0  0  0  0  0  0  0\\n    3.7932   -2.7189   -5.6226 H   0  0  0  0  0  0  0  0  0  0  0  0\\n    4.5762   -1.7197   -6.8923 H   0  0  0  0  0  0  0  0  0  0  0  0\\n    5.8298   -0.4949   -5.0800 H   0  0  0  0  0  0  0  0  0  0  0  0\\n    4.1065   -0.1311   -5.2824 H   0  0  0  0  0  0  0  0  0  0  0  0\\n    3.6127   -1.8102   -3.3899 H   0  0  0  0  0  0  0  0  0  0  0  0\\n    5.3776   -2.0347   -3.2097 H   0  0  0  0  0  0  0  0  0  0  0  0\\n    5.6915    0.3207   -2.6980 H   0  0  0  0  0  0  0  0  0  0  0  0\\n    3.9610    0.6929   -2.9449 H   0  0  0  0  0  0  0  0  0  0  0  0\\n    5.2608   -1.1707   -0.8463 H   0  0  0  0  0  0  0  0  0  0  0  0\\n    3.5214   -1.1216   -1.1432 H   0  0  0  0  0  0  0  0  0  0  0  0\\n    5.3078    1.1900   -0.2232 H   0  0  0  0  0  0  0  0  0  0  0  0\\n    3.5833    1.3614   -0.6061 H   0  0  0  0  0  0  0  0  0  0  0  0\\n    4.8650   -0.5574    1.4299 H   0  0  0  0  0  0  0  0  0  0  0  0\\n    3.1440   -0.5783    1.0033 H   0  0  0  0  0  0  0  0  0  0  0  0\\n    2.9560    1.8132    2.0069 H   0  0  0  0  0  0  0  0  0  0  0  0\\n    4.6910    1.6137    2.4867 H   0  0  0  0  0  0  0  0  0  0  0  0\\n    4.4240   -0.1986    3.8200 H   0  0  0  0  0  0  0  0  0  0  0  0\\n    2.7319   -0.5743    3.2313 H   0  0  0  0  0  0  0  0  0  0  0  0\\n    3.7451    1.7522    4.9146 H   0  0  0  0  0  0  0  0  0  0  0  0\\n    2.0145    1.5407    4.3194 H   0  0  0  0  0  0  0  0  0  0  0  0\\n    2.0193   -0.7543    5.1857 H   0  0  0  0  0  0  0  0  0  0  0  0\\n    3.6015   -0.5653    5.9246 H   0  0  0  0  0  0  0  0  0  0  0  0\\n    1.9785   -0.3124    7.7128 H   0  0  0  0  0  0  0  0  0  0  0  0\\n    2.5512    1.3736    7.3232 H   0  0  0  0  0  0  0  0  0  0  0  0\\n    0.1363    0.1095    5.9550 H   0  0  0  0  0  0  0  0  0  0  0  0\\n    0.6876    1.7752    5.8178 H   0  0  0  0  0  0  0  0  0  0  0  0\\n    0.0021    2.1584    8.2636 H   0  0  0  0  0  0  0  0  0  0  0  0\\n   -0.5305    0.3772    8.2359 H   0  0  0  0  0  0  0  0  0  0  0  0\\n   -1.7176    0.7038    6.2250 H   0  0  0  0  0  0  0  0  0  0  0  0\\n   -1.3765    2.5075    6.2597 H   0  0  0  0  0  0  0  0  0  0  0  0\\n   -3.1920    0.8605    8.0209 H   0  0  0  0  0  0  0  0  0  0  0  0\\n   -2.7564    2.5284    8.4947 H   0  0  0  0  0  0  0  0  0  0  0  0\\n   -3.7391    1.9794    5.6872 H   0  0  0  0  0  0  0  0  0  0  0  0\\n   -3.7880    3.4553    6.6369 H   0  0  0  0  0  0  0  0  0  0  0  0\\n   -6.0646    2.4858    6.5152 H   0  0  0  0  0  0  0  0  0  0  0  0\\n   -5.4794    2.5190    8.2038 H   0  0  0  0  0  0  0  0  0  0  0  0\\n   -6.6057    0.4525    7.6328 H   0  0  0  0  0  0  0  0  0  0  0  0\\n   -4.9284    0.0363    7.9479 H   0  0  0  0  0  0  0  0  0  0  0  0\\n   -6.6356    0.3926    5.4627 H   0  0  0  0  0  0  0  0  0  0  0  0\\n   -4.9486    0.6999    5.1222 H   0  0  0  0  0  0  0  0  0  0  0  0\\n   -3.9021   -5.4194    3.2910 H   0  0  0  0  0  0  0  0  0  0  0  0\\n   -4.5075   -7.7741    2.5759 H   0  0  0  0  0  0  0  0  0  0  0  0\\n   -5.0776   -9.8318    3.6052 H   0  0  0  0  0  0  0  0  0  0  0  0\\n   -7.5966   -7.1688    7.8855 H   0  0  0  0  0  0  0  0  0  0  0  0\\n   -7.2368   -8.9417    8.1123 H   0  0  0  0  0  0  0  0  0  0  0  0\\n   -8.7128   -8.4126    7.2240 H   0  0  0  0  0  0  0  0  0  0  0  0\\n   -6.3551   -5.5641    6.6938 H   0  0  0  0  0  0  0  0  0  0  0  0\\n  1  2  2  0\\n  2  3  1  0\\n  2  4  1  0\\n  4  5  1  0\\n  4  6  2  3\\n  3  7  1  0\\n  6  8  1  0\\n  9 10  2  0\\n 10 11  1  0\\n 10 12  1  0\\n 12 13  2  3\\n 11 14  1  0\\n 13 15  1  0\\n 16 17  2  0\\n 17 18  1  0\\n 17 19  1  0\\n 19 20  2  3\\n 18 21  1  0\\n 20 22  1  0\\n 23 24  1  0\\n 24 25  1  0\\n 25 26  1  0\\n 26 27  1  0\\n 27 28  1  0\\n 28 29  1  0\\n 29 30  1  0\\n 30 31  1  0\\n 31 32  1  0\\n 32 33  1  0\\n 33 34  1  0\\n 34 35  1  0\\n 35 36  1  0\\n 36 37  1  0\\n 37 38  1  0\\n 38 39  1  0\\n 39 40  1  0\\n 40 41  1  0\\n 41 42  1  0\\n 42 43  1  0\\n 43 44  1  0\\n 44 45  2  0\\n 44 46  1  0\\n 46 47  2  3\\n 47 48  1  0\\n 48 49  2  0\\n 49 50  1  0\\n 50 51  2  0\\n 51 52  1  0\\n 51 53  1  0\\n 53 54  1  0\\n 54 55  1  0\\n 53 56  2  0\\n 56 48  1  0\\n 23 57  1  0\\n 23 58  1  0\\n 23 59  1  0\\n 24 60  1  0\\n 24 61  1  0\\n 25 62  1  0\\n 25 63  1  0\\n 26 64  1  0\\n 26 65  1  0\\n 27 66  1  0\\n 27 67  1  0\\n 28 68  1  0\\n 28 69  1  0\\n 29 70  1  0\\n 29 71  1  0\\n 30 72  1  0\\n 30 73  1  0\\n 31 74  1  0\\n 31 75  1  0\\n 32 76  1  0\\n 32 77  1  0\\n 33 78  1  0\\n 33 79  1  0\\n 34 80  1  0\\n 34 81  1  0\\n 35 82  1  0\\n 35 83  1  0\\n 36 84  1  0\\n 36 85  1  0\\n 37 86  1  0\\n 37 87  1  0\\n 38 88  1  0\\n 38 89  1  0\\n 39 90  1  0\\n 39 91  1  0\\n 40 92  1  0\\n 40 93  1  0\\n 41 94  1  0\\n 41 95  1  0\\n 42 96  1  0\\n 42 97  1  0\\n 49 98  1  0\\n 50 99  1  0\\n 52100  1  0\\n 55101  1  0\\n 55102  1  0\\n 55103  1  0\\n 56104  1  0\\n105106  1  0\\n106107  1  0\\n107108  1  0\\n108109  1  0\\n109110  1  0\\n110111  1  0\\n111112  1  0\\n112113  1  0\\n113114  1  0\\n114115  1  0\\n115116  1  0\\n116117  1  0\\n117118  1  0\\n118119  1  0\\n119120  1  0\\n120121  1  0\\n121122  1  0\\n122123  1  0\\n123124  1  0\\n124125  1  0\\n125126  1  0\\n126127  2  0\\n126128  1  0\\n128129  2  3\\n129130  1  0\\n130131  2  0\\n131132  1  0\\n132133  2  0\\n133134  1  0\\n133135  1  0\\n135136  1  0\\n136137  1  0\\n135138  2  0\\n138130  1  0\\n105139  1  0\\n105140  1  0\\n105141  1  0\\n106142  1  0\\n106143  1  0\\n107144  1  0\\n107145  1  0\\n108146  1  0\\n108147  1  0\\n109148  1  0\\n109149  1  0\\n110150  1  0\\n110151  1  0\\n111152  1  0\\n111153  1  0\\n112154  1  0\\n112155  1  0\\n113156  1  0\\n113157  1  0\\n114158  1  0\\n114159  1  0\\n115160  1  0\\n115161  1  0\\n116162  1  0\\n116163  1  0\\n117164  1  0\\n117165  1  0\\n118166  1  0\\n118167  1  0\\n119168  1  0\\n119169  1  0\\n120170  1  0\\n120171  1  0\\n121172  1  0\\n121173  1  0\\n122174  1  0\\n122175  1  0\\n123176  1  0\\n123177  1  0\\n124178  1  0\\n124179  1  0\\n131180  1  0\\n132181  1  0\\n134182  1  0\\n137183  1  0\\n137184  1  0\\n137185  1  0\\n138186  1  0\\n187188  1  0\\n188189  1  0\\n189190  1  0\\n190191  1  0\\n191192  1  0\\n192193  1  0\\n193194  1  0\\n194195  1  0\\n195196  1  0\\n196197  1  0\\n197198  1  0\\n198199  1  0\\n199200  1  0\\n200201  1  0\\n201202  1  0\\n202203  1  0\\n203204  1  0\\n204205  1  0\\n205206  1  0\\n206207  1  0\\n207208  1  0\\n208209  2  0\\n208210  1  0\\n210211  2  3\\n211212  1  0\\n211213  1  0\\n213214  2  0\\n214215  1  0\\n215216  2  0\\n216217  1  0\\n216218  1  0\\n218219  1  0\\n219220  1  0\\n218221  2  0\\n221213  1  0\\n187222  1  0\\n187223  1  0\\n187224  1  0\\n188225  1  0\\n188226  1  0\\n189227  1  0\\n189228  1  0\\n190229  1  0\\n190230  1  0\\n191231  1  0\\n191232  1  0\\n192233  1  0\\n192234  1  0\\n193235  1  0\\n193236  1  0\\n194237  1  0\\n194238  1  0\\n195239  1  0\\n195240  1  0\\n196241  1  0\\n196242  1  0\\n197243  1  0\\n197244  1  0\\n198245  1  0\\n198246  1  0\\n199247  1  0\\n199248  1  0\\n200249  1  0\\n200250  1  0\\n201251  1  0\\n201252  1  0\\n202253  1  0\\n202254  1  0\\n203255  1  0\\n203256  1  0\\n204257  1  0\\n204258  1  0\\n205259  1  0\\n205260  1  0\\n206261  1  0\\n206262  1  0\\n214263  1  0\\n215264  1  0\\n217265  1  0\\n220266  1  0\\n220267  1  0\\n220268  1  0\\n221269  1  0\\n  6 46  1  0\\n 12 47  1  0\\n 13128  1  0\\n 19129  1  0\\n 20210  1  0\\nM  END\\n\",\"sdf\");\n\tviewer_1750185236438391.setStyle({\"stick\": {}});\n\tviewer_1750185236438391.zoomTo();\nviewer_1750185236438391.render();\n});\n</script>",
      "text/html": [
       "<div id=\"3dmolviewer_1750185236438391\"  style=\"position: relative; width: 400px; height: 400px;\">\n",
       "        <p id=\"3dmolwarning_1750185236438391\" style=\"background-color:#ffcccc;color:black\">3Dmol.js failed to load for some reason.  Please check your browser console for error messages.<br></p>\n",
       "        </div>\n",
       "<script>\n",
       "\n",
       "var loadScriptAsync = function(uri){\n",
       "  return new Promise((resolve, reject) => {\n",
       "    //this is to ignore the existence of requirejs amd\n",
       "    var savedexports, savedmodule;\n",
       "    if (typeof exports !== 'undefined') savedexports = exports;\n",
       "    else exports = {}\n",
       "    if (typeof module !== 'undefined') savedmodule = module;\n",
       "    else module = {}\n",
       "\n",
       "    var tag = document.createElement('script');\n",
       "    tag.src = uri;\n",
       "    tag.async = true;\n",
       "    tag.onload = () => {\n",
       "        exports = savedexports;\n",
       "        module = savedmodule;\n",
       "        resolve();\n",
       "    };\n",
       "  var firstScriptTag = document.getElementsByTagName('script')[0];\n",
       "  firstScriptTag.parentNode.insertBefore(tag, firstScriptTag);\n",
       "});\n",
       "};\n",
       "\n",
       "if(typeof $3Dmolpromise === 'undefined') {\n",
       "$3Dmolpromise = null;\n",
       "  $3Dmolpromise = loadScriptAsync('https://cdn.jsdelivr.net/npm/3dmol@2.5.0/build/3Dmol-min.js');\n",
       "}\n",
       "\n",
       "var viewer_1750185236438391 = null;\n",
       "var warn = document.getElementById(\"3dmolwarning_1750185236438391\");\n",
       "if(warn) {\n",
       "    warn.parentNode.removeChild(warn);\n",
       "}\n",
       "$3Dmolpromise.then(function() {\n",
       "viewer_1750185236438391 = $3Dmol.createViewer(document.getElementById(\"3dmolviewer_1750185236438391\"),{backgroundColor:\"white\"});\n",
       "viewer_1750185236438391.zoomTo();\n",
       "\tviewer_1750185236438391.removeAllModels();\n",
       "\tviewer_1750185236438391.addModel(\"\\n     RDKit          3D\\n\\n269271  0  0  0  0  0  0  0  0999 V2000\\n    5.0862   -6.1002    0.2185 O   0  0  0  0  0  0  0  0  0  0  0  0\\n    4.4553   -7.0982   -0.2712 C   0  0  0  0  0  0  0  0  0  0  0  0\\n    5.2024   -7.9931   -0.9843 O   0  0  0  0  0  0  0  0  0  0  0  0\\n    2.9929   -7.2344   -0.0534 C   0  0  0  0  0  0  0  0  0  0  0  0\\n    2.1547   -8.7225   -0.8649 Br  0  0  0  0  0  0  0  0  0  0  0  0\\n    2.4745   -6.2989    0.6458 C   0  0  0  0  0  0  0  0  0  0  0  0\\n    6.0059   -7.6626   -1.5453 H   0  0  0  0  0  0  0  0  0  0  0  0\\n    3.1655   -5.5026    1.0172 H   0  0  0  0  0  0  0  0  0  0  0  0\\n   -0.0880   -8.0520    1.4658 O   0  0  0  0  0  0  0  0  0  0  0  0\\n   -1.2003   -7.3881    1.4570 C   0  0  0  0  0  0  0  0  0  0  0  0\\n   -2.1901   -8.0096    2.0970 O   0  0  0  0  0  0  0  0  0  0  0  0\\n   -1.2066   -6.0762    0.7557 C   0  0  0  0  0  0  0  0  0  0  0  0\\n   -2.2989   -5.3235    0.7089 C   0  0  0  0  0  0  0  0  0  0  0  0\\n   -2.0109   -8.5425    2.9676 H   0  0  0  0  0  0  0  0  0  0  0  0\\n   -2.9566   -6.2699    1.4381 H   0  0  0  0  0  0  0  0  0  0  0  0\\n   -6.0737   -5.9747   -0.0110 O   0  0  0  0  0  0  0  0  0  0  0  0\\n   -6.1756   -5.3910    1.0425 C   0  0  0  0  0  0  0  0  0  0  0  0\\n   -7.2255   -5.8030    1.9041 O   0  0  0  0  0  0  0  0  0  0  0  0\\n   -5.2643   -4.2572    1.5135 C   0  0  0  0  0  0  0  0  0  0  0  0\\n   -5.5818   -3.8478    2.6807 C   0  0  0  0  0  0  0  0  0  0  0  0\\n   -7.6354   -6.7258    1.8410 H   0  0  0  0  0  0  0  0  0  0  0  0\\n   -6.5581   -4.5630    3.0003 H   0  0  0  0  0  0  0  0  0  0  0  0\\n    4.2370    3.6262   -3.6959 C   0  0  0  0  0  0  0  0  0  0  0  0\\n    4.8911    4.1005   -2.4234 C   0  0  0  0  0  0  0  0  0  0  0  0\\n    5.0549    5.5912   -2.3466 C   0  0  0  0  0  0  0  0  0  0  0  0\\n    3.7884    6.3563   -2.4153 C   0  0  0  0  0  0  0  0  0  0  0  0\\n    2.7963    6.1012   -1.3377 C   0  0  0  0  0  0  0  0  0  0  0  0\\n    3.3672    6.3600    0.0519 C   0  0  0  0  0  0  0  0  0  0  0  0\\n    2.2654    6.2500    1.0818 C   0  0  0  0  0  0  0  0  0  0  0  0\\n    1.5519    4.9446    1.0065 C   0  0  0  0  0  0  0  0  0  0  0  0\\n    0.4168    4.9275    2.0365 C   0  0  0  0  0  0  0  0  0  0  0  0\\n   -0.2619    3.5681    1.8245 C   0  0  0  0  0  0  0  0  0  0  0  0\\n   -1.4668    3.6065    2.7669 C   0  0  0  0  0  0  0  0  0  0  0  0\\n   -2.2732    2.4125    2.6034 C   0  0  0  0  0  0  0  0  0  0  0  0\\n   -1.5919    1.0818    3.0188 C   0  0  0  0  0  0  0  0  0  0  0  0\\n   -2.6032    0.0557    2.6737 C   0  0  0  0  0  0  0  0  0  0  0  0\\n   -2.5378   -1.3592    3.0074 C   0  0  0  0  0  0  0  0  0  0  0  0\\n   -1.4093   -2.2389    2.7058 C   0  0  0  0  0  0  0  0  0  0  0  0\\n   -0.1696   -2.1916    3.5133 C   0  0  0  0  0  0  0  0  0  0  0  0\\n   -0.3279   -2.6063    4.9137 C   0  0  0  0  0  0  0  0  0  0  0  0\\n   -0.7899   -4.0236    5.1904 C   0  0  0  0  0  0  0  0  0  0  0  0\\n    0.1317   -5.0394    4.6045 C   0  0  0  0  0  0  0  0  0  0  0  0\\n   -0.0292   -5.1176    3.1803 O   0  0  0  0  0  0  0  0  0  0  0  0\\n    0.9430   -5.8064    2.4836 C   0  0  0  0  0  0  0  0  0  0  0  0\\n    1.8779   -6.2495    3.2764 O   0  0  0  0  0  0  0  0  0  0  0  0\\n    1.1015   -6.0819    1.0965 C   0  0  0  0  0  0  0  0  0  0  0  0\\n    0.1254   -5.9052    0.1158 C   0  0  0  0  0  0  0  0  0  0  0  0\\n    0.3633   -5.8744   -1.2641 C   0  0  0  0  0  0  0  0  0  0  0  0\\n   -0.7285   -6.2668   -2.1051 C   0  0  0  0  0  0  0  0  0  0  0  0\\n   -0.6674   -6.2515   -3.4579 C   0  0  0  0  0  0  0  0  0  0  0  0\\n    0.4653   -5.8534   -4.0952 C   0  0  0  0  0  0  0  0  0  0  0  0\\n    0.5920   -5.8187   -5.4788 O   0  0  0  0  0  0  0  0  0  0  0  0\\n    1.5499   -5.4676   -3.3638 C   0  0  0  0  0  0  0  0  0  0  0  0\\n    2.7561   -5.0648   -3.8977 O   0  0  0  0  0  0  0  0  0  0  0  0\\n    3.8903   -4.7016   -3.1947 C   0  0  0  0  0  0  0  0  0  0  0  0\\n    1.4590   -5.4870   -1.9773 C   0  0  0  0  0  0  0  0  0  0  0  0\\n    3.9148    4.4983   -4.2983 H   0  0  0  0  0  0  0  0  0  0  0  0\\n    3.3902    2.9770   -3.4281 H   0  0  0  0  0  0  0  0  0  0  0  0\\n    4.9505    2.9948   -4.2724 H   0  0  0  0  0  0  0  0  0  0  0  0\\n    4.3947    3.7184   -1.5197 H   0  0  0  0  0  0  0  0  0  0  0  0\\n    5.9223    3.6179   -2.3950 H   0  0  0  0  0  0  0  0  0  0  0  0\\n    5.7745    5.9500   -3.1442 H   0  0  0  0  0  0  0  0  0  0  0  0\\n    5.5585    5.8341   -1.3629 H   0  0  0  0  0  0  0  0  0  0  0  0\\n    4.0762    7.4631   -2.3819 H   0  0  0  0  0  0  0  0  0  0  0  0\\n    3.3015    6.1737   -3.4154 H   0  0  0  0  0  0  0  0  0  0  0  0\\n    2.5163    4.9950   -1.3375 H   0  0  0  0  0  0  0  0  0  0  0  0\\n    1.8568    6.6788   -1.4474 H   0  0  0  0  0  0  0  0  0  0  0  0\\n    4.1139    5.5332    0.2558 H   0  0  0  0  0  0  0  0  0  0  0  0\\n    3.8503    7.3220    0.1034 H   0  0  0  0  0  0  0  0  0  0  0  0\\n    1.5706    7.1101    0.8626 H   0  0  0  0  0  0  0  0  0  0  0  0\\n    2.7136    6.4385    2.0879 H   0  0  0  0  0  0  0  0  0  0  0  0\\n    2.1972    4.0826    1.1006 H   0  0  0  0  0  0  0  0  0  0  0  0\\n    1.0681    4.8932   -0.0070 H   0  0  0  0  0  0  0  0  0  0  0  0\\n   -0.3182    5.6976    1.7813 H   0  0  0  0  0  0  0  0  0  0  0  0\\n    0.8604    4.9742    3.0226 H   0  0  0  0  0  0  0  0  0  0  0  0\\n    0.4367    2.7696    2.0885 H   0  0  0  0  0  0  0  0  0  0  0  0\\n   -0.5945    3.4854    0.7960 H   0  0  0  0  0  0  0  0  0  0  0  0\\n   -1.1022    3.6993    3.8245 H   0  0  0  0  0  0  0  0  0  0  0  0\\n   -2.0888    4.5210    2.5150 H   0  0  0  0  0  0  0  0  0  0  0  0\\n   -3.2335    2.4024    3.1861 H   0  0  0  0  0  0  0  0  0  0  0  0\\n   -2.5832    2.2305    1.5411 H   0  0  0  0  0  0  0  0  0  0  0  0\\n   -0.6818    0.9228    2.3915 H   0  0  0  0  0  0  0  0  0  0  0  0\\n   -1.3453    1.1194    4.0536 H   0  0  0  0  0  0  0  0  0  0  0  0\\n   -2.8917    0.1801    1.5531 H   0  0  0  0  0  0  0  0  0  0  0  0\\n   -3.5768    0.4553    3.1509 H   0  0  0  0  0  0  0  0  0  0  0  0\\n   -2.8201   -1.4228    4.1120 H   0  0  0  0  0  0  0  0  0  0  0  0\\n   -3.4309   -1.8347    2.4506 H   0  0  0  0  0  0  0  0  0  0  0  0\\n   -1.6920   -3.2864    2.5368 H   0  0  0  0  0  0  0  0  0  0  0  0\\n   -1.0438   -1.8880    1.6725 H   0  0  0  0  0  0  0  0  0  0  0  0\\n    0.5560   -2.8731    3.0325 H   0  0  0  0  0  0  0  0  0  0  0  0\\n    0.2587   -1.1633    3.4144 H   0  0  0  0  0  0  0  0  0  0  0  0\\n    0.6911   -2.5990    5.3879 H   0  0  0  0  0  0  0  0  0  0  0  0\\n   -0.9310   -1.9668    5.5726 H   0  0  0  0  0  0  0  0  0  0  0  0\\n   -0.8661   -4.1879    6.2734 H   0  0  0  0  0  0  0  0  0  0  0  0\\n   -1.8285   -4.1672    4.7742 H   0  0  0  0  0  0  0  0  0  0  0  0\\n    0.0875   -6.0411    5.0241 H   0  0  0  0  0  0  0  0  0  0  0  0\\n    1.2029   -4.6773    4.7282 H   0  0  0  0  0  0  0  0  0  0  0  0\\n   -1.6580   -6.5816   -1.6496 H   0  0  0  0  0  0  0  0  0  0  0  0\\n   -1.5124   -6.5369   -4.0875 H   0  0  0  0  0  0  0  0  0  0  0  0\\n    1.2688   -5.2829   -5.9787 H   0  0  0  0  0  0  0  0  0  0  0  0\\n    4.6392   -4.2577   -3.8984 H   0  0  0  0  0  0  0  0  0  0  0  0\\n    3.6820   -3.9473   -2.4233 H   0  0  0  0  0  0  0  0  0  0  0  0\\n    4.3895   -5.5887   -2.7342 H   0  0  0  0  0  0  0  0  0  0  0  0\\n    2.3045   -5.1371   -1.4380 H   0  0  0  0  0  0  0  0  0  0  0  0\\n    8.4872    5.7614   -8.9742 C   0  0  0  0  0  0  0  0  0  0  0  0\\n    7.5665    5.4187   -7.8381 C   0  0  0  0  0  0  0  0  0  0  0  0\\n    6.5459    6.5554   -7.7127 C   0  0  0  0  0  0  0  0  0  0  0  0\\n    5.6318    6.2654   -6.5578 C   0  0  0  0  0  0  0  0  0  0  0  0\\n    4.5714    7.3180   -6.3473 C   0  0  0  0  0  0  0  0  0  0  0  0\\n    3.6932    7.4534   -7.5910 C   0  0  0  0  0  0  0  0  0  0  0  0\\n    2.6034    8.4584   -7.4005 C   0  0  0  0  0  0  0  0  0  0  0  0\\n    1.6034    8.1314   -6.3344 C   0  0  0  0  0  0  0  0  0  0  0  0\\n    0.8606    6.8363   -6.6607 C   0  0  0  0  0  0  0  0  0  0  0  0\\n   -0.1578    6.6279   -5.5876 C   0  0  0  0  0  0  0  0  0  0  0  0\\n   -0.9523    5.3370   -5.7753 C   0  0  0  0  0  0  0  0  0  0  0  0\\n   -1.9026    5.3036   -4.6032 C   0  0  0  0  0  0  0  0  0  0  0  0\\n   -2.8128    4.1518   -4.5046 C   0  0  0  0  0  0  0  0  0  0  0  0\\n   -2.2095    2.7981   -4.3235 C   0  0  0  0  0  0  0  0  0  0  0  0\\n   -1.3175    2.7324   -3.0753 C   0  0  0  0  0  0  0  0  0  0  0  0\\n   -0.8113    1.3070   -2.9238 C   0  0  0  0  0  0  0  0  0  0  0  0\\n    0.1529    1.2494   -1.7693 C   0  0  0  0  0  0  0  0  0  0  0  0\\n    0.6914   -0.1565   -1.6331 C   0  0  0  0  0  0  0  0  0  0  0  0\\n   -0.4396   -1.0768   -1.1946 C   0  0  0  0  0  0  0  0  0  0  0  0\\n   -0.0014   -2.5119   -1.2008 C   0  0  0  0  0  0  0  0  0  0  0  0\\n   -0.8992   -3.3613   -0.6134 O   0  0  0  0  0  0  0  0  0  0  0  0\\n   -2.2496   -3.1847   -0.4056 C   0  0  0  0  0  0  0  0  0  0  0  0\\n   -2.7349   -2.1323   -0.7618 O   0  0  0  0  0  0  0  0  0  0  0  0\\n   -3.0604   -4.3293    0.2798 C   0  0  0  0  0  0  0  0  0  0  0  0\\n   -4.2959   -3.8679    0.5212 C   0  0  0  0  0  0  0  0  0  0  0  0\\n   -4.7197   -2.7360   -0.3070 C   0  0  0  0  0  0  0  0  0  0  0  0\\n   -5.3026   -1.5659   -0.0768 C   0  0  0  0  0  0  0  0  0  0  0  0\\n   -5.8143   -0.8093   -1.1429 C   0  0  0  0  0  0  0  0  0  0  0  0\\n   -5.7139   -1.2646   -2.4700 C   0  0  0  0  0  0  0  0  0  0  0  0\\n   -6.2588   -0.4584   -3.4425 O   0  0  0  0  0  0  0  0  0  0  0  0\\n   -5.0869   -2.5130   -2.7296 C   0  0  0  0  0  0  0  0  0  0  0  0\\n   -5.0848   -2.7939   -4.0983 O   0  0  0  0  0  0  0  0  0  0  0  0\\n   -4.4761   -3.9226   -4.6897 C   0  0  0  0  0  0  0  0  0  0  0  0\\n   -4.6254   -3.1849   -1.6965 C   0  0  0  0  0  0  0  0  0  0  0  0\\n    9.1643    4.9544   -9.2663 H   0  0  0  0  0  0  0  0  0  0  0  0\\n    9.1298    6.6343   -8.7128 H   0  0  0  0  0  0  0  0  0  0  0  0\\n    7.9124    6.0931   -9.8782 H   0  0  0  0  0  0  0  0  0  0  0  0\\n    7.0205    4.4798   -8.1134 H   0  0  0  0  0  0  0  0  0  0  0  0\\n    8.1257    5.2491   -6.9047 H   0  0  0  0  0  0  0  0  0  0  0  0\\n    7.1271    7.4652   -7.5022 H   0  0  0  0  0  0  0  0  0  0  0  0\\n    6.0069    6.5983   -8.6739 H   0  0  0  0  0  0  0  0  0  0  0  0\\n    5.1588    5.2847   -6.5769 H   0  0  0  0  0  0  0  0  0  0  0  0\\n    6.2787    6.3180   -5.6396 H   0  0  0  0  0  0  0  0  0  0  0  0\\n    3.9346    6.9708   -5.5289 H   0  0  0  0  0  0  0  0  0  0  0  0\\n    5.0400    8.3090   -6.1148 H   0  0  0  0  0  0  0  0  0  0  0  0\\n    3.2702    6.4401   -7.7732 H   0  0  0  0  0  0  0  0  0  0  0  0\\n    4.3375    7.7774   -8.4588 H   0  0  0  0  0  0  0  0  0  0  0  0\\n    2.0498    8.5929   -8.3629 H   0  0  0  0  0  0  0  0  0  0  0  0\\n    3.1150    9.4461   -7.1946 H   0  0  0  0  0  0  0  0  0  0  0  0\\n    0.8753    8.9336   -6.2452 H   0  0  0  0  0  0  0  0  0  0  0  0\\n    2.1640    7.9201   -5.3742 H   0  0  0  0  0  0  0  0  0  0  0  0\\n    1.5566    5.9704   -6.6734 H   0  0  0  0  0  0  0  0  0  0  0  0\\n    0.3361    6.9820   -7.6273 H   0  0  0  0  0  0  0  0  0  0  0  0\\n    0.2911    6.7242   -4.6122 H   0  0  0  0  0  0  0  0  0  0  0  0\\n   -0.9392    7.4402   -5.6769 H   0  0  0  0  0  0  0  0  0  0  0  0\\n   -1.5795    5.3996   -6.6897 H   0  0  0  0  0  0  0  0  0  0  0  0\\n   -0.2797    4.4764   -5.7590 H   0  0  0  0  0  0  0  0  0  0  0  0\\n   -2.5016    6.2528   -4.5932 H   0  0  0  0  0  0  0  0  0  0  0  0\\n   -1.2364    5.4076   -3.7034 H   0  0  0  0  0  0  0  0  0  0  0  0\\n   -3.5646    4.2998   -3.6731 H   0  0  0  0  0  0  0  0  0  0  0  0\\n   -3.4123    4.1120   -5.4541 H   0  0  0  0  0  0  0  0  0  0  0  0\\n   -2.9806    2.0306   -4.1756 H   0  0  0  0  0  0  0  0  0  0  0  0\\n   -1.5426    2.5156   -5.1851 H   0  0  0  0  0  0  0  0  0  0  0  0\\n   -0.4219    3.3519   -3.2260 H   0  0  0  0  0  0  0  0  0  0  0  0\\n   -1.9416    2.9766   -2.2180 H   0  0  0  0  0  0  0  0  0  0  0  0\\n   -0.2644    1.0462   -3.8599 H   0  0  0  0  0  0  0  0  0  0  0  0\\n   -1.6878    0.6285   -2.8014 H   0  0  0  0  0  0  0  0  0  0  0  0\\n   -0.3912    1.5260   -0.8337 H   0  0  0  0  0  0  0  0  0  0  0  0\\n    0.9960    1.9406   -1.8645 H   0  0  0  0  0  0  0  0  0  0  0  0\\n    1.4041   -0.1257   -0.7830 H   0  0  0  0  0  0  0  0  0  0  0  0\\n    1.1192   -0.5061   -2.5633 H   0  0  0  0  0  0  0  0  0  0  0  0\\n   -1.2020   -0.9996   -2.0080 H   0  0  0  0  0  0  0  0  0  0  0  0\\n   -0.7917   -0.6957   -0.2399 H   0  0  0  0  0  0  0  0  0  0  0  0\\n    0.2149   -2.7378   -2.2869 H   0  0  0  0  0  0  0  0  0  0  0  0\\n    0.9744   -2.5624   -0.6264 H   0  0  0  0  0  0  0  0  0  0  0  0\\n   -5.3379   -1.2019    0.9294 H   0  0  0  0  0  0  0  0  0  0  0  0\\n   -6.2924    0.1214   -0.9547 H   0  0  0  0  0  0  0  0  0  0  0  0\\n   -7.1284    0.0567   -3.2736 H   0  0  0  0  0  0  0  0  0  0  0  0\\n   -4.9661   -4.0868   -5.6758 H   0  0  0  0  0  0  0  0  0  0  0  0\\n   -3.3594   -3.7438   -4.8077 H   0  0  0  0  0  0  0  0  0  0  0  0\\n   -4.6151   -4.8053   -4.0464 H   0  0  0  0  0  0  0  0  0  0  0  0\\n   -4.1354   -4.1464   -1.9014 H   0  0  0  0  0  0  0  0  0  0  0  0\\n    4.7034   -2.1112   -5.8674 C   0  0  0  0  0  0  0  0  0  0  0  0\\n    4.8085   -0.9126   -4.9377 C   0  0  0  0  0  0  0  0  0  0  0  0\\n    4.6013   -1.3088   -3.5119 C   0  0  0  0  0  0  0  0  0  0  0  0\\n    4.6529   -0.0744   -2.5746 C   0  0  0  0  0  0  0  0  0  0  0  0\\n    4.4224   -0.5000   -1.1758 C   0  0  0  0  0  0  0  0  0  0  0  0\\n    4.3144    0.6841   -0.1910 C   0  0  0  0  0  0  0  0  0  0  0  0\\n    4.0232    0.1035    1.1500 C   0  0  0  0  0  0  0  0  0  0  0  0\\n    3.7368    1.0815    2.2524 C   0  0  0  0  0  0  0  0  0  0  0  0\\n    3.4418    0.2351    3.4730 C   0  0  0  0  0  0  0  0  0  0  0  0\\n    2.9336    1.0439    4.6662 C   0  0  0  0  0  0  0  0  0  0  0  0\\n    2.6935    0.0035    5.7152 C   0  0  0  0  0  0  0  0  0  0  0  0\\n    1.9745    0.4836    6.9720 C   0  0  0  0  0  0  0  0  0  0  0  0\\n    0.6329    0.9385    6.5431 C   0  0  0  0  0  0  0  0  0  0  0  0\\n   -0.3523    1.2895    7.6737 C   0  0  0  0  0  0  0  0  0  0  0  0\\n   -1.6011    1.6497    6.8860 C   0  0  0  0  0  0  0  0  0  0  0  0\\n   -2.8603    1.8355    7.6377 C   0  0  0  0  0  0  0  0  0  0  0  0\\n   -3.9500    2.3302    6.6629 C   0  0  0  0  0  0  0  0  0  0  0  0\\n   -5.3416    2.0892    7.2274 C   0  0  0  0  0  0  0  0  0  0  0  0\\n   -5.5440    0.5407    7.2290 C   0  0  0  0  0  0  0  0  0  0  0  0\\n   -5.5509    0.1152    5.8210 C   0  0  0  0  0  0  0  0  0  0  0  0\\n   -5.4345   -1.2607    5.5583 O   0  0  0  0  0  0  0  0  0  0  0  0\\n   -5.5738   -1.7508    4.2243 C   0  0  0  0  0  0  0  0  0  0  0  0\\n   -5.8649   -0.8556    3.3930 O   0  0  0  0  0  0  0  0  0  0  0  0\\n   -5.3844   -3.1426    3.8965 C   0  0  0  0  0  0  0  0  0  0  0  0\\n   -5.0355   -3.8815    5.0213 C   0  0  0  0  0  0  0  0  0  0  0  0\\n   -4.6887   -3.1457    6.7086 Br  0  0  0  0  0  0  0  0  0  0  0  0\\n   -5.1479   -5.3209    4.9046 C   0  0  0  0  0  0  0  0  0  0  0  0\\n   -4.7142   -6.0030    3.8929 C   0  0  0  0  0  0  0  0  0  0  0  0\\n   -4.8184   -7.2607    3.3968 C   0  0  0  0  0  0  0  0  0  0  0  0\\n   -5.7010   -8.0027    4.3873 C   0  0  0  0  0  0  0  0  0  0  0  0\\n   -5.8848   -9.3098    3.9982 O   0  0  0  0  0  0  0  0  0  0  0  0\\n   -6.1706   -7.3493    5.4551 C   0  0  0  0  0  0  0  0  0  0  0  0\\n   -6.9513   -8.2714    6.1925 O   0  0  0  0  0  0  0  0  0  0  0  0\\n   -7.6360   -8.1234    7.3847 C   0  0  0  0  0  0  0  0  0  0  0  0\\n   -5.9943   -6.0518    5.8507 C   0  0  0  0  0  0  0  0  0  0  0  0\\n    5.5428   -2.7918   -5.8243 H   0  0  0  0  0  0  0  0  0  0  0  0\\n    3.7932   -2.7189   -5.6226 H   0  0  0  0  0  0  0  0  0  0  0  0\\n    4.5762   -1.7197   -6.8923 H   0  0  0  0  0  0  0  0  0  0  0  0\\n    5.8298   -0.4949   -5.0800 H   0  0  0  0  0  0  0  0  0  0  0  0\\n    4.1065   -0.1311   -5.2824 H   0  0  0  0  0  0  0  0  0  0  0  0\\n    3.6127   -1.8102   -3.3899 H   0  0  0  0  0  0  0  0  0  0  0  0\\n    5.3776   -2.0347   -3.2097 H   0  0  0  0  0  0  0  0  0  0  0  0\\n    5.6915    0.3207   -2.6980 H   0  0  0  0  0  0  0  0  0  0  0  0\\n    3.9610    0.6929   -2.9449 H   0  0  0  0  0  0  0  0  0  0  0  0\\n    5.2608   -1.1707   -0.8463 H   0  0  0  0  0  0  0  0  0  0  0  0\\n    3.5214   -1.1216   -1.1432 H   0  0  0  0  0  0  0  0  0  0  0  0\\n    5.3078    1.1900   -0.2232 H   0  0  0  0  0  0  0  0  0  0  0  0\\n    3.5833    1.3614   -0.6061 H   0  0  0  0  0  0  0  0  0  0  0  0\\n    4.8650   -0.5574    1.4299 H   0  0  0  0  0  0  0  0  0  0  0  0\\n    3.1440   -0.5783    1.0033 H   0  0  0  0  0  0  0  0  0  0  0  0\\n    2.9560    1.8132    2.0069 H   0  0  0  0  0  0  0  0  0  0  0  0\\n    4.6910    1.6137    2.4867 H   0  0  0  0  0  0  0  0  0  0  0  0\\n    4.4240   -0.1986    3.8200 H   0  0  0  0  0  0  0  0  0  0  0  0\\n    2.7319   -0.5743    3.2313 H   0  0  0  0  0  0  0  0  0  0  0  0\\n    3.7451    1.7522    4.9146 H   0  0  0  0  0  0  0  0  0  0  0  0\\n    2.0145    1.5407    4.3194 H   0  0  0  0  0  0  0  0  0  0  0  0\\n    2.0193   -0.7543    5.1857 H   0  0  0  0  0  0  0  0  0  0  0  0\\n    3.6015   -0.5653    5.9246 H   0  0  0  0  0  0  0  0  0  0  0  0\\n    1.9785   -0.3124    7.7128 H   0  0  0  0  0  0  0  0  0  0  0  0\\n    2.5512    1.3736    7.3232 H   0  0  0  0  0  0  0  0  0  0  0  0\\n    0.1363    0.1095    5.9550 H   0  0  0  0  0  0  0  0  0  0  0  0\\n    0.6876    1.7752    5.8178 H   0  0  0  0  0  0  0  0  0  0  0  0\\n    0.0021    2.1584    8.2636 H   0  0  0  0  0  0  0  0  0  0  0  0\\n   -0.5305    0.3772    8.2359 H   0  0  0  0  0  0  0  0  0  0  0  0\\n   -1.7176    0.7038    6.2250 H   0  0  0  0  0  0  0  0  0  0  0  0\\n   -1.3765    2.5075    6.2597 H   0  0  0  0  0  0  0  0  0  0  0  0\\n   -3.1920    0.8605    8.0209 H   0  0  0  0  0  0  0  0  0  0  0  0\\n   -2.7564    2.5284    8.4947 H   0  0  0  0  0  0  0  0  0  0  0  0\\n   -3.7391    1.9794    5.6872 H   0  0  0  0  0  0  0  0  0  0  0  0\\n   -3.7880    3.4553    6.6369 H   0  0  0  0  0  0  0  0  0  0  0  0\\n   -6.0646    2.4858    6.5152 H   0  0  0  0  0  0  0  0  0  0  0  0\\n   -5.4794    2.5190    8.2038 H   0  0  0  0  0  0  0  0  0  0  0  0\\n   -6.6057    0.4525    7.6328 H   0  0  0  0  0  0  0  0  0  0  0  0\\n   -4.9284    0.0363    7.9479 H   0  0  0  0  0  0  0  0  0  0  0  0\\n   -6.6356    0.3926    5.4627 H   0  0  0  0  0  0  0  0  0  0  0  0\\n   -4.9486    0.6999    5.1222 H   0  0  0  0  0  0  0  0  0  0  0  0\\n   -3.9021   -5.4194    3.2910 H   0  0  0  0  0  0  0  0  0  0  0  0\\n   -4.5075   -7.7741    2.5759 H   0  0  0  0  0  0  0  0  0  0  0  0\\n   -5.0776   -9.8318    3.6052 H   0  0  0  0  0  0  0  0  0  0  0  0\\n   -7.5966   -7.1688    7.8855 H   0  0  0  0  0  0  0  0  0  0  0  0\\n   -7.2368   -8.9417    8.1123 H   0  0  0  0  0  0  0  0  0  0  0  0\\n   -8.7128   -8.4126    7.2240 H   0  0  0  0  0  0  0  0  0  0  0  0\\n   -6.3551   -5.5641    6.6938 H   0  0  0  0  0  0  0  0  0  0  0  0\\n  1  2  2  0\\n  2  3  1  0\\n  2  4  1  0\\n  4  5  1  0\\n  4  6  2  3\\n  3  7  1  0\\n  6  8  1  0\\n  9 10  2  0\\n 10 11  1  0\\n 10 12  1  0\\n 12 13  2  3\\n 11 14  1  0\\n 13 15  1  0\\n 16 17  2  0\\n 17 18  1  0\\n 17 19  1  0\\n 19 20  2  3\\n 18 21  1  0\\n 20 22  1  0\\n 23 24  1  0\\n 24 25  1  0\\n 25 26  1  0\\n 26 27  1  0\\n 27 28  1  0\\n 28 29  1  0\\n 29 30  1  0\\n 30 31  1  0\\n 31 32  1  0\\n 32 33  1  0\\n 33 34  1  0\\n 34 35  1  0\\n 35 36  1  0\\n 36 37  1  0\\n 37 38  1  0\\n 38 39  1  0\\n 39 40  1  0\\n 40 41  1  0\\n 41 42  1  0\\n 42 43  1  0\\n 43 44  1  0\\n 44 45  2  0\\n 44 46  1  0\\n 46 47  2  3\\n 47 48  1  0\\n 48 49  2  0\\n 49 50  1  0\\n 50 51  2  0\\n 51 52  1  0\\n 51 53  1  0\\n 53 54  1  0\\n 54 55  1  0\\n 53 56  2  0\\n 56 48  1  0\\n 23 57  1  0\\n 23 58  1  0\\n 23 59  1  0\\n 24 60  1  0\\n 24 61  1  0\\n 25 62  1  0\\n 25 63  1  0\\n 26 64  1  0\\n 26 65  1  0\\n 27 66  1  0\\n 27 67  1  0\\n 28 68  1  0\\n 28 69  1  0\\n 29 70  1  0\\n 29 71  1  0\\n 30 72  1  0\\n 30 73  1  0\\n 31 74  1  0\\n 31 75  1  0\\n 32 76  1  0\\n 32 77  1  0\\n 33 78  1  0\\n 33 79  1  0\\n 34 80  1  0\\n 34 81  1  0\\n 35 82  1  0\\n 35 83  1  0\\n 36 84  1  0\\n 36 85  1  0\\n 37 86  1  0\\n 37 87  1  0\\n 38 88  1  0\\n 38 89  1  0\\n 39 90  1  0\\n 39 91  1  0\\n 40 92  1  0\\n 40 93  1  0\\n 41 94  1  0\\n 41 95  1  0\\n 42 96  1  0\\n 42 97  1  0\\n 49 98  1  0\\n 50 99  1  0\\n 52100  1  0\\n 55101  1  0\\n 55102  1  0\\n 55103  1  0\\n 56104  1  0\\n105106  1  0\\n106107  1  0\\n107108  1  0\\n108109  1  0\\n109110  1  0\\n110111  1  0\\n111112  1  0\\n112113  1  0\\n113114  1  0\\n114115  1  0\\n115116  1  0\\n116117  1  0\\n117118  1  0\\n118119  1  0\\n119120  1  0\\n120121  1  0\\n121122  1  0\\n122123  1  0\\n123124  1  0\\n124125  1  0\\n125126  1  0\\n126127  2  0\\n126128  1  0\\n128129  2  3\\n129130  1  0\\n130131  2  0\\n131132  1  0\\n132133  2  0\\n133134  1  0\\n133135  1  0\\n135136  1  0\\n136137  1  0\\n135138  2  0\\n138130  1  0\\n105139  1  0\\n105140  1  0\\n105141  1  0\\n106142  1  0\\n106143  1  0\\n107144  1  0\\n107145  1  0\\n108146  1  0\\n108147  1  0\\n109148  1  0\\n109149  1  0\\n110150  1  0\\n110151  1  0\\n111152  1  0\\n111153  1  0\\n112154  1  0\\n112155  1  0\\n113156  1  0\\n113157  1  0\\n114158  1  0\\n114159  1  0\\n115160  1  0\\n115161  1  0\\n116162  1  0\\n116163  1  0\\n117164  1  0\\n117165  1  0\\n118166  1  0\\n118167  1  0\\n119168  1  0\\n119169  1  0\\n120170  1  0\\n120171  1  0\\n121172  1  0\\n121173  1  0\\n122174  1  0\\n122175  1  0\\n123176  1  0\\n123177  1  0\\n124178  1  0\\n124179  1  0\\n131180  1  0\\n132181  1  0\\n134182  1  0\\n137183  1  0\\n137184  1  0\\n137185  1  0\\n138186  1  0\\n187188  1  0\\n188189  1  0\\n189190  1  0\\n190191  1  0\\n191192  1  0\\n192193  1  0\\n193194  1  0\\n194195  1  0\\n195196  1  0\\n196197  1  0\\n197198  1  0\\n198199  1  0\\n199200  1  0\\n200201  1  0\\n201202  1  0\\n202203  1  0\\n203204  1  0\\n204205  1  0\\n205206  1  0\\n206207  1  0\\n207208  1  0\\n208209  2  0\\n208210  1  0\\n210211  2  3\\n211212  1  0\\n211213  1  0\\n213214  2  0\\n214215  1  0\\n215216  2  0\\n216217  1  0\\n216218  1  0\\n218219  1  0\\n219220  1  0\\n218221  2  0\\n221213  1  0\\n187222  1  0\\n187223  1  0\\n187224  1  0\\n188225  1  0\\n188226  1  0\\n189227  1  0\\n189228  1  0\\n190229  1  0\\n190230  1  0\\n191231  1  0\\n191232  1  0\\n192233  1  0\\n192234  1  0\\n193235  1  0\\n193236  1  0\\n194237  1  0\\n194238  1  0\\n195239  1  0\\n195240  1  0\\n196241  1  0\\n196242  1  0\\n197243  1  0\\n197244  1  0\\n198245  1  0\\n198246  1  0\\n199247  1  0\\n199248  1  0\\n200249  1  0\\n200250  1  0\\n201251  1  0\\n201252  1  0\\n202253  1  0\\n202254  1  0\\n203255  1  0\\n203256  1  0\\n204257  1  0\\n204258  1  0\\n205259  1  0\\n205260  1  0\\n206261  1  0\\n206262  1  0\\n214263  1  0\\n215264  1  0\\n217265  1  0\\n220266  1  0\\n220267  1  0\\n220268  1  0\\n221269  1  0\\n  6 46  1  0\\n 12 47  1  0\\n 13128  1  0\\n 19129  1  0\\n 20210  1  0\\nM  END\\n\",\"sdf\");\n",
       "\tviewer_1750185236438391.setStyle({\"stick\": {}});\n",
       "\tviewer_1750185236438391.zoomTo();\n",
       "viewer_1750185236438391.render();\n",
       "});\n",
       "</script>"
      ]
     },
     "metadata": {},
     "output_type": "display_data"
    }
   ],
   "source": [
    "rdkit_polymer = polymer.to_rdkit_mol()\n",
    "rdkit_polymer = AllChem.AddHs(rdkit_polymer)\n",
    "rdkit.SanitizeMol(rdkit_polymer)\n",
    "\n",
    "stk.MolWriter().write(polymer, 'polymer.mol')\n",
    "\n",
    "rdkit_polymer_h = Chem.AddHs(rdkit_polymer)\n",
    "params = AllChem.ETKDGv3()\n",
    "params.useRandomCoords=True\n",
    "AllChem.EmbedMolecule(rdkit_polymer_h, params);\n",
    "\n",
    "params = AllChem.ETKDGv3()\n",
    "\n",
    "rdkit_polymer_h = Chem.MolToMolBlock(rdkit_polymer_h)\n",
    "p = py3Dmol.view(width=400,height=400)\n",
    "p.removeAllModels()\n",
    "p.addModel(rdkit_polymer_h,'sdf')\n",
    "p.setStyle({'stick':{}})\n",
    "p.zoomTo()\n",
    "p.show()"
   ]
  }
 ],
 "metadata": {
  "kernelspec": {
   "display_name": ".venv",
   "language": "python",
   "name": "python3"
  },
  "language_info": {
   "codemirror_mode": {
    "name": "ipython",
    "version": 3
   },
   "file_extension": ".py",
   "mimetype": "text/x-python",
   "name": "python",
   "nbconvert_exporter": "python",
   "pygments_lexer": "ipython3",
   "version": "3.13.2"
  }
 },
 "nbformat": 4,
 "nbformat_minor": 5
}
