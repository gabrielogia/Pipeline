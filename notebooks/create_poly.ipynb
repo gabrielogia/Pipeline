{
 "cells": [
  {
   "cell_type": "code",
   "execution_count": 1,
   "id": "7806a4c3-2ae8-4013-a6ef-af2fc76c874a",
   "metadata": {},
   "outputs": [],
   "source": [
    "import rdkit.Chem.AllChem as rdkit\n",
    "from rdkit.Chem import AllChem\n",
    "import stk\n",
    "import os\n",
    "\n",
    "from rdkit import Chem"
   ]
  },
  {
   "cell_type": "code",
   "execution_count": 2,
   "id": "eab0bd15-48d6-4fd8-aba4-20f684c04e21",
   "metadata": {},
   "outputs": [
    {
     "data": {
      "image/png": "[encoded data removed]",
      "text/plain": [
       "<rdkit.Chem.rdchem.RWMol at 0x134062430>"
      ]
     },
     "execution_count": 2,
     "metadata": {},
     "output_type": "execute_result"
    }
   ],
   "source": [
    "monomer_smiles = \"COC(=O)C=C\"\n",
    "\n",
    "def create_monomer(smiles):\n",
    "    \"\"\"Parse SMILES and return RDKit molecule.\"\"\"\n",
    "    mol = Chem.MolFromSmiles(smiles)\n",
    "    if mol is None:\n",
    "        raise ValueError(\"Invalid SMILES string\")\n",
    "    return mol\n",
    "\n",
    "monomer = create_monomer(monomer_smiles)\n",
    "monomer = Chem.RWMol(monomer)\n",
    "monomer"
   ]
  },
  {
   "cell_type": "code",
   "execution_count": 3,
   "id": "ba5aa529",
   "metadata": {},
   "outputs": [],
   "source": [
    "def replace_first_cce(smiles):\n",
    "    mol = Chem.MolFromSmiles(smiles)\n",
    "    if mol is None:\n",
    "        raise ValueError(\"Invalid SMILES string\")\n",
    "\n",
    "    acrylate_pattern = Chem.MolFromSmarts('C=C-C(=O)O')\n",
    "    if not mol.HasSubstructMatch(acrylate_pattern):\n",
    "        raise ValueError(\"No acrylate group (C=C-C(=O)O) found in the molecule\")\n",
    "\n",
    "    matches = mol.GetSubstructMatches(acrylate_pattern)\n",
    "    match = matches[0]\n",
    "    c1_idx, c2_idx = match[0], match[1]\n",
    "\n",
    "    bond = mol.GetBondBetweenAtoms(c1_idx, c2_idx)\n",
    "    if bond is None or bond.GetBondType() != Chem.BondType.DOUBLE:\n",
    "        raise ValueError(\"Expected double bond not found in acrylate group\")\n",
    "\n",
    "    rw_mol = Chem.RWMol(mol)\n",
    "    bond.SetBondType(Chem.BondType.SINGLE)\n",
    "\n",
    "    br1 = rw_mol.AddAtom(Chem.Atom('Br'))\n",
    "    br2 = rw_mol.AddAtom(Chem.Atom('Br'))\n",
    "    rw_mol.AddBond(c1_idx, br1, Chem.BondType.SINGLE)\n",
    "    rw_mol.AddBond(c2_idx, br2, Chem.BondType.SINGLE)\n",
    "\n",
    "    Chem.SanitizeMol(rw_mol)\n",
    "\n",
    "    return Chem.MolToSmiles(rw_mol, isomericSmiles=True)"
   ]
  },
  {
   "cell_type": "code",
   "execution_count": 4,
   "id": "30823c50",
   "metadata": {},
   "outputs": [
    {
     "data": {
      "image/png": "[encoded data removed]",
      "text/plain": [
       "<rdkit.Chem.rdchem.Mol at 0x1042feb90>"
      ]
     },
     "execution_count": 4,
     "metadata": {},
     "output_type": "execute_result"
    }
   ],
   "source": [
    "fixed_monomer_1 = monomer_smiles\n",
    "fixed_monomer_2 = monomer_smiles\n",
    "\n",
    "# Fix the fixed monomers smiles to bromo form\n",
    "fixed1_bromo = replace_first_cce(fixed_monomer_1)\n",
    "fixed2_bromo = replace_first_cce(fixed_monomer_2)\n",
    "mB = Chem.MolFromSmiles(fixed2_bromo)\n",
    "mB"
   ]
  },
  {
   "cell_type": "code",
   "execution_count": 5,
   "id": "72f18ec4",
   "metadata": {},
   "outputs": [
    {
     "name": "stdout",
     "output_type": "stream",
     "text": [
      "Saved copolymer: ./2.xyz\n"
     ]
    }
   ],
   "source": [
    "bb1 = stk.BuildingBlock(fixed1_bromo, [stk.BromoFactory()])\n",
    "bb2 = stk.BuildingBlock(fixed2_bromo, [stk.BromoFactory()])\n",
    "\n",
    "# Construct the polymer\n",
    "polymer = stk.ConstructedMolecule(\n",
    "    topology_graph=stk.polymer.Linear(\n",
    "        building_blocks=(bb1, bb2),\n",
    "        repeating_unit='AB',\n",
    "        num_repeating_units=8,\n",
    "        optimizer=stk.Collapser(scale_steps=False),\n",
    "    ),\n",
    ")\n",
    "\n",
    "# Convert to RDKit molecule\n",
    "rdkit_polymer = polymer.to_rdkit_mol()\n",
    "rdkit_polymer = Chem.AddHs(rdkit_polymer)\n",
    "Chem.SanitizeMol(rdkit_polymer)\n",
    "\n",
    "# Remove bromine atoms explicitly\n",
    "rw_mol = Chem.RWMol(rdkit_polymer)\n",
    "bromine_atoms = [atom.GetIdx() for atom in rw_mol.GetAtoms() if atom.GetSymbol() == 'Br']\n",
    "for idx in sorted(bromine_atoms, reverse=True):  # Reverse to avoid index shifting\n",
    "    rw_mol.RemoveAtom(idx)\n",
    "\n",
    "# Update the RDKit molecule\n",
    "rdkit_polymer = rw_mol.GetMol()\n",
    "Chem.SanitizeMol(rdkit_polymer)\n",
    "\n",
    "# Optimize the molecule\n",
    "AllChem.MMFFOptimizeMolecule(rdkit_polymer)\n",
    "\n",
    "# Update the STK polymer with new coordinates\n",
    "polymer = polymer.with_position_matrix(\n",
    "    position_matrix=rdkit_polymer.GetConformer().GetPositions()\n",
    ")\n",
    "\n",
    "def write_xyz_file(mol, filename):\n",
    "    conf = mol.GetConformer()\n",
    "    num_atoms = mol.GetNumAtoms()\n",
    "    with open(filename, 'w') as f:\n",
    "        f.write(f\"{num_atoms}\\n\")\n",
    "        f.write(f\"Molecule ID: {os.path.basename(filename).split('.')[0]}\\n\")\n",
    "        for i in range(num_atoms):\n",
    "            atom = mol.GetAtomWithIdx(i)\n",
    "            pos = conf.GetAtomPosition(i)\n",
    "            symbol = atom.GetSymbol()\n",
    "            f.write(f\"{symbol} {pos.x:.6f} {pos.y:.6f} {pos.z:.6f}\\n\")\n",
    "\n",
    "# Write XYZ file\n",
    "xyz_filename = os.path.join('.', '2.xyz')\n",
    "write_xyz_file(rdkit_polymer, xyz_filename)\n",
    "print(f\"Saved copolymer: {xyz_filename}\")"
   ]
  }
 ],
 "metadata": {
  "kernelspec": {
   "display_name": "venv",
   "language": "python",
   "name": "python3"
  },
  "language_info": {
   "codemirror_mode": {
    "name": "ipython",
    "version": 3
   },
   "file_extension": ".py",
   "mimetype": "text/x-python",
   "name": "python",
   "nbconvert_exporter": "python",
   "pygments_lexer": "ipython3",
   "version": "3.13.2"
  }
 },
 "nbformat": 4,
 "nbformat_minor": 5
}
