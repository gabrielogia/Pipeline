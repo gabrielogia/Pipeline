{
 "cells": [
  {
   "cell_type": "code",
   "execution_count": 19,
   "id": "7806a4c3-2ae8-4013-a6ef-af2fc76c874a",
   "metadata": {},
   "outputs": [
    {
     "name": "stdout",
     "output_type": "stream",
     "text": [
      "Fri Jun 13 15:47:16 2025\n",
      "2025.03.2\n"
     ]
    }
   ],
   "source": [
    "import rdkit.Chem.AllChem as rdkit\n",
    "from rdkit.Chem import AllChem\n",
    "import copy\n",
    "import stk\n",
    "import os\n",
    "import py3Dmol\n",
    "\n",
    "import pandas as pd\n",
    "import json\n",
    "from rdkit import Chem\n",
    "from rdkit.Chem import Draw\n",
    "from rdkit.Chem.Draw import IPythonConsole\n",
    "from rdkit import rdBase\n",
    "import os,time\n",
    "print( time.asctime())\n",
    "print(rdBase.rdkitVersion)"
   ]
  },
  {
   "cell_type": "code",
   "execution_count": 20,
   "id": "c5f1b0bb-2b97-4d15-b97d-0be89326b7fc",
   "metadata": {},
   "outputs": [
    {
     "data": {
      "application/vnd.microsoft.datawrangler.viewer.v0+json": {
       "columns": [
        {
         "name": "index",
         "rawType": "int64",
         "type": "integer"
        },
        {
         "name": " cid",
         "rawType": "int64",
         "type": "integer"
        },
        {
         "name": "cmpdname",
         "rawType": "object",
         "type": "string"
        },
        {
         "name": "cmpdsynonym",
         "rawType": "object",
         "type": "string"
        },
        {
         "name": "mw",
         "rawType": "float64",
         "type": "float"
        },
        {
         "name": "mf",
         "rawType": "object",
         "type": "string"
        },
        {
         "name": "polararea",
         "rawType": "float64",
         "type": "float"
        },
        {
         "name": "complexity",
         "rawType": "float64",
         "type": "float"
        },
        {
         "name": "xlogp",
         "rawType": "float64",
         "type": "float"
        },
        {
         "name": "heavycnt",
         "rawType": "int64",
         "type": "integer"
        },
        {
         "name": "hbonddonor",
         "rawType": "int64",
         "type": "integer"
        },
        {
         "name": "hbondacc",
         "rawType": "int64",
         "type": "integer"
        },
        {
         "name": "rotbonds",
         "rawType": "int64",
         "type": "integer"
        },
        {
         "name": "inchi",
         "rawType": "object",
         "type": "string"
        },
        {
         "name": "isosmiles",
         "rawType": "object",
         "type": "string"
        },
        {
         "name": "canonicalsmiles",
         "rawType": "object",
         "type": "string"
        },
        {
         "name": "inchikey",
         "rawType": "object",
         "type": "string"
        },
        {
         "name": "iupacname",
         "rawType": "object",
         "type": "string"
        },
        {
         "name": "exactmass",
         "rawType": "float64",
         "type": "float"
        },
        {
         "name": "monoisotopicmass",
         "rawType": "float64",
         "type": "float"
        },
        {
         "name": "charge",
         "rawType": "int64",
         "type": "integer"
        },
        {
         "name": "covalentunitcnt",
         "rawType": "int64",
         "type": "integer"
        },
        {
         "name": "isotopeatomcnt",
         "rawType": "int64",
         "type": "integer"
        },
        {
         "name": "totalatomstereocnt",
         "rawType": "int64",
         "type": "integer"
        },
        {
         "name": "definedatomstereocnt",
         "rawType": "int64",
         "type": "integer"
        },
        {
         "name": "undefinedatomstereocnt",
         "rawType": "int64",
         "type": "integer"
        },
        {
         "name": "totalbondstereocnt",
         "rawType": "int64",
         "type": "integer"
        },
        {
         "name": "definedbondstereocnt",
         "rawType": "int64",
         "type": "integer"
        },
        {
         "name": "undefinedbondstereocnt",
         "rawType": "int64",
         "type": "integer"
        },
        {
         "name": "pclidcnt",
         "rawType": "int64",
         "type": "integer"
        },
        {
         "name": "gpidcnt",
         "rawType": "int64",
         "type": "integer"
        },
        {
         "name": "gpfamilycnt",
         "rawType": "int64",
         "type": "integer"
        },
        {
         "name": "meshheadings",
         "rawType": "object",
         "type": "unknown"
        },
        {
         "name": "annothits",
         "rawType": "object",
         "type": "string"
        },
        {
         "name": "annothitcnt",
         "rawType": "int64",
         "type": "integer"
        },
        {
         "name": "aids",
         "rawType": "object",
         "type": "string"
        },
        {
         "name": "cidcdate",
         "rawType": "int64",
         "type": "integer"
        },
        {
         "name": "sidsrcname",
         "rawType": "object",
         "type": "string"
        },
        {
         "name": "depcatg",
         "rawType": "object",
         "type": "string"
        },
        {
         "name": "annotation",
         "rawType": "object",
         "type": "unknown"
        }
       ],
       "ref": "8a013979-8a62-44e8-8b06-ea2e2b2832b4",
       "rows": [
        [
         "0",
         "6581",
         "Acrylic acid",
         "ACRYLIC ACID|2-Propenoic acid|79-10-7|prop-2-enoic acid|Propenoic acid|Vinylformic acid|Acroleic acid|Ethylenecarboxylic acid|Propene acid|ACRYLATE|Propenoate|9003-01-4|Glacial acrylic acid|Kyselina akrylova|Acrylic acid, glacial|RCRA waste number U008|Acide acrylique|Acido acrilio|Caswell No. 009A|Carbopol 934p|Viscalex HV 30|NSC 4765|CCRIS 737|Acrylic resin|HSDB 1421|UNII-J94PBK7X8S|EINECS 201-177-9|J94PBK7X8S|Carbopol 940|BRN 0635743|ACRLYLIC ACID|DTXSID0039229|CHEBI:18308|AI3-15717|NSC-4765|DTXCID8028|Aron|Antiprex A|Versicol E9|NSC4765|EC 201-177-9|Acrylic acid resin|Acrysol ase-75|C3:1n-1|Versicol E 7|Versicol E15|4-02-00-01455 (Beilstein Handbook Reference)|Acrysol A 1|Acrysol A 3|Acrysol A 5|Acrysol A-1|Acrysol AC 5|Carbopol 960|Carboset 515|Primal Ase 60|Revacryl A191|Versicol K 11|Versicol S 25|Dispex C40|Acrysol WS-24|Cyguard 266|Joncryl 678|Jurimer AC 10H|Jurimer AC 10P|Nalfloc 636|Good-rite K 37|Revacryl A 191|Junlon 110|Viscon 103|Good-rite K 702|Good-rite K 732|Good-rite WS 801|NCGC00166246-01|Synthemul 90-588|Aron A 10H|Carboset Resin No. 515|ACRYLIC ACID (IARC)|ACRYLIC ACID [IARC]|OLD 01|PA 11M|PAA-25|Carbopol|P 11H|P-11H|WS 24|ACRYLIC ACID (13C3)|Acido acrilio [Spanish]|Acide acrylique [French]|WS 801|Kyselina akrylova [Czech]|R968|UN2218|RCRA waste no. U008|allenediol|Acrysol lmw-20X|XPA|Aqueous acrylic acid|25987-55-7|Dow Latex 354|Ethene carboxylic acid|Acrylic acid, inhibited|CH2=CHCOOH|(stabilized with MEHQ)|Carbomer 934 (NF)|Carbomer 940 (NF)|Carbomer 941 (NF)|Carbopol 910 (TN)|Carbopol 934 (TN)|Carbopol 940 (TN)|Carbopol 941 (TN)|Carbomer 934P (NF)|Carbopol 934P (TN)|Carbomer 910 (USAN)|ACRYLIC ACID [MI]|Carbomer 1342 (NF)|Carbopol 1342 (TN)|ACRYLIC ACID [HSDB]|WLN: QV1U1|average Mv ~450,000|UN 2218 (Salt/Mix)|Acrylic acid, p.a., 99%|CHEMBL1213529|STR00040|Tox21_112372|LMFA01030193|MFCD00004367|NSC106034|NSC106035|NSC106036|NSC106037|NSC112122|NSC112123|NSC114472|NSC165257|NSC226569|STL281870|AKOS000118799|DB02579|NSC-106034|NSC-106035|NSC-106036|NSC-106037|NSC-112122|NSC-112123|NSC-114472|NSC-165257|NSC-226569|CAS-79-10-7|Poly(acrylic acid), 25% soln in water|BP-30259|1ST001124|DB-220116|DB-251641|A0141|NS00001146|EN300-17959|C00511|C19501|D03392|D03393|D03394|D03395|D03396|D03397|Acrylic Acid contains 200ppm MEHQ as inhibitor|Acrylic acid, inhibited [UN2218]  [Corrosive]|A830860|Q324628|Z57127944|F0001-2070|InChI=1/C3H4O2/c1-2-3(4)5/h2H,1H2,(H,4,5|Acrylic acid, anhydrous, contains 200 ppm MEHQ as inhibitor, 99%|Acrylic acid, SAJ first grade, >=97.0%, contains 190-210 ppm MEHQ as stabilizer|1204391-75-2|55927-87-2|9063-87-0",
         "72.06",
         "C3H4O2",
         "37.3",
         "55.9",
         "0.3",
         "5",
         "1",
         "2",
         "1",
         "InChI=1S/C3H4O2/c1-2-3(4)5/h2H,1H2,(H,4,5)",
         "C=CC(=O)O",
         "C=CC(=O)O",
         "NIXOWILDQLNWCW-UHFFFAOYSA-N",
         "prop-2-enoic acid",
         "72.0211",
         "72.0211",
         "0",
         "1",
         "0",
         "0",
         "0",
         "0",
         "0",
         "0",
         "0",
         "14297",
         "464476",
         "263916",
         null,
         "Biological Test Results|Interactions and Pathways|Chemical and Physical Properties|Classification|Drug and Medication Information|Food Additives and Ingredients|Identification|Literature|Patents|Pharmacology and Biochemistry|Safety and Hazards|Toxicity|Use and Manufacturing|Associated Disorders and Diseases|Spectral Information|Taxonomy|Biological Test Results: Active|Biological Test Results: Micromolar",
         "18",
         "155|157|161|165|167|175|192|248|256|328|880|1189|1194|1205|1208|1469|1471|1479|1487|1490|1688|1766|1768|2528|2546|2551|2662|485290|492961|498775|504327|504332|504749|504832|504834|504847|504865|588579|588834|602332|603955|624030|624031|624032|624044|624170|624172|624173|624296|624297|651631|651632|651633|651634|652048|652051|686978|686979|720516|720532|720533|720552|720634|720635|720637|720674|720675|720678|720679|720680|720681|720682|720683|720684|720685|720686|720687|720691|720692|720693|720719|720725|743012|743014|743015|743033|743035|743036|743040|743041|743042|743053|743054|743063|743064|743065|743066|743067|743069|743074|743075|743077|743078|743079|743080|743081|743083|743084|743085|743086|743091|743094|743122|743139|743140|743244|1144084|1259344|1259355|1259356|1259407|1259411|1296008|1345199|1346983|1346984|1346985|1346986|1346987|1645882|1645883|1645886|1645887|1745844|1749710|1749711",
         "20040916",
         "001Chemical|10X CHEM|1st Scientific|3B Scientific (Wuhan) Corp|3WAY PHARM INC|A&J Pharmtech CO., LTD.|A2B Chem|AA BLOCKS|AAA Chemistry|Aaron Chemicals LLC|AbaChemScene|abcr GmbH|ABI Chem|Acadechem|Achemica|Achemtek|Acmec Biochemical|Acorn PharmaTech Product List|AEchem Scientific Corp., USA|AHH Chemical co.,ltd|AK Scientific, Inc. (AKSCI)|AKos Consulting & Solutions|Aladdin|Alfa Chemistry|Alichem|Amadis Chemical|Ambeed|Ambinter|AN PharmaTech|Angel Pharmatech Ltd.|Angene Chemical|Anward|Apexmol|Aribo Reagent|Ark Pharm, Inc.|AstaTech, Inc.|Aurora Fine Chemicals LLC|BenchChem|BePharm Ltd.|Bic Biotech|Biocore|BioCyc|Biosynth|BLD Pharm|BOC Sciences|Broad Institute|BroadPharm|CAPOT|Carcinogenic Potency Database (CPDB)|CD Formulation|Center for Chemical Genomics, University of Michigan|ChEBI|Chem-Space.com Database|ChemBank|Chembase.cn|ChEMBL|Chemchart|ChemDB|Chemenu Inc.|ChemExper Chemical Directory|Chemical Carcinogenesis Research Information System (CCRIS)|Chemical Synthesis Database|ChemIDplus|Chemieliva Pharmaceutical Co., Ltd|ChemMol|ChemSpider|ChemTik|China MainChem Co., Ltd|CHIRALEN|Clearsynth|Clinivex|Collaborative Drug Discovery, Inc.|Combi-Blocks|Comparative Toxicogenomics Database (CTD)|Cooke Chemical Co., Ltd|Crystallography Open Database (COD)|CymitQuimica|DAOGE BIOPHARMA|Davey Lab, Department of Microbiology, NEIDL, Boston University|DC Chemicals|Debye Scientific Co., Ltd|DiscoveryGate|DrugBank|DTP/NCI|EAWAG Biocatalysis/Biodegradation Database|ECI Group, LCSB, University of Luxembourg|Egon Willighagen, Department of Bioinformatics - BiGCaT, Maastricht University|eMolecules|Emory University Molecular Libraries Screening Center|Enamine|eNovation Chemicals|enviPath|EPA DSSTox|EPA Substance Registry Services|EvitaChem|FDA Global Substance Registration System (GSRS)|Finetech Industry Limited|Founder Pharma|Glentham Life Sciences Ltd.|Google Patents|Hairui Chemical|Hoffman Fine Chemicals|Human Metabolome Database (HMDB)|Hunan Chemfish Pharmaceutical Co., Ltd.|IBM|iChemical Technology USA Inc|ISpharm|IUPAC Digitized pKa Dataset|J&H Chemical Co.,ltd|Jamson Pharmachem Technology|Japan Chemical Substance Dictionary (Nikkaji)|KEGG|Key Organics/BIONET|King Scientific|LabNetwork, a WuXi AppTec Company|labseeker|LeadScope|LEAPCHEM|LGC Standards|Life Chemicals|LIPID MAPS|MassBank Europe|MassBank of North America (MoNA)|Matrix Scientific|Mcule|Metabolomics Workbench|MolCore|Moldb|Molecule Market|Molepedia|MolPort|MP Biomedicals|MTDP|MuseChem|National Center for Advancing Translational Sciences (NCATS)|NCBI Structure|NextBio|NextMove Software|NIAID ChemDB|NIST Chemistry WebBook|NIST Mass Spectrometry Data Center|NMRShiftDB|NORMAN Suspect List Exchange|NovoSeek|Oakwood Products|OChem|OtavaChemicals|OXCHEM CORPORATION|Parchem|PATENTSCOPE (WIPO)|PDSP|Probes & Drugs portal|Protein Data Bank in Europe (PDBe)|PubChem Reference Collection|Rare Chemicals GmbH, Germany|RR Scientific|Santa Cruz Biotechnology, Inc.|SCRIPDB|Sigma-Aldrich|Sinfoo Biotech|SLING Consortium|SMID|Smolecule|Springer Nature|Starshine Chemical|SureChEMBL|Syntree|TCI (Tokyo Chemical Industry)|THE BioTek|The Cambridge Structural Database|Therapeutic Target Database (TTD)|Thermo Fisher Scientific|Thieme Chemistry|Thomson Pharma|Thoreauchem|TimTec|Tox21|ToxPlanet|Tractus|TripleBond|Vitas-M Laboratory|VladaChem|VWR, Part of Avantor|Wikidata|Wiley|Win-Win Chemical|Wolves R&D chemical|Wubei-Biochem|Wutech|Yick-Vic Chemicals & Pharmaceuticals (HK) Ltd.|Yuhao Chemical|ZeroPM - Zero Pollution of Persistent, Mobile Substances|ZINC",
         "Chemical Vendors|Curation Efforts|Governmental Organizations|Journal Publishers|Legacy Depositors|NIH Initiatives|Research and Development|Subscription Services",
         "D001697 - Biomedical and Dental Materials > D014014 - Tissue Adhesives"
        ],
        [
         "1",
         "13165",
         "2-Hydroxyethyl acrylate",
         "2-HYDROXYETHYL ACRYLATE|818-61-1|Hydroxyethyl acrylate|2-hydroxyethyl prop-2-enoate|Ethylene glycol monoacrylate|2-Propenoic acid, 2-hydroxyethyl ester|Bisomer 2HEA|Acrylic acid 2-hydroxyethyl ester|2-hydroxyethylacrylate|2-(Acryloyloxy)ethanol|Ethylene glycol, acrylate|Acrylic acid, 2-hydroxyethyl ester|Ethylene glycol, monoacrylate|CCRIS 3431|HSDB 1123|EINECS 212-454-9|2-Hydroxyethylester kyseliny akrylove|UNII-25GT92NY0C|BRN 0969853|25GT92NY0C|26022-14-0|DTXSID2022123|MFCD00002865|DTXCID202123|HEA|EC 212-454-9|HYDROXYETHYL ACRYLATE, 2-|26403-58-7|MFCD00081878|CAS-818-61-1|2-Hydroxyethyl acrylate(7.56 cp(15.5 degrees c))|2-Hydroxyethylester kyseliny akrylove [Czech]|hydroxyethylacrylate|hydroxylethyl acrylate|2-hydroxylethylacrylate|Ethyleen glycol acrylaat|Ethylene glycol acrylate|2-hydroxy-ethyl acrylate|beta-Hydroxyethyl acrylate|Ethandiol-1,2-monoacrylate|2-Hydroxyethyl-2-propenoate|.beta.-Hydroxyethyl acrylate|SCHEMBL14875|MLS002174257|Acrylic acid hydroxyethyl ester|CHEMBL1330518|2-Hydroxyethyl acrylate,97.5%|acrylic acid 2-hydroxy-ethyl ester|Tox21_201430|Tox21_302968|2-propenoic acid 2-hydroxyethyl ester|2-Propenoic acid, 2-hydroxyethylester|AKOS015856805|2-HYDROXYETHYL ACRYLATE [HSDB]|CS-W013616|NCGC00090958-01|NCGC00090958-02|NCGC00256462-01|NCGC00258981-01|LS-13051|SMR001253953|A0743|NS00006157|2-Hydroxyethyl Acrylate (stabilized with MEHQ)|D78194|2-Hydroxyethyl Acrylate, (stabilized with MEHQ)|A840207|J-521472|Q27253959|InChI=1/C5H8O3/c1-2-5(7)8-4-3-6/h2,6H,1,3-4H|2-Hydroxyethyl acrylate, 96%, contains 200-650 ppm monomethyl ether hydroquinone as inhibitor",
         "116.11",
         "C5H8O3",
         "46.5",
         "87.7",
         "-0.2",
         "8",
         "1",
         "3",
         "4",
         "InChI=1S/C5H8O3/c1-2-5(7)8-4-3-6/h2,6H,1,3-4H2",
         "C=CC(=O)OCCO",
         "C=CC(=O)OCCO",
         "OMIGHNLMNHATMP-UHFFFAOYSA-N",
         "2-hydroxyethyl prop-2-enoate",
         "116.047",
         "116.047",
         "0",
         "1",
         "0",
         "0",
         "0",
         "0",
         "0",
         "0",
         "0",
         "644",
         "23270",
         "12260",
         null,
         "Biological Test Results|Interactions and Pathways|Chemical and Physical Properties|Classification|Drug and Medication Information|Food Additives and Ingredients|Identification|Literature|Patents|Pharmacology and Biochemistry|Safety and Hazards|Toxicity|Use and Manufacturing|Associated Disorders and Diseases|Spectral Information|Biological Test Results: Active|Biological Test Results: Micromolar",
         "17",
         "421|426|427|433|434|435|445|530|540|541|542|543|544|545|546|584|585|595|596|603|605|654|655|656|657|658|659|660|661|662|663|664|665|666|667|875|880|881|884|885|886|887|889|892|893|894|900|902|912|921|923|924|925|926|938|946|947|948|955|960|961|962|963|964|965|966|967|968|969|970|971|972|973|974|975|976|977|978|979|980|981|982|983|984|985|986|987|988|989|993|994|995|1030|1188|1452|1457|1458|1469|1471|1476|1477|1478|1479|1948|2101|2107|2112|2120|2517|2546|2549|2551|485290|488839|488862|488895|488896|488899|488965|488966|492953|492956|492972|493005|493008|493087|493091|493098|493131|493160|493187|493244|504326|504329|504339|504357|504411|504414|504423|504441|504444|504454|504462|504490|504523|504558|504577|504582|504621|504634|504648|504690|504692|504700|504707|504720|504734|504766|504775|504803|504845|504847|504884|504891|504894|504937|540253|540256|540263|540267|540276|540295|540303|540308|540317|540336|540364|588334|588335|588352|588354|588358|588391|588405|588413|588436|588453|588456|588458|588473|588475|588489|588492|588493|588497|588499|588501|588513|588514|588515|588516|588526|588527|588532|588533|588534|588535|588536|588537|588541|588543|588544|588545|588546|588547|588549|588579|588590|588591|588621|588664|588674|588689|588692|588726|588727|588795|588812|588813|588814|588819|588834|588850|588852|588855|588856|602123|602141|602162|602163|602179|602229|602233|602244|602247|602248|602250|602261|602274|602281|602310|602313|602329|602332|602340|602342|602346|602363|602393|602396|602399|602405|602410|602429|602438|602440|602449|602481|623870|623877|623901|624037|624038|624040|624125|624126|624127|624168|624169|624170|624171|624172|624173|624178|624202|624204|624246|624256|624263|624267|624268|624287|624288|624291|624296|624297|624304|624330|624352|624354|624377|624414|624415|624416|624417|624418|624463|624464|624465|624466|624467|624483|651550|651560|651572|651582|651602|651610|651631|651632|651633|651634|651635|651636|651640|651644|651647|651654|651658|651661|651687|651699|651702|651704|651710|651711|651718|651719|651723|651724|651725|651741|651743|651749|651751|651754|651755|651757|651758|651768|651777|651778|651800|651802|651819|651820|651821|651838|651957|651958|651999|652010|652017|652025|652039|652048|652051|652054|652067|652104|652105|652106|652115|652126|652154|652162|652163|652197|652257|686940|686964|686970|686971|686978|686979|686996|687014|687016|720504|720508|720509|720511|720516|720542|720543|720551|720552|720553|720579|720580|720582|720596|720634|720635|720636|720637|720647|720648|720652|720653|720659|720674|720675|720678|720679|720680|720681|720682|720683|720684|720685|720686|720687|720691|720692|720693|720700|720702|720704|720706|720707|720708|720709|720711|720719|720725|743012|743014|743015|743033|743035|743036|743040|743041|743042|743053|743054|743063|743064|743065|743066|743067|743069|743074|743075|743077|743078|743079|743080|743081|743083|743084|743085|743086|743091|743094|743122|743126|743139|743140|743191|743194|743199|743202|743203|743209|743210|743211|743212|743213|743215|743217|743218|743219|743220|743221|743222|743223|743224|743225|743226|743227|743228|743238|743239|743240|743241|743242|743247|743255|743266|743269|743279|743287|743288|743292|743397|743398|743445|1053197|1159509|1159515|1159516|1159517|1159518|1159519|1159520|1159521|1159523|1159524|1159525|1159526|1159527|1159528|1159529|1159531|1159551|1159552|1159553|1159555|1159606|1224834|1224835|1224836|1224837|1224838|1224839|1224840|1224841|1224842|1224843|1224844|1224845|1224846|1224847|1224848|1224849|1224865|1224867|1224868|1224869|1224870|1224871|1224872|1224873|1224874|1224875|1224876|1224877|1224878|1224879|1224880|1224881|1224882|1224883|1224884|1224885|1224886|1224887|1224888|1224889|1224890|1224892|1224893|1224894|1224895|1224896|1259241|1259242|1259243|1259244|1259247|1259248|1259313|1259318|1259364|1259365|1259366|1259367|1259368|1259369|1259377|1259378|1259379|1259380|1259381|1259382|1259383|1259384|1259385|1259386|1259387|1259388|1259390|1259391|1259392|1259393|1259394|1259395|1259396|1259400|1259401|1259402|1259403|1259404|1259407|1259415|1272365|1346378|1346784|1346795|1346798|1346799|1346824|1346829|1346859|1346877|1346891|1346924|1346977|1346978|1346979|1346980|1346981|1346982|1347030|1347031|1347032|1347033|1347034|1347035|1347036|1347037|1347038|1347041|1347056|1347071|1347075|1347076|1347120|1347131|1347395|1347397|1347398|1347399|1671190|1671196|1671197|1671198|1671199|1671200|1671201|1671463|1745845|1919968|1919969|1919970|1920062|1920063|1920064|1920065|1920067|1920068|1963577|1963578|1963579|1963580|1963581|1963582|1963583|1963584|1963585",
         "20050327",
         "001Chemical|10X CHEM|3B Scientific (Wuhan) Corp|3WAY PHARM INC|A&J Pharmtech CO., LTD.|A2B Chem|AA BLOCKS|AAA Chemistry|Aaron Chemicals LLC|AbaChemScene|abcr GmbH|ABI Chem|Acadechem|Achemtek|Acmec Biochemical|AHH Chemical co.,ltd|AK Scientific, Inc. (AKSCI)|AKos Consulting & Solutions|Alfa Chemistry|Alichem|Allbio Pharm Co., Ltd|Amadis Chemical|Ambeed|AN PharmaTech|Angene Chemical|Anward|AstaTech, Inc.|Aurora Fine Chemicals LLC|BenchChem|Bic Biotech|Biosynth|BLD Pharm|BOC Sciences|Boerchem|Chem-Space.com Database|Chembase.cn|ChEMBL|ChemDB|Chemenu Inc.|ChemExper Chemical Directory|Chemhere|Chemical Carcinogenesis Research Information System (CCRIS)|ChemIDplus|Chemieliva Pharmaceutical Co., Ltd|Cheminformatics Friedrich-Schiller-University Jena|ChemMol|ChemSpider|ChemTik|Comparative Toxicogenomics Database (CTD)|Cooke Chemical Co., Ltd|CymitQuimica|DiscoveryGate|ECI Group, LCSB, University of Luxembourg|Egon Willighagen, Department of Bioinformatics - BiGCaT, Maastricht University|eMolecules|eNovation Chemicals|EPA DSSTox|EPA Substance Registry Services|EvitaChem|FDA Global Substance Registration System (GSRS)|Finetech Industry Limited|Founder Pharma|Glentham Life Sciences Ltd.|Google Patents|Hairui Chemical|IBM|iChemical Technology USA Inc|ISpharm|J&H Chemical Co.,ltd|Japan Chemical Substance Dictionary (Nikkaji)|Key Organics/BIONET|King Scientific|Kingston Chemistry|LabNetwork, a WuXi AppTec Company|labseeker|LeadScope|LEAPCHEM|MassBank Europe|MassBank of North America (MoNA)|Mcule|MLSMR|MolCore|Molecule Market|Molepedia|MolPort|MuseChem|National Center for Advancing Translational Sciences (NCATS)|NextBio|NextMove Software|NIST Chemistry WebBook|NIST Mass Spectrometry Data Center|NMRShiftDB|NORMAN Suspect List Exchange|NovoSeek|Parchem|PATENTSCOPE (WIPO)|PubChem Reference Collection|RR Scientific|Santa Cruz Biotechnology, Inc.|SCRIPDB|Sigma-Aldrich|Sinfoo Biotech|SLING Consortium|Small Molecule Screening Facility, UW Madison|Smolecule|Springer Nature|SpringerMaterials|Starshine Chemical|SureChEMBL|SynQuest Laboratories|Syntree|TCI (Tokyo Chemical Industry)|THE BioTek|Thermo Fisher Scientific|Thieme Chemistry|Thomson Pharma|Thoreauchem|Tox21|ToxPlanet|Tractus|VladaChem|VWR, Part of Avantor|Wikidata|Wiley|Win-Win Chemical|Wubei-Biochem|Wutech|Yick-Vic Chemicals & Pharmaceuticals (HK) Ltd.|Yuhao Chemical|ZeroPM - Zero Pollution of Persistent, Mobile Substances|ZINC",
         "Chemical Vendors|Curation Efforts|Governmental Organizations|Journal Publishers|Legacy Depositors|NIH Initiatives|Research and Development|Subscription Services",
         null
        ],
        [
         "2",
         "5355130",
         "Octinoxate",
         "Octinoxate|5466-77-3|83834-59-7|2-Ethylhexyl 4-methoxycinnamate|Parsol MCX|Parsol MOX|Parsol|2-Ethylhexyl-p-methoxycinnamate|4-Methoxycinnamic Acid 2-Ethylhexyl Ester|2-Ethylhexyl p-methoxycinnamate|Octyl methoxycinnamate|2-Ethylhexyl trans-4-methoxycinnamate|Escalol 557|(E)-2-Ethylhexyl 3-(4-methoxyphenyl)acrylate|Uvinul MC80|Ethylhexyl p-methoxycinnamate|Heliopan New|2-Ethylhexyl 3-(4-methoxyphenyl)acrylate|(E)-Octinoxate|Ethylhexyl methoxycinnamate|Uvinul MC 80|Ocinoxate|Eusolex 2292|Jeescreen omc|Solarom omc|Neo heliopan AV|2-ethylhexyl (E)-3-(4-methoxyphenyl)prop-2-enoate|UNII-4Y5P7MUD51|Escalol 557nb|Uvinul mc 80n|Escalol 557t|Uvinul mc 90|2-Propenoic acid, 3-(4-methoxyphenyl)-, 2-ethylhexyl ester|4Y5P7MUD51|Sunscreen AV|Eusolex uv-pearls omc|Sun caps 664|Octyl p-Methoxycinnamate|NSC-26466|Octyl 4-methoxycinnamic acid|DTXCID905302|DTXSID1025302|DTXSID9047205|CHEBI:88667|EC 629-661-9|2-Propenoic acid, 3-(4-methoxyphenyl)-, 2-ethylhexyl ester, (2E)-|2-Ethylhexyl methoxycinnamate|octylmethoxycinnamate|2-Ethylhexyl |trans|-4-methoxycinnamate|NCGC00160623-01|SHADE UVAGUARD COMPONENT OCTINOXATE|NSC 26466|OCTINOXATE (MART.)|OCTINOXATE [MART.]|OCTINOXATE (USP-RS)|OCTINOXATE [USP-RS]|Octinoxate [USAN]|Parsol mcx-sa|OCTINOXATE (USP MONOGRAPH)|OCTINOXATE [USP MONOGRAPH]|CAS-5466-77-3|octyl-methoxycinnamate|(E)-Octyl methoxycinnamate|octinoxato|octinoxatum|Foundation|CalciumRepair|ExpressionMarine|Healthy Makeup|RetinC|sunscreen sprays|Anti AgingStar|VitaK|Alix Avien|octinoxate powder|RegemarineExtreme|HydromarineExtreme|Silky FinishFluid|La Creme Plus|Octinoxate 6%|SeborrheicPurifying|Beyond ColorLipcolor|Octinoxate 6.0%|Surf Bay Lip Balm|ultra color absolute|LBelSupremacie Teint|Parsol (TN)|Beautiful Eyes Cream|Bebak Sun Protection|Hyaluronic FillerSerum|Premium Age Protector|The Healthy Foundation|UvinulT MC 80 N|2-ethylhexyl 3-(4-methoxyphenyl)-2-propenoate|PERFECT BUSTBODY|Long Last Makeup 00|Long Last Makeup 01|Long Last Makeup 03|Long Last Makeup 05|Neo heliopan, type AV|UV Shield SPF 42|Garnier Skin Active BB|Octinoxate (USP/INN)|ethylhexl methoxycinnamate|DR. IASO|Flormar BB BB01 Fair|OCTINOXATE [INN]|Optimal Tinted Complexion|Flormar BB BB03 Light|OCTINOXATE [HSDB]|UV MILD SUN BLOCK|Alix AvienVegan CC Cream|Camouflage Concealer Cream|Intervene Makeup SPF 15|OCTINOXATE [VANDF]|Detoxifying Day Cream Rich|Beyond ColorLip Conditioner|Satin SatisfactionLip Color|Ultra Color RichCool Bliss|2-Power Fabric SPF 25|All Hours Primer SPF 18|Cover Cream. Sun protection|CRYSTAL MIRACLE MULTI|OCTINOXATE [WHO-DD]|SCHEMBL15609|Beyond ColorPlumping Lipcolor|Healthy MakeupLip Conditioner|Skin Recovery Face SPF 15|Detoxifying Day Cream Regular|Flormar CC 02 Anti Redness|Flormar CC 04 Anti Fatigue|MLS004773966|Flormar BB BB02 Fair Light|Kroger Dark Tanning OilSPF 4|MACSELECT TINT SPF 15|2-ethylhexyl (2E)-3-(4-methoxyphenyl)prop-2-enoate|Flormar Mattifying BB 01 Fair|SELECTSPF 15 FOUNDATION|CHEMBL1200608|DTXCID0028119|Ethylhexyl Methoxycinnamate cream|OCTINOXATE [ORANGE BOOK]|TREATMENT LIPSHINESPF 15|Alix AvienVegan Matte Foundation|Flormar Mattifying BB 03 Light|HY-B1234A|Rimmel BB Cream Beauty BalmDark|Tanning Sunscreen SPF 4Daylogic|Top Secrets BB Primer SPF 25|3-(4-Methoxyphenyl)-2-propenoic acid 2-ethylhexyl ester|D02BA02|Balm with Natural Butters SPF15|Rimmel BB Cream Beauty BalmLight|Flormar CC 03 Anti Dark Circles|Pretty by Flormar BB 001 Light|Rimmel BB Cream Beauty BalmMedium|Ultra Color RichMoisture Seduction|4-Methoxycinnamic Acid Octyl Ester|Bain de SoleilOrange Gelee SPF 4|FIRMING AND MOISTURIZINGBODY|Maquillaje Liquido Maxima Cobertura|MINERALIZE FOUNDATIONSPF 15|OCTYL METHOXYCINNAMATE [MI]|STUDIO MOISTURE TINTSPF 15|HY-B1234|NSC26466|TRACELESSSKIN RESPONSIVE TINT|Beyond ColorPlumping Lip Conditioner|Intervene Makeup SPF 15 Soft Sand|p-Methoxyzimtsaure-2-ethylhexylester|Tox21_111942|Tox21_201327|Tox21_302576|Intervene Makeup SPF 15 Soft Beige|Intervene Makeup SPF 15 Soft Cocoa|Intervene Makeup SPF 15 Soft Honey|Intervene Makeup SPF 15 Soft Shell|Intervene Makeup SPF 15 Soft Toast|Intervene Makeup SPF 15 Soft Wheat|Mattifying Facial SPF 15 Oily Skin|MFCD00072582|s5320|Flormar Mattifying BB 02 Fair Light|OCTYL METHOXYCINNAMATE [VANDF]|AKOS015838519|Intervene Makeup SPF 15 Soft Bisque|Intervene Makeup SPF 15 Soft Bronze|Intervene Makeup SPF 15 Soft Toffee|MOISTURE RICH FOUNDATIONSPF 15|Tox21_111942_1|1ST3409|2-Ethylhexyl 4-methoxycinnamate, 98%|CCG-267384|CS-4732|DB09496|Rimmel BB Cream Beauty BalmVery Light|ETHYLHEXYL METHOXYCI NNAMATE Cream|Intervene Makeup SPF 15 Soft Sunbeige|Long Last Make UP 02 (Neo Heliopan)|MACHYPER REAL SPF 15 FOUNDATION|2-Ethylhexyl (trans)-4-methoxycinnamate|FACE IT AQUA TINTED32800420|FACE IT AQUA TINTED32800421|Flormar Smooth Touch Foundation 10 Sand|Intervene Makeup SPF 15 Soft Porcelain|NARS AFTERGLOW LIP BALM CLEAN CUT|NCGC00160623-02|NCGC00160623-03|NCGC00160623-04|NCGC00181309-01|NCGC00256897-01|NCGC00258879-01|AS-11708|Flormar Smooth Touch Foundation 04 Ivory|Flormar Smooth Touch Foundation 06 Beige|Flormar Smooth Touch Foundation 11 Honey|Flormar Smooth Touch Foundation 12 Amber|Garnier Skin Renew Miracle Skin Perfector|GR LONGSTAY Matte Face Powder SPF 15|High Protection Sun Air Spray SPF50 PA|Hydrating Facial Cream SPF 15 Dry Skin|Hydrating Facial SPF 15 Mix Normal Skin|Pretty by Flormar BB 005 Natural Beige|SHISEIDO PROTECTIVE LIP CONDITIONER|SMR001550370|TONYMOLY KISS KISS LIP ESSENCE BALM|CAS-83834-59-7|Flormar Smooth Touch Foundation 13 Caramel|FUTURIST AGE RESISTING MAKEUPSPF 15|MICRO RETOUCHINGBLUR COMPACT SPF 50|TOM FORD TRACELESS FOUNDATIONSPF 15|2-Ethylhexyl trans-4-methoxycinnamate, 98%|2-ETHYLHEXYL-TRANS-4-METHOXYCINNAMATE|BENEFIANCE PROTECTIVE HAND REVITALIZER|CS-0031468|ETHYLHEXYL P-METHOXYCINNAMATE [VANDF]|M1082|NS00013675|OCTINOXATE COMPONENT OF SHADE UVAGUARD|True Color Flawless Liquid Foundation SPF15|(E)-2-Ethylhexyl3-(4-methoxyphenyl)acrylate|Ceramide Time Complex Moisture Cream SPF 15|DOUBLE MATTEOIL CONTROL MAKEUP SPF 15|Dr. C. Tuna Sun 6 SPF Tan and Care Carrot|ESIKAHydrated Face Makeup Foundation SPF 15|Flormar Smooth Touch Foundation 01 Porcelain|Skin Caviar Foundation Sunscreen SPF 15-Buff|True Color Ideal Nude Matte Foundation SPF20|D05225|D95744|Flormar Perfect Coverage Foundation 115 Toffee|Flormar Smooth Touch Foundation 03 Light Ivory|Flormar Smooth Touch Foundation 05 Soft Beige|Skin Caviar Foundation Sunscreen SPF 15-Mocha|Skin Caviar Foundation Sunscreen SPF 15-Peche|Skin Caviar Foundation Sunscreen SPF 15-Petal|VIRTUAL SKINSUPER NATURAL FINISH SPF 10|Flormar Smooth Touch Foundation 09 Golden Beige|Flormar Smooth Touch Foundation 14 Dark Caramel|P-METHOXYCINNAMIC ACID 2-ETHYLHEXYL ESTER|Pretty by Flormar Cover up Foundation 004 Ivory|Pretty by Flormar Cover up Foundation 006 Beige|Pretty by Flormar Cover up Foundation 010 Sand|Pretty by Flormar Cover up Foundation 011 Honey|Pretty by Flormar Cover up Foundation 012 Amber|A840663|CLE DE PEAU BEAUTE RADIANT FOUNDATIONBEIGE|CLE DE PEAU BEAUTE RADIANT FOUNDATIONIVORY|CLE DE PEAU BEAUTE RADIANT FOUNDATIONMOCHA|CLE DE PEAU BEAUTE RADIANT FOUNDATIONOCHER|EN300-22794950|Flawless Finish Bare Perfection Makeup SPF 8 Buff|Flawless Finish Bare Perfection Makeup SPF 8 Fawn|Flormar Smooth Touch Foundation 02 Pink Porcelain|Flormar Smooth Touch Foundation 07 Golden Neutral|MICRO RETOUCHINGN203 NATURAL BEIGE SPF50|Pretty by Flormar Mattifying Foundation 004 Ivory|Pretty by Flormar Mattifying Foundation 006 Beige|Pretty by Flormar Mattifying Foundation 010 Sand|Pretty by Flormar Mattifying Foundation 011 Honey|Pretty by Flormar Mattifying Foundation 012 Amber|Pretty by Flormar Weigthless Foundation 004 Ivory|Pretty by Flormar Weigthless Foundation 006 Beige|Pretty by Flormar Weigthless Foundation 010 Sand|Pretty by Flormar Weigthless Foundation 011 Honey|Pretty by Flormar Weigthless Foundation 012 Amber|Q739648|SHISEIDO REVITALESSENCE SKIN GLOW FOUNDATION|SR-01000883955|SUGAR SPICE LIP TREATMENT SUNSCREEN SPF 15|2-Ethylhexyl 4-methoxycinnamate, analytical standard|Flawless Finish Bare Perfection Makeup SPF 8 Beige|Flawless Finish Bare Perfection Makeup SPF 8 Bisque|Flawless Finish Bare Perfection Makeup SPF 8 Cameo|Flawless Finish Bare Perfection Makeup SPF 8 Cream|Flawless Finish Bare Perfection Makeup SPF 8 Honey|Flawless Finish Bare Perfection Makeup SPF 8 Ivory|Flawless Finish Bare Perfection Makeup SPF 8 Mocha|Flormar Perfect Coverage Foundation 118 Dark Brown|Fresh Mint Moisturizing Sunscreen Lip Balm SPF 15|MINERALIZESATIN FOUNDATION SPF 15 FOUNDATION|Pretty by Flormar Cover up Foundation 007 Neutral|Pretty by Flormar Cover up Foundation 013 Caramel|Pretty by Flormar Mattifying Foundation 007 Neutral|Pretty by Flormar Mattifying Foundation 013 Caramel|Pretty by Flormar Weigthless Foundation 007 Neutral|Pretty by Flormar Weigthless Foundation 013 Caramel|Protective Makeup SPF 15 with Edelwess Stem Cells|RAIN AND SHINE LIPTINTWITH SPF 10 SUNSCREEN|Skin Caviar Foundation Sunscreen SPF 15-Pure Ivory|Skin Caviar Foundation Sunscreen SPF 15-Soft Ivory|Skin Caviar Foundation Sunscreen SPF 15-Warm Beige|Skin Caviar Foundation Sunscreen SPF 15-Warm Ivory|Skin Caviar Foundation Sunscreen SPF 15-Warm Linen|SR-01000883955-1|Sweet Berry Moisturizing Sunscreen Lip Balm SPF 15|Flawless Finish Bare Perfection Makeup SPF 8 Camellia|Flormar Perfect Coverage Foundation 117 Dark Caramel|Pretty by Flormar Cover up Foundation 001 Porcelain|Pretty by Flormar Cover up Foundation 005 Soft Beige|Pretty by Flormar Mattifying Foundation 001 Porcelain|Pretty by Flormar Weigthless Foundation 001Porcelain|SHISEIDO FUTURE LX TOTAL RADIANCE FOUNDATION E|Skin Caviar Foundation Sunscreen SPF 15-Creme Peche|Skin Caviar Foundation Sunscreen SPF 15-Golden Beige|Skin Caviar Foundation Sunscreen SPF 15-Honey Beige|Skin Caviar Foundation Sunscreen SPF 15-Soleil Peche|Skin Caviar Foundation Sunscreen SPF 15-Tender Ivory|True Color Flawless Cream To Powder Foundation SPF15|CLE DE PEAU BEAUTE REFINING FLUID FOUNDATIONB10|CLE DE PEAU BEAUTE REFININ",
         "290.4",
         "C18H26O3",
         "35.5",
         "304.0",
         "5.3",
         "21",
         "0",
         "3",
         "10",
         "InChI=1S/C18H26O3/c1-4-6-7-15(5-2)14-21-18(19)13-10-16-8-11-17(20-3)12-9-16/h8-13,15H,4-7,14H2,1-3H3/b13-10+",
         "CCCCC(CC)COC(=O)/C=C/C1=CC=C(C=C1)OC",
         "CCCCC(CC)COC(=O)C=CC1=CC=C(C=C1)OC",
         "YBGZDTIWKVFICR-JLHYYAGUSA-N",
         "2-ethylhexyl (E)-3-(4-methoxyphenyl)prop-2-enoate",
         "290.188",
         "290.188",
         "0",
         "1",
         "0",
         "1",
         "0",
         "1",
         "1",
         "1",
         "0",
         "298",
         "61231",
         "19797",
         null,
         "Biological Test Results|Interactions and Pathways|Chemical and Physical Properties|Classification|Drug and Medication Information|Identification|Literature|Patents|Pharmacology and Biochemistry|Safety and Hazards|Toxicity|Use and Manufacturing|Associated Disorders and Diseases|Spectral Information|Taxonomy|Biological Test Results: Active|Biological Test Results: Micromolar",
         "17",
         "880|1469|1471|1479|1487|1490|1688|1766|1768|2528|2546|2551|2662|485290|492961|504327|504332|504749|504832|504834|504847|504865|588209|588210|588579|588834|602332|624030|624031|624032|624044|624170|624172|624173|624296|624297|625295|651631|651632|651633|651634|651635|652048|652051|686978|686979|720516|720532|720533|720552|720634|720635|720637|720674|720675|720678|720679|720680|720681|720682|720683|720684|720685|720686|720687|720691|720692|720693|720719|720725|743012|743014|743015|743033|743035|743036|743040|743041|743042|743053|743054|743063|743064|743065|743066|743067|743069|743074|743075|743077|743078|743079|743080|743081|743083|743084|743085|743086|743091|743094|743122|743139|743140|743191|743194|743199|743202|743203|743209|743210|743211|743212|743213|743215|743217|743218|743219|743220|743221|743222|743223|743224|743225|743226|743227|743228|743239|743240|743241|743242|743244|1117298|1117304|1117305|1117310|1117312|1117314|1117326|1117329|1117336|1117340|1117341|1117342|1117343|1117346|1159509|1159515|1159516|1159517|1159518|1159519|1159520|1159521|1159523|1159525|1159526|1159527|1159528|1159529|1159531|1159551|1159552|1159553|1159555|1159614|1178161|1224834|1224835|1224836|1224837|1224838|1224839|1224840|1224841|1224842|1224843|1224844|1224845|1224846|1224847|1224848|1224849|1224857|1224859|1224867|1224868|1224869|1224870|1224871|1224872|1224873|1224874|1224875|1224876|1224877|1224878|1224879|1224880|1224881|1224882|1224883|1224884|1224885|1224886|1224887|1224888|1224889|1224890|1224892|1224893|1224894|1224895|1224896|1259241|1259242|1259243|1259244|1259247|1259248|1259251|1259310|1259344|1259355|1259356|1259364|1259365|1259366|1259367|1259368|1259369|1259374|1259377|1259378|1259379|1259380|1259381|1259382|1259383|1259384|1259385|1259386|1259387|1259388|1259390|1259391|1259392|1259393|1259394|1259395|1259396|1259400|1259401|1259402|1259403|1259404|1259415|1259422|1296008|1296009|1345084|1345199|1346378|1346428|1346784|1346795|1346798|1346799|1346824|1346829|1346859|1346877|1346891|1346924|1346977|1346978|1346979|1346980|1346981|1346982|1346983|1346984|1346985|1346986|1346987|1347030|1347031|1347032|1347033|1347034|1347035|1347036|1347037|1347038|1347053|1347055|1347082|1347083|1347085|1347086|1347089|1347090|1347091|1347092|1347093|1347094|1347095|1347096|1347097|1347098|1347099|1347100|1347101|1347102|1347103|1347104|1347105|1347106|1347107|1347108|1347154|1347395|1347397|1347398|1347399|1347407|1347424|1347425|1479145|1479147|1479149|1479150|1508602|1508616|1508620|1508623|1508624|1508630|1645839|1645840|1645841|1645842|1645845|1645846|1645851|1645870|1645876|1645877|1645882|1645883|1645886|1645887|1671188|1671190|1671193|1671194|1671196|1671197|1671198|1671199|1671200|1671201|1745845|1745856|1745857|1845191|1845192|1919968|1919969|1919970|1920063|1920064|1920065|1920067|1920068|1963577|1963578|1963579|1963580|1963581|1963582|1963583|1963584|1963585|1963596",
         "20050326",
         "001Chemical|10X CHEM|3B Scientific (Wuhan) Corp|3WAY PHARM INC|A2B Chem|AA BLOCKS|Aaron Chemicals LLC|AbaChemScene|abcr GmbH|ABI Chem|AbMole Bioscience|AbovChem LLC|Acadechem|Achemo Scientific Limited|Achemtek|Acmec Biochemical|AK Scientific, Inc. (AKSCI)|AKos Consulting & Solutions|Aladdin|Alfa Chemistry|Alichem|Amadis Chemical|Ambeed|AN PharmaTech|AstaTech, Inc.|BenchChem|Bic Biotech|BLD Pharm|BOC Sciences|Center for Chemical Genomics, University of Michigan|ChEBI|Chem-Space.com Database|Chembase.cn|ChEMBL|Chemenu Inc.|ChemFaces|ChemIDplus|Chemieliva Pharmaceutical Co., Ltd|ChemMol|ChemSpider|Collaborative Drug Discovery, Inc.|Combi-Blocks|Comparative Toxicogenomics Database (CTD)|CymitQuimica|DiscoveryGate|DrugBank|DrugCentral|DTP/NCI|Egon Willighagen, Department of Bioinformatics - BiGCaT, Maastricht University|eMolecules|Enamine|eNovation Chemicals|EPA DSSTox|EPA Substance Registry Services|FDA Global Substance Registration System (GSRS)|Finetech Industry Limited|Founder Pharma|Frinton Laboratories|Google Patents|Human Metabolome Database (HMDB)|IBM|J&H Chemical Co.,ltd|Japan Chemical Substance Dictionary (Nikkaji)|KEGG|Key Organics/BIONET|LabNetwork, a WuXi AppTec Company|labseeker|LeadScope|LGC Standards|MassBank Europe|MassBank of North America (MoNA)|Matrix Scientific|Mcule|MedChemexpress MCE|MLSMR|Molepedia|MolPort|MuseChem|National Center for Advancing Translational Sciences (NCATS)|NextBio|NextMove Software|NIST Mass Spectrometry Data Center|NORMAN Suspect List Exchange|NovoSeek|Oakwood Products|Parchem|PATENTSCOPE (WIPO)|Pi Chemicals|Probes & Drugs portal|PubChem Reference Collection|R&D Chemicals|RR Scientific|Santa Cruz Biotechnology, Inc.|SCRIPDB|Selleck Chemicals|Sigma-Aldrich|Sinfoo Biotech|Smolecule|Springer Nature|Starshine Chemical|SureChEMBL|Syntree|TargetMol|TCI (Tokyo Chemical Industry)|THE BioTek|The Scripps Research Institute Molecular Screening Center|Thermo Fisher Scientific|Thieme Chemistry|Thomson Pharma|TimTec|Tox21|ToxPlanet|Tractus|VladaChem|VWR, Part of Avantor|Wikidata|Wiley|Win-Win Chemical|Wubei-Biochem|Yick-Vic Chemicals & Pharmaceuticals (HK) Ltd.|Yuhao Chemical|ZeroPM - Zero Pollution of Persistent, Mobile Substances",
         "Chemical Vendors|Curation Efforts|Governmental Organizations|Journal Publishers|Legacy Depositors|NIH Initiatives|Research and Development|Subscription Services",
         "C1892 - Chemopreventive Agent > C851 - Sunscreen|D - Dermatologicals > D02 - Emollients and protectives > D02B - Protectives against uv-radiation > D02BA - Protectives against uv-radiation for topical use|D003358 - Cosmetics|D003879 - Dermatologic Agents|D020011 - Protective Agents > D011837 - Radiation-Protective Agents > D013473 - Sunscreening Agents"
        ],
        [
         "3",
         "8846",
         "Butyl Acrylate",
         "BUTYL ACRYLATE|141-32-2|n-Butyl acrylate|butyl prop-2-enoate|2-Propenoic acid, butyl ester|n-Butyl propenoate|Acrylic acid butyl ester|Butyl 2-propenoate|butylacrylate|Acrylic acid, butyl ester|Butyl acrylate resin|Acrylic acid n-butyl ester|Butylester kyseliny akrylove|2-propenoic acid butyl ester|Butyl acrylate, n-|9003-49-0|CCRIS 3401|HSDB 305|NSC 5163|EINECS 205-480-7|UNII-705NM8U35V|BRN 1749970|CHEBI:3245|DTXSID6024676|AI3-15739|705NM8U35V|NSC-5163|Acrylic acid, n-butyl ester|DTXCID104676|EC 205-480-7|4-02-00-01463 (Beilstein Handbook Reference)|N-BUTYL ACRYLATE (IARC)|N-BUTYL ACRYLATE [IARC]|n-butylacrylate|CAS-141-32-2|Butylester kyseliny akrylove [Czech]|UN2348|n-butyl acrylat|Butyl propenoate|n-butyl-acrylate|Acrylate de butyle|Acrylsaeurebutylester|normal butyl acrylate|Acrilato de n-butilo|n-Butyl-2-propenoate|PERM GLUE|Butylacrylate, inhibited|Propensaure-n-butylester|Acrylic acid-butyl ester|BUTYL 2-PROPENATE|Butyl acrylates, inhibited|BUTYL-2-PROPENOATE|SCHEMBL15037|N-BUTYL 2-PROPENOATE|n-Butyl acrylate, AR,99%|n-Butyl acrylate, CP,98%|BIDD:ER0366|BUTYL ACRYLATE [HSDB]|WLN: 4OV1U1|N-BUTYL ACRYLATE [MI]|2-propenoic acid n-butyl ester|CHEMBL1546388|BUTYL ACRYLATE, STABILIZED|NSC5163|BUTYL ACRYLATES, STABILIZED|Butyl acrylate, analytical standard|Tox21_201387|Tox21_303296|MFCD00009446|STL280321|Butyl Acrylate, stabilized with MEHQ|AKOS000120041|Butyl Acrylate (stabilized with MEHQ)|UN 2348|NCGC00091107-01|NCGC00091107-02|NCGC00256946-01|NCGC00258938-01|BP-20380|LS-13309|Butyl acrylate, purum, >=99.0% (GC)|A0142|NS00007563|Butyl acrylate, SAJ first grade, >=99.0%|EN300-19865|A807751|A845377|Q343005|J-007481|J-519959|Butyl acrylates, inhibited [UN2348]  [Flammable liquid]|Butyl acrylate, >=99%, contains 10-60 ppm monomethyl ether hydroquinone as inhibitor",
         "128.169",
         "C7H12O2",
         "26.3",
         "97.1",
         "2.4",
         "9",
         "0",
         "2",
         "5",
         "InChI=1S/C7H12O2/c1-3-5-6-9-7(8)4-2/h4H,2-3,5-6H2,1H3",
         "CCCCOC(=O)C=C",
         "CCCCOC(=O)C=C",
         "CQEYYJKEWSMYFG-UHFFFAOYSA-N",
         "butyl prop-2-enoate",
         "128.084",
         "128.084",
         "0",
         "1",
         "0",
         "0",
         "0",
         "0",
         "0",
         "0",
         "0",
         "3452",
         "161905",
         "68033",
         null,
         "Biological Test Results|Chemical and Physical Properties|Classification|Drug and Medication Information|Food Additives and Ingredients|Identification|Literature|Patents|Pharmacology and Biochemistry|Safety and Hazards|Toxicity|Use and Manufacturing|Associated Disorders and Diseases|Spectral Information|Biological Test Results: Active|Biological Test Results: Micromolar",
         "16",
         "421|426|427|433|434|435|445|530|540|541|542|543|544|545|546|584|585|595|596|603|605|654|655|656|657|658|659|660|661|662|663|664|665|666|667|875|880|881|884|885|886|887|889|892|893|894|900|902|912|921|923|924|925|926|938|946|947|948|955|960|961|962|963|964|965|966|967|968|969|970|971|972|973|974|975|976|977|978|979|980|981|982|983|984|985|986|987|988|989|993|994|995|1030|1452|1457|1458|1469|1471|1476|1477|1478|1479|1948|2101|2107|2112|2120|2517|2546|2549|2551|485290|588513|588514|588515|588516|588526|588527|588532|588533|588534|588535|588536|588537|588541|588543|588544|588545|588546|588547|588834|651631|651632|651633|651634|651741|651743|651749|651751|651754|651755|651757|651758|651777|651778|651802|651838|720516|720552|720634|720635|720636|720637|720652|720653|720659|720674|720675|720678|720679|720680|720681|720682|720683|720684|720685|720686|720687|720691|720692|720693|720719|720725|743012|743014|743015|743033|743035|743036|743040|743041|743042|743053|743054|743063|743064|743065|743066|743067|743069|743074|743075|743077|743078|743079|743080|743081|743083|743084|743085|743086|743091|743094|743122|743139|743140|743191|743194|743199|743202|743203|743209|743210|743211|743212|743213|743215|743217|743218|743219|743220|743221|743222|743223|743224|743225|743226|743227|743228|743239|743240|743241|743242|743288|743292|1159509|1159515|1159516|1159517|1159518|1159519|1159520|1159521|1159523|1159525|1159526|1159527|1159528|1159529|1159531|1159551|1159552|1159553|1159555|1224834|1224835|1224836|1224837|1224838|1224839|1224840|1224841|1224842|1224843|1224844|1224845|1224846|1224847|1224848|1224849|1224867|1224868|1224869|1224870|1224871|1224872|1224873|1224874|1224875|1224876|1224877|1224878|1224879|1224880|1224881|1224882|1224883|1224884|1224885|1224886|1224887|1224888|1224889|1224890|1224892|1224893|1224894|1224895|1224896|1259241|1259242|1259243|1259244|1259247|1259248|1259364|1259365|1259366|1259367|1259368|1259369|1259377|1259378|1259379|1259380|1259381|1259382|1259383|1259384|1259385|1259386|1259387|1259388|1259390|1259391|1259392|1259393|1259394|1259395|1259396|1259401|1259402|1259403|1259404|1259407|1259411|1346784|1346795|1346798|1346799|1346824|1346829|1346859|1346877|1346891|1346924|1346977|1346978|1346979|1346980|1346981|1346982|1347030|1347031|1347032|1347033|1347034|1347035|1347036|1347037|1347038|1347395|1347397|1347398|1347399|1466498|1469819|1671196|1671197|1671198|1671199|1671200|1671201|1919968|1919969|1919970|1920063|1920064|1920065|1920067|1920068|1963577|1963578|1963579|1963580|1963581|1963582|1963583|1963584|1963585",
         "20040916",
         "001Chemical|10X CHEM|1st Scientific|3B Scientific (Wuhan) Corp|A&J Pharmtech CO., LTD.|A2B Chem|AA BLOCKS|AAA Chemistry|abcr GmbH|ABI Chem|Acadechem|Achemica|Achemo Scientific Limited|Achemtek|Acmec Biochemical|AK Scientific, Inc. (AKSCI)|AKos Consulting & Solutions|Alfa Chemistry|Amadis Chemical|Ambinter|AN PharmaTech|Angene Chemical|Anward|Aurora Fine Chemicals LLC|BenchChem|Bic Biotech|BIDD|Biosynth|BOC Sciences|BroadPharm|CAPOT|ChEBI|Chem-Space.com Database|Chembase.cn|ChEMBL|ChemDB|ChemExper Chemical Directory|Chemical Carcinogenesis Research Information System (CCRIS)|Chemical Synthesis Database|ChemIDplus|Chemieliva Pharmaceutical Co., Ltd|Cheminformatics Friedrich-Schiller-University Jena|ChemMol|ChemSpider|ChemTik|China MainChem Co., Ltd|CHIRALEN|Cooke Chemical Co., Ltd|CymitQuimica|DiscoveryGate|DTP/NCI|ECI Group, LCSB, University of Luxembourg|Egon Willighagen, Department of Bioinformatics - BiGCaT, Maastricht University|eMolecules|Enamine|EPA DSSTox|EPA Substance Registry Services|EvitaChem|FDA Global Substance Registration System (GSRS)|Google Patents|Hairui Chemical|Human Metabolome Database (HMDB)|Hunan Chemfish Pharmaceutical Co., Ltd.|IBM|iChemical Technology USA Inc|ISpharm|J&H Chemical Co.,ltd|Japan Chemical Substance Dictionary (Nikkaji)|KEGG|Key Organics/BIONET|King Scientific|LeadScope|LEAPCHEM|LGC Standards|MassBank Europe|MassBank of North America (MoNA)|Mcule|Metabolomics Workbench|MolCore|Molecule Market|Molepedia|MolPort|MP Biomedicals|MuseChem|National Center for Advancing Translational Sciences (NCATS)|Nature Chemistry|Nature Synthesis|NextBio|NextMove Software|NIAID ChemDB|NIST Chemistry WebBook|NIST Mass Spectrometry Data Center|NORMAN Suspect List Exchange|NovoSeek|Oakwood Products|Parchem|PATENTSCOPE (WIPO)|PubChem Reference Collection|RR Scientific|Santa Cruz Biotechnology, Inc.|SCRIPDB|Sigma-Aldrich|Sinfoo Biotech|SLING Consortium|Smolecule|SPECIFIC POLYMERS (SP)|Springer Nature|SpringerMaterials|Starshine Chemical|SureChEMBL|SynQuest Laboratories|TCI (Tokyo Chemical Industry)|THE BioTek|Thermo Fisher Scientific|Thieme Chemistry|Thomson Pharma|Tox21|ToxPlanet|Tractus|Vitas-M Laboratory|VladaChem|VWR, Part of Avantor|Wikidata|Wiley|Win-Win Chemical|Wubei-Biochem|Wutech|Yick-Vic Chemicals & Pharmaceuticals (HK) Ltd.|Yuhao Chemical|ZeroPM - Zero Pollution of Persistent, Mobile Substances|ZINC|Zjartschem",
         "Chemical Vendors|Curation Efforts|Governmental Organizations|Journal Publishers|Legacy Depositors|NIH Initiatives|Research and Development|Subscription Services",
         null
        ],
        [
         "4",
         "8821",
         "Ethyl acrylate",
         "ETHYL ACRYLATE|140-88-5|Acrylic acid ethyl ester|ethyl prop-2-enoate|Ethyl propenoate|2-Propenoic acid, ethyl ester|Ethyl 2-propenoate|Ethylacrylaat|Ethylakrylat|Etil acrilato|Ethyl acrylate, inhibited|Aethylacrylat|Etilacrilatului|Ethoxycarbonylethylene|Acrylic acid, ethyl ester|Acrylate d'ethyle|Carboset 511|Akrylanem etylu|Acrylsaeureaethylester|Ethyl acrylate (inhibited)|Ethyl propenoate, inhibited|NCI-C50384|FEMA No. 2418|FEMA Number 2418|Ethyl acrylate (natural)|Acrylic acid, ethyl ester (inhibited)|Etilacrilatului [Romanian]|RCRA waste number U113|Ethylester kyseliny akrylove|NSC 8263|9003-32-1|CCRIS 248|2-Propenoic Acid Ethyl Ester|HSDB 193|ETHYL-D5 ACRYLATE|EINECS 205-438-8|ethyl 2E-propenoate|BRN 0773866|DTXSID4020583|UNII-71E6178C9T|AI3-15734|NSC-8263|Etilacrilatului(roumanian)|CH2=CHCOOC2H5|71E6178C9T|DTXCID00583|CHEBI:82327|Ethyl ester of 2-propenoic acid|EC 205-438-8|35717-06-7|4-02-00-01460 (Beilstein Handbook Reference)|WE(2:0/3:1(2E))|Ethyl Acrylate (Stabilized with 4-methoxyphenol)|ETHYL ACRYLATE (IARC)|ETHYL ACRYLATE [IARC]|Ethylakrylat [Czech]|Ethylacrylaat [Dutch]|Aethylacrylat [German]|Ethylacrylate|Etil acrilato [Italian]|Akrylanem etylu [Polish]|Acrylate d'ethyle [French]|Acrylsaeureaethylester [German]|Ethylester kyseliny akrylove [Czech]|UN1917|RCRA waste no. U113|Acrylic acid-ethyl ester|SCHEMBL3180|ETHYL ACRYLATE [MI]|ETHYL ACRYLATE [FCC]|CHEMBL52084|ETHYL ACRYLATE [FHFI]|ETHYL ACRYLATE [HSDB]|WLN: 2OV1U1|Ethyl acrylate, inhibited [UN1917] [Flammable liquid]|FEMA 2418|FEMA-2418|NSC8263|Ethyl acrylate, analytical standard|AMY40211|BCP06341|Tox21_202513|BBL011497|LMFA07010505|MFCD00009188|STL146609|Ethyl Acrylate, stabilized with MEHQ|AKOS005721113|Ethyl Acrylate (stabilized with MEHQ)|NCGC00091041-01|NCGC00260062-01|CAS-140-88-5|VS-02962|Ethyl acrylate, purum, >=99.0% (GC)|Propenoic acid,ethyl ester (ethylacrylate)|DB-042537|Ethyl Acrylate 1000 microg/mL in Methanol|A0143|Ethyl acrylate, >=99.5%, stabilized, FG|NS00006376|EN300-19964|Ethyl acrylate, SAJ first grade, >=99.0%|C19238|Ethyl Acrylate stabilized with 10 - 20 ppm MEHQ|Q343014|J-007427|PROPENOIC ACID,ETHYL ESTER  (ETHYLACRYLATE)|Ethyl acrylate, inhibited [UN1917]  [Flammable liquid]|F1908-0175|Ethyl acrylate, contains 10-20 ppm MEHQ as inhibitor, 99%|InChI=1/C5H8O2/c1-3-5(6)7-4-2/h3H,1,4H2,2H|2-Propenoic acid, 1,1'-((dihydro-5-(2-hydroxyethyl)-2,4,6-trioxo-1,3,5-triazine-1,3(2H,4H)-diyl)di-2,1-ethanediyl) ester",
         "100.12",
         "C5H8O2",
         "26.3",
         "76.1",
         "1.3",
         "7",
         "0",
         "2",
         "3",
         "InChI=1S/C5H8O2/c1-3-5(6)7-4-2/h3H,1,4H2,2H3",
         "CCOC(=O)C=C",
         "CCOC(=O)C=C",
         "JIGUQPWFLRLWPJ-UHFFFAOYSA-N",
         "ethyl prop-2-enoate",
         "100.052",
         "100.052",
         "0",
         "1",
         "0",
         "0",
         "0",
         "0",
         "0",
         "0",
         "0",
         "2495",
         "43681",
         "22209",
         null,
         "Biological Test Results|Interactions and Pathways|Chemical and Physical Properties|Classification|Food Additives and Ingredients|Identification|Literature|Patents|Pharmacology and Biochemistry|Safety and Hazards|Toxicity|Use and Manufacturing|Associated Disorders and Diseases|Spectral Information|Taxonomy|Biological Test Results: Active",
         "16",
         "421|426|427|433|434|435|445|530|540|541|542|543|544|545|546|584|585|595|596|603|605|654|655|656|657|658|659|660|661|662|663|664|665|666|667|875|880|881|884|885|886|887|889|892|893|894|900|902|912|921|923|924|925|926|938|946|947|948|955|960|961|962|963|964|965|966|967|968|969|970|971|972|973|974|975|976|977|978|979|980|981|982|983|984|985|986|987|988|989|993|994|995|1030|1189|1194|1199|1205|1208|1452|1457|1458|1469|1471|1476|1477|1478|1479|1948|2101|2107|2112|2120|2517|2546|2549|2551|174708|485290|588513|588514|588515|588516|588526|588527|588532|588533|588534|588535|588536|588537|588541|588543|588544|588545|588546|588547|588834|651631|651632|651633|651634|651741|651743|651749|651751|651754|651755|651757|651758|651777|651778|651802|651838|720516|720552|720634|720635|720636|720637|720652|720653|720659|720674|720675|720678|720679|720680|720681|720682|720683|720684|720685|720686|720687|720691|720692|720693|720719|720725|743012|743014|743015|743033|743035|743036|743040|743041|743042|743053|743054|743063|743064|743065|743066|743067|743069|743074|743075|743077|743078|743079|743080|743081|743083|743084|743085|743086|743091|743094|743122|743139|743140|743191|743194|743199|743202|743203|743209|743210|743211|743212|743213|743215|743217|743218|743219|743220|743221|743222|743223|743224|743225|743226|743227|743228|743239|743240|743241|743242|743288|743292|1159509|1159515|1159516|1159517|1159518|1159519|1159520|1159521|1159523|1159525|1159526|1159527|1159528|1159529|1159531|1159551|1159552|1159553|1159555|1224834|1224835|1224836|1224837|1224838|1224839|1224840|1224841|1224842|1224843|1224844|1224845|1224846|1224847|1224848|1224849|1224867|1224868|1224869|1224870|1224871|1224872|1224873|1224874|1224875|1224876|1224877|1224878|1224879|1224880|1224881|1224882|1224883|1224884|1224885|1224886|1224887|1224888|1224889|1224890|1224892|1224893|1224894|1224895|1224896|1259241|1259242|1259243|1259244|1259247|1259248|1259364|1259365|1259366|1259367|1259368|1259369|1259377|1259378|1259379|1259380|1259381|1259382|1259383|1259384|1259385|1259386|1259387|1259388|1259390|1259391|1259392|1259393|1259394|1259395|1259396|1259401|1259402|1259403|1259404|1259407|1259408|1259411|1346784|1346795|1346798|1346799|1346824|1346829|1346859|1346877|1346891|1346924|1346977|1346978|1346979|1346980|1346981|1346982|1347030|1347031|1347032|1347033|1347034|1347035|1347036|1347037|1347038|1347395|1347397|1347398|1347399|1469819|1671196|1671197|1671198|1671199|1671200|1671201|1745844|1919968|1919969|1919970|1920063|1920064|1920065|1920067|1920068|1963577|1963578|1963579|1963580|1963581|1963582|1963583|1963584|1963585",
         "20050326",
         "10X CHEM|1st Scientific|3B Scientific (Wuhan) Corp|A&J Pharmtech CO., LTD.|A2B Chem|AA BLOCKS|AAA Chemistry|abcr GmbH|ABI Chem|Acadechem|Achemica|AHH Chemical co.,ltd|AK Scientific, Inc. (AKSCI)|AKos Consulting & Solutions|Alfa Chemistry|Amadis Chemical|Ambinter|AN PharmaTech|Angene Chemical|Anward|Apexmol|Ark Pharma Scientific Limited|BenchChem|Bic Biotech|BioChemPartner|Biocore|Biosynth|BOC Sciences|Cangzhou Enke Pharma Tech Co.,Ltd.|Carcinogenic Potency Database (CPDB)|CD Formulation|ChEBI|Chem-Space.com Database|Chembase.cn|ChEMBL|Chemchart|ChemDB|ChemExper Chemical Directory|Chemical Carcinogenesis Research Information System (CCRIS)|ChemIDplus|Chemieliva Pharmaceutical Co., Ltd|Cheminformatics Friedrich-Schiller-University Jena|ChemMol|ChemSpider|ChemTik|CHIRALEN|Clearsynth|Comparative Toxicogenomics Database (CTD)|Cooke Chemical Co., Ltd|CymitQuimica|Debye Scientific Co., Ltd|DiscoveryGate|DTP/NCI|ECI Group, LCSB, University of Luxembourg|Egon Willighagen, Department of Bioinformatics - BiGCaT, Maastricht University|eMolecules|Enamine|EPA DSSTox|EPA Substance Registry Services|EvitaChem|FDA Global Substance Registration System (GSRS)|Genetic Toxicology Data Bank (GENE-TOX)|Google Patents|Hairui Chemical|Human Metabolome Database (HMDB)|IBM|iChemical Technology USA Inc|ISpharm|J&H Chemical Co.,ltd|Japan Chemical Substance Dictionary (Nikkaji)|KEGG|Key Organics/BIONET|King Scientific|Kingston Chemistry|labseeker|Lan Pharmatech|LeadScope|LEAPCHEM|LGC Standards|Life Chemicals|LIPID MAPS|MassBank Europe|MassBank of North America (MoNA)|Matrix Scientific|Mcule|Metabolomics Workbench|MolCore|Molepedia|MolPort|MuseChem|National Center for Advancing Translational Sciences (NCATS)|Nature Synthesis|NextBio|NextMove Software|NIST Chemistry WebBook|NIST Mass Spectrometry Data Center|NMRShiftDB|NORMAN Suspect List Exchange|NovoSeek|Oakwood Products|OChem|OtavaChemicals|Parchem|PATENTSCOPE (WIPO)|PubChem Reference Collection|Rare Chemicals GmbH, Germany|RR Scientific|Santa Cruz Biotechnology, Inc.|SCRIPDB|Sigma-Aldrich|Sinfoo Biotech|SLING Consortium|Smolecule|SPECIFIC POLYMERS (SP)|Springer Nature|SpringerMaterials|Starshine Chemical|SureChEMBL|TCI (Tokyo Chemical Industry)|THE BioTek|Thermo Fisher Scientific|Thieme Chemistry|Thomson Pharma|TimTec|Tox21|ToxPlanet|Tractus|Vitas-M Laboratory|VladaChem|VWR, Part of Avantor|Wikidata|Wiley|Win-Win Chemical|Wolves R&D chemical|Wubei-Biochem|Wutech|Yick-Vic Chemicals & Pharmaceuticals (HK) Ltd.|Yuhao Chemical|ZeroPM - Zero Pollution of Persistent, Mobile Substances|ZINC",
         "Chemical Vendors|Curation Efforts|Governmental Organizations|Journal Publishers|Legacy Depositors|NIH Initiatives|Research and Development|Subscription Services",
         "D009676 - Noxae > D002273 - Carcinogens|D009676 - Noxae > D009153 - Mutagens"
        ]
       ],
       "shape": {
        "columns": 39,
        "rows": 5
       }
      },
      "text/html": [
       "<div>\n",
       "<style scoped>\n",
       "    .dataframe tbody tr th:only-of-type {\n",
       "        vertical-align: middle;\n",
       "    }\n",
       "\n",
       "    .dataframe tbody tr th {\n",
       "        vertical-align: top;\n",
       "    }\n",
       "\n",
       "    .dataframe thead th {\n",
       "        text-align: right;\n",
       "    }\n",
       "</style>\n",
       "<table border=\"1\" class=\"dataframe\">\n",
       "  <thead>\n",
       "    <tr style=\"text-align: right;\">\n",
       "      <th></th>\n",
       "      <th>cid</th>\n",
       "      <th>cmpdname</th>\n",
       "      <th>cmpdsynonym</th>\n",
       "      <th>mw</th>\n",
       "      <th>mf</th>\n",
       "      <th>polararea</th>\n",
       "      <th>complexity</th>\n",
       "      <th>xlogp</th>\n",
       "      <th>heavycnt</th>\n",
       "      <th>hbonddonor</th>\n",
       "      <th>...</th>\n",
       "      <th>gpidcnt</th>\n",
       "      <th>gpfamilycnt</th>\n",
       "      <th>meshheadings</th>\n",
       "      <th>annothits</th>\n",
       "      <th>annothitcnt</th>\n",
       "      <th>aids</th>\n",
       "      <th>cidcdate</th>\n",
       "      <th>sidsrcname</th>\n",
       "      <th>depcatg</th>\n",
       "      <th>annotation</th>\n",
       "    </tr>\n",
       "  </thead>\n",
       "  <tbody>\n",
       "    <tr>\n",
       "      <th>0</th>\n",
       "      <td>6581</td>\n",
       "      <td>Acrylic acid</td>\n",
       "      <td>ACRYLIC ACID|2-Propenoic acid|79-10-7|prop-2-e...</td>\n",
       "      <td>72.060</td>\n",
       "      <td>C3H4O2</td>\n",
       "      <td>37.3</td>\n",
       "      <td>55.9</td>\n",
       "      <td>0.3</td>\n",
       "      <td>5</td>\n",
       "      <td>1</td>\n",
       "      <td>...</td>\n",
       "      <td>464476</td>\n",
       "      <td>263916</td>\n",
       "      <td>NaN</td>\n",
       "      <td>Biological Test Results|Interactions and Pathw...</td>\n",
       "      <td>18</td>\n",
       "      <td>155|157|161|165|167|175|192|248|256|328|880|11...</td>\n",
       "      <td>20040916</td>\n",
       "      <td>001Chemical|10X CHEM|1st Scientific|3B Scienti...</td>\n",
       "      <td>Chemical Vendors|Curation Efforts|Governmental...</td>\n",
       "      <td>D001697 - Biomedical and Dental Materials &gt; D0...</td>\n",
       "    </tr>\n",
       "    <tr>\n",
       "      <th>1</th>\n",
       "      <td>13165</td>\n",
       "      <td>2-Hydroxyethyl acrylate</td>\n",
       "      <td>2-HYDROXYETHYL ACRYLATE|818-61-1|Hydroxyethyl ...</td>\n",
       "      <td>116.110</td>\n",
       "      <td>C5H8O3</td>\n",
       "      <td>46.5</td>\n",
       "      <td>87.7</td>\n",
       "      <td>-0.2</td>\n",
       "      <td>8</td>\n",
       "      <td>1</td>\n",
       "      <td>...</td>\n",
       "      <td>23270</td>\n",
       "      <td>12260</td>\n",
       "      <td>NaN</td>\n",
       "      <td>Biological Test Results|Interactions and Pathw...</td>\n",
       "      <td>17</td>\n",
       "      <td>421|426|427|433|434|435|445|530|540|541|542|54...</td>\n",
       "      <td>20050327</td>\n",
       "      <td>001Chemical|10X CHEM|3B Scientific (Wuhan) Cor...</td>\n",
       "      <td>Chemical Vendors|Curation Efforts|Governmental...</td>\n",
       "      <td>NaN</td>\n",
       "    </tr>\n",
       "    <tr>\n",
       "      <th>2</th>\n",
       "      <td>5355130</td>\n",
       "      <td>Octinoxate</td>\n",
       "      <td>Octinoxate|5466-77-3|83834-59-7|2-Ethylhexyl 4...</td>\n",
       "      <td>290.400</td>\n",
       "      <td>C18H26O3</td>\n",
       "      <td>35.5</td>\n",
       "      <td>304.0</td>\n",
       "      <td>5.3</td>\n",
       "      <td>21</td>\n",
       "      <td>0</td>\n",
       "      <td>...</td>\n",
       "      <td>61231</td>\n",
       "      <td>19797</td>\n",
       "      <td>NaN</td>\n",
       "      <td>Biological Test Results|Interactions and Pathw...</td>\n",
       "      <td>17</td>\n",
       "      <td>880|1469|1471|1479|1487|1490|1688|1766|1768|25...</td>\n",
       "      <td>20050326</td>\n",
       "      <td>001Chemical|10X CHEM|3B Scientific (Wuhan) Cor...</td>\n",
       "      <td>Chemical Vendors|Curation Efforts|Governmental...</td>\n",
       "      <td>C1892 - Chemopreventive Agent &gt; C851 - Sunscre...</td>\n",
       "    </tr>\n",
       "    <tr>\n",
       "      <th>3</th>\n",
       "      <td>8846</td>\n",
       "      <td>Butyl Acrylate</td>\n",
       "      <td>BUTYL ACRYLATE|141-32-2|n-Butyl acrylate|butyl...</td>\n",
       "      <td>128.169</td>\n",
       "      <td>C7H12O2</td>\n",
       "      <td>26.3</td>\n",
       "      <td>97.1</td>\n",
       "      <td>2.4</td>\n",
       "      <td>9</td>\n",
       "      <td>0</td>\n",
       "      <td>...</td>\n",
       "      <td>161905</td>\n",
       "      <td>68033</td>\n",
       "      <td>NaN</td>\n",
       "      <td>Biological Test Results|Chemical and Physical ...</td>\n",
       "      <td>16</td>\n",
       "      <td>421|426|427|433|434|435|445|530|540|541|542|54...</td>\n",
       "      <td>20040916</td>\n",
       "      <td>001Chemical|10X CHEM|1st Scientific|3B Scienti...</td>\n",
       "      <td>Chemical Vendors|Curation Efforts|Governmental...</td>\n",
       "      <td>NaN</td>\n",
       "    </tr>\n",
       "    <tr>\n",
       "      <th>4</th>\n",
       "      <td>8821</td>\n",
       "      <td>Ethyl acrylate</td>\n",
       "      <td>ETHYL ACRYLATE|140-88-5|Acrylic acid ethyl est...</td>\n",
       "      <td>100.120</td>\n",
       "      <td>C5H8O2</td>\n",
       "      <td>26.3</td>\n",
       "      <td>76.1</td>\n",
       "      <td>1.3</td>\n",
       "      <td>7</td>\n",
       "      <td>0</td>\n",
       "      <td>...</td>\n",
       "      <td>43681</td>\n",
       "      <td>22209</td>\n",
       "      <td>NaN</td>\n",
       "      <td>Biological Test Results|Interactions and Pathw...</td>\n",
       "      <td>16</td>\n",
       "      <td>421|426|427|433|434|435|445|530|540|541|542|54...</td>\n",
       "      <td>20050326</td>\n",
       "      <td>10X CHEM|1st Scientific|3B Scientific (Wuhan) ...</td>\n",
       "      <td>Chemical Vendors|Curation Efforts|Governmental...</td>\n",
       "      <td>D009676 - Noxae &gt; D002273 - Carcinogens|D00967...</td>\n",
       "    </tr>\n",
       "  </tbody>\n",
       "</table>\n",
       "<p>5 rows × 39 columns</p>\n",
       "</div>"
      ],
      "text/plain": [
       "       cid                 cmpdname  \\\n",
       "0     6581             Acrylic acid   \n",
       "1    13165  2-Hydroxyethyl acrylate   \n",
       "2  5355130               Octinoxate   \n",
       "3     8846           Butyl Acrylate   \n",
       "4     8821           Ethyl acrylate   \n",
       "\n",
       "                                         cmpdsynonym       mw        mf  \\\n",
       "0  ACRYLIC ACID|2-Propenoic acid|79-10-7|prop-2-e...   72.060    C3H4O2   \n",
       "1  2-HYDROXYETHYL ACRYLATE|818-61-1|Hydroxyethyl ...  116.110    C5H8O3   \n",
       "2  Octinoxate|5466-77-3|83834-59-7|2-Ethylhexyl 4...  290.400  C18H26O3   \n",
       "3  BUTYL ACRYLATE|141-32-2|n-Butyl acrylate|butyl...  128.169   C7H12O2   \n",
       "4  ETHYL ACRYLATE|140-88-5|Acrylic acid ethyl est...  100.120    C5H8O2   \n",
       "\n",
       "   polararea  complexity  xlogp  heavycnt  hbonddonor  ...  gpidcnt  \\\n",
       "0       37.3        55.9    0.3         5           1  ...   464476   \n",
       "1       46.5        87.7   -0.2         8           1  ...    23270   \n",
       "2       35.5       304.0    5.3        21           0  ...    61231   \n",
       "3       26.3        97.1    2.4         9           0  ...   161905   \n",
       "4       26.3        76.1    1.3         7           0  ...    43681   \n",
       "\n",
       "   gpfamilycnt meshheadings  \\\n",
       "0       263916          NaN   \n",
       "1        12260          NaN   \n",
       "2        19797          NaN   \n",
       "3        68033          NaN   \n",
       "4        22209          NaN   \n",
       "\n",
       "                                           annothits annothitcnt  \\\n",
       "0  Biological Test Results|Interactions and Pathw...          18   \n",
       "1  Biological Test Results|Interactions and Pathw...          17   \n",
       "2  Biological Test Results|Interactions and Pathw...          17   \n",
       "3  Biological Test Results|Chemical and Physical ...          16   \n",
       "4  Biological Test Results|Interactions and Pathw...          16   \n",
       "\n",
       "                                                aids  cidcdate  \\\n",
       "0  155|157|161|165|167|175|192|248|256|328|880|11...  20040916   \n",
       "1  421|426|427|433|434|435|445|530|540|541|542|54...  20050327   \n",
       "2  880|1469|1471|1479|1487|1490|1688|1766|1768|25...  20050326   \n",
       "3  421|426|427|433|434|435|445|530|540|541|542|54...  20040916   \n",
       "4  421|426|427|433|434|435|445|530|540|541|542|54...  20050326   \n",
       "\n",
       "                                          sidsrcname  \\\n",
       "0  001Chemical|10X CHEM|1st Scientific|3B Scienti...   \n",
       "1  001Chemical|10X CHEM|3B Scientific (Wuhan) Cor...   \n",
       "2  001Chemical|10X CHEM|3B Scientific (Wuhan) Cor...   \n",
       "3  001Chemical|10X CHEM|1st Scientific|3B Scienti...   \n",
       "4  10X CHEM|1st Scientific|3B Scientific (Wuhan) ...   \n",
       "\n",
       "                                             depcatg  \\\n",
       "0  Chemical Vendors|Curation Efforts|Governmental...   \n",
       "1  Chemical Vendors|Curation Efforts|Governmental...   \n",
       "2  Chemical Vendors|Curation Efforts|Governmental...   \n",
       "3  Chemical Vendors|Curation Efforts|Governmental...   \n",
       "4  Chemical Vendors|Curation Efforts|Governmental...   \n",
       "\n",
       "                                          annotation  \n",
       "0  D001697 - Biomedical and Dental Materials > D0...  \n",
       "1                                                NaN  \n",
       "2  C1892 - Chemopreventive Agent > C851 - Sunscre...  \n",
       "3                                                NaN  \n",
       "4  D009676 - Noxae > D002273 - Carcinogens|D00967...  \n",
       "\n",
       "[5 rows x 39 columns]"
      ]
     },
     "execution_count": 20,
     "metadata": {},
     "output_type": "execute_result"
    }
   ],
   "source": [
    "df = pd.read_csv('PubChem_compound_text_Acrylate.csv')\n",
    "df.head()"
   ]
  },
  {
   "cell_type": "code",
   "execution_count": 21,
   "id": "f44c09e4-0e43-451e-8482-01104c1b5575",
   "metadata": {},
   "outputs": [],
   "source": [
    "with open('pubchem_db.txt') as f:\n",
    "    lines = f.readlines()\n",
    "    \n",
    "pubchem_cid = []\n",
    "pubchem_smiles = []\n",
    "pubchem_smiles_rep = []\n",
    "for i in range(len(lines)):\n",
    "    line = lines[i]\n",
    "    pubchem_cid.append(line.split()[0])\n",
    "    \n",
    "    sm=line.split()[1]\n",
    "    sm_rep = copy.copy(sm)\n",
    "    #sm_rep = \"[*]CC[*]\"+sm_rep[3:]\n",
    "    pubchem_smiles.append(sm)\n",
    "    #pubchem_smiles_rep.append(sm_rep)"
   ]
  },
  {
   "cell_type": "code",
   "execution_count": 22,
   "id": "eab0bd15-48d6-4fd8-aba4-20f684c04e21",
   "metadata": {},
   "outputs": [
    {
     "name": "stdout",
     "output_type": "stream",
     "text": [
      "Name: Acrylic acid\n",
      "Smiles: C=CC(=O)O\n"
     ]
    },
    {
     "data": {
      "image/png": "[encoded data removed]",
      "text/plain": [
       "<rdkit.Chem.rdchem.Mol at 0x14cabbbc0>"
      ]
     },
     "execution_count": 22,
     "metadata": {},
     "output_type": "execute_result"
    }
   ],
   "source": [
    "idd = 0\n",
    "smlA = pubchem_smiles[idd]\n",
    "nameA = df['cmpdname'][idd]\n",
    "print('Name: '+nameA)\n",
    "\n",
    "print('Smiles: '+smlA)\n",
    "mA = Chem.MolFromSmiles(smlA)\n",
    "mA"
   ]
  },
  {
   "cell_type": "code",
   "execution_count": 36,
   "id": "f648e053-458a-4d63-b5f6-ef2dcda6800e",
   "metadata": {},
   "outputs": [
    {
     "name": "stdout",
     "output_type": "stream",
     "text": [
      "Name: Tiliroside\n",
      "Smiles: C1=CC(=CC=C1/C=C/C(=O)OC[C@@H]2[C@H]([C@@H]([C@H]([C@@H](O2)OC3=C(OC4=CC(=CC(=C4C3=O)O)O)C5=CC=C(C=C5)O)O)O)O)O\n"
     ]
    },
    {
     "data": {
      "image/png": "[encoded data removed]",
      "text/plain": [
       "<rdkit.Chem.rdchem.Mol at 0x14a6c0040>"
      ]
     },
     "execution_count": 36,
     "metadata": {},
     "output_type": "execute_result"
    }
   ],
   "source": [
    "idd = 20\n",
    "smlB = pubchem_smiles[idd]\n",
    "nameB = df['cmpdname'][idd]\n",
    "print('Name: '+nameB)\n",
    "\n",
    "print('Smiles: '+smlB)\n",
    "mB = Chem.MolFromSmiles(smlB)\n",
    "mB"
   ]
  },
  {
   "cell_type": "code",
   "execution_count": 39,
   "id": "ba5aa529",
   "metadata": {},
   "outputs": [],
   "source": [
    "def replace_first_cce(smiles):\n",
    "    mol = Chem.MolFromSmiles(smiles)\n",
    "    if mol is None:\n",
    "        raise ValueError(\"Invalid SMILES string\")\n",
    "    \n",
    "    # Find the first C=C double bond\n",
    "    for bond in mol.GetBonds():\n",
    "        if bond.GetBondType() == Chem.BondType.DOUBLE:\n",
    "            atom1 = bond.GetBeginAtom()\n",
    "            atom2 = bond.GetEndAtom()\n",
    "            if atom1.GetSymbol() == 'C' and atom2.GetSymbol() == 'C':\n",
    "                # Instead of SMILES replacement, modify the molecule\n",
    "                mol = Chem.RWMol(mol)\n",
    "                bond.SetBondType(Chem.BondType.SINGLE)\n",
    "                # Add Br atoms\n",
    "                br1 = mol.AddAtom(Chem.Atom('Br'))\n",
    "                br2 = mol.AddAtom(Chem.Atom('Br'))\n",
    "                mol.AddBond(atom1.GetIdx(), br1, Chem.BondType.SINGLE)\n",
    "                mol.AddBond(atom2.GetIdx(), br2, Chem.BondType.SINGLE)\n",
    "                return Chem.MolToSmiles(mol)\n",
    "    \n",
    "    return smiles  # No double bond found, return original\n",
    "\n",
    "fixed_monomer_1 = smlA\n",
    "fixed_monomer_2 = smlB"
   ]
  },
  {
   "cell_type": "code",
   "execution_count": 40,
   "id": "30823c50",
   "metadata": {},
   "outputs": [
    {
     "data": {
      "image/png": "[encoded data removed]",
      "text/plain": [
       "<rdkit.Chem.rdchem.Mol at 0x14a6c3290>"
      ]
     },
     "execution_count": 40,
     "metadata": {},
     "output_type": "execute_result"
    }
   ],
   "source": [
    "# Fix the fixed monomers smiles to bromo form\n",
    "fixed1_bromo = replace_first_cce(fixed_monomer_1)\n",
    "fixed2_bromo = replace_first_cce(fixed_monomer_2)\n",
    "mB = Chem.MolFromSmiles(fixed2_bromo)\n",
    "mB"
   ]
  },
  {
   "cell_type": "code",
   "execution_count": 41,
   "id": "72f18ec4",
   "metadata": {},
   "outputs": [
    {
     "name": "stdout",
     "output_type": "stream",
     "text": [
      "Saved copolymer: ./a.xyz\n"
     ]
    }
   ],
   "source": [
    "bb1 = stk.BuildingBlock(fixed1_bromo, [stk.BromoFactory()])\n",
    "bb2 = stk.BuildingBlock(fixed2_bromo, [stk.BromoFactory()])\n",
    "\n",
    "polymer = stk.ConstructedMolecule(\n",
    "    topology_graph=stk.polymer.Linear(\n",
    "        building_blocks=(bb1, bb2),\n",
    "        repeating_unit='AB',\n",
    "        num_repeating_units=3,\n",
    "        optimizer=stk.Collapser(scale_steps=False),\n",
    "    ),\n",
    ")\n",
    "\n",
    "rdkit_polymer = polymer.to_rdkit_mol()\n",
    "rdkit_polymer = Chem.AddHs(rdkit_polymer)\n",
    "Chem.SanitizeMol(rdkit_polymer)\n",
    "\n",
    "# Embed if necessary (sometimes stk embedding is enough, but we do ETKDG for 3D coords)\n",
    "params = AllChem.ETKDGv3()\n",
    "params.useRandomCoords = True\n",
    "params.maxIterations = 1000\n",
    "params.numThreads = 1\n",
    "params.randomSeed = 42\n",
    "\n",
    "AllChem.MMFFOptimizeMolecule(rdkit_polymer)\n",
    "\n",
    "polymer = polymer.with_position_matrix(\n",
    "    position_matrix=rdkit_polymer.GetConformer().GetPositions()\n",
    ")\n",
    "\n",
    "# Write XYZ file function unchanged\n",
    "def write_xyz_file(mol, filename):\n",
    "    conf = mol.GetConformer()\n",
    "    num_atoms = mol.GetNumAtoms()\n",
    "    with open(filename, 'w') as f:\n",
    "        f.write(f\"{num_atoms}\\n\")\n",
    "        f.write(f\"Molecule ID: {os.path.basename(filename).split('.')[0]}\\n\")\n",
    "        for i in range(num_atoms):\n",
    "            atom = mol.GetAtomWithIdx(i)\n",
    "            pos = conf.GetAtomPosition(i)\n",
    "            symbol = atom.GetSymbol()\n",
    "            f.write(f\"{symbol} {pos.x:.6f} {pos.y:.6f} {pos.z:.6f}\\n\")\n",
    "\n",
    "# Write .xyz file\n",
    "xyz_filename = os.path.join('.', f\"a.xyz\")\n",
    "write_xyz_file(polymer.to_rdkit_mol(), xyz_filename)\n",
    "print(f\"Saved copolymer: {xyz_filename}\")"
   ]
  },
  {
   "cell_type": "code",
   "execution_count": null,
   "id": "943ecf3b",
   "metadata": {},
   "outputs": [
    {
     "data": {
      "application/3dmoljs_load.v0": "<div id=\"3dmolviewer_1749848529497171\"  style=\"position: relative; width: 400px; height: 400px;\">\n        <p id=\"3dmolwarning_1749848529497171\" style=\"background-color:#ffcccc;color:black\">3Dmol.js failed to load for some reason.  Please check your browser console for error messages.<br></p>\n        </div>\n<script>\n\nvar loadScriptAsync = function(uri){\n  return new Promise((resolve, reject) => {\n    //this is to ignore the existence of requirejs amd\n    var savedexports, savedmodule;\n    if (typeof exports !== 'undefined') savedexports = exports;\n    else exports = {}\n    if (typeof module !== 'undefined') savedmodule = module;\n    else module = {}\n\n    var tag = document.createElement('script');\n    tag.src = uri;\n    tag.async = true;\n    tag.onload = () => {\n        exports = savedexports;\n        module = savedmodule;\n        resolve();\n    };\n  var firstScriptTag = document.getElementsByTagName('script')[0];\n  firstScriptTag.parentNode.insertBefore(tag, firstScriptTag);\n});\n};\n\nif(typeof $3Dmolpromise === 'undefined') {\n$3Dmolpromise = null;\n  $3Dmolpromise = loadScriptAsync('https://cdn.jsdelivr.net/npm/3dmol@2.5.0/build/3Dmol-min.js');\n}\n\nvar viewer_1749848529497171 = null;\nvar warn = document.getElementById(\"3dmolwarning_1749848529497171\");\nif(warn) {\n    warn.parentNode.removeChild(warn);\n}\n$3Dmolpromise.then(function() {\nviewer_1749848529497171 = $3Dmol.createViewer(document.getElementById(\"3dmolviewer_1749848529497171\"),{backgroundColor:\"white\"});\nviewer_1749848529497171.zoomTo();\n\tviewer_1749848529497171.removeAllModels();\n\tviewer_1749848529497171.addModel(\"\\n     RDKit          3D\\n\\n224238  0  0  0  0  0  0  0  0999 V2000\\n    0.4376    8.3878    1.5942 O   0  0  0  0  0  0  0  0  0  0  0  0\\n    1.6278    8.1991    1.9841 C   0  0  0  0  0  0  0  0  0  0  0  0\\n    2.4414    9.3002    2.2095 O   0  0  0  0  0  0  0  0  0  0  0  0\\n    2.0910    6.8026    2.1795 C   0  0  0  0  0  0  0  0  0  0  0  0\\n    3.8736    6.5564    2.7830 Br  0  0  0  0  0  0  0  0  0  0  0  0\\n    1.2215    5.8800    1.9223 C   0  0  0  0  0  0  0  0  0  0  0  0\\n    2.2084   10.2110    1.7941 H   0  0  0  0  0  0  0  0  0  0  0  0\\n    0.2230    6.2394    1.5849 H   0  0  0  0  0  0  0  0  0  0  0  0\\n    3.8932    0.7200    1.9517 O   0  0  0  0  0  0  0  0  0  0  0  0\\n    3.4562    1.8913    1.9607 C   0  0  0  0  0  0  0  0  0  0  0  0\\n    4.0334    2.7297    2.9575 O   0  0  0  0  0  0  0  0  0  0  0  0\\n    2.4337    2.3939    1.0442 C   0  0  0  0  0  0  0  0  0  0  0  0\\n    1.7689    1.8203    0.1261 C   0  0  0  0  0  0  0  0  0  0  0  0\\n    4.8446    2.3570    3.4437 H   0  0  0  0  0  0  0  0  0  0  0  0\\n    1.0276    2.5804   -0.3949 H   0  0  0  0  0  0  0  0  0  0  0  0\\n    0.5633   -3.2886    0.7183 O   0  0  0  0  0  0  0  0  0  0  0  0\\n    0.2962   -2.9642   -0.4456 C   0  0  0  0  0  0  0  0  0  0  0  0\\n   -0.3689   -3.9252   -1.1896 O   0  0  0  0  0  0  0  0  0  0  0  0\\n    0.6604   -1.6060   -1.0443 C   0  0  0  0  0  0  0  0  0  0  0  0\\n    0.2531   -1.5211   -2.2567 C   0  0  0  0  0  0  0  0  0  0  0  0\\n   -0.9525   -4.5969   -0.6462 H   0  0  0  0  0  0  0  0  0  0  0  0\\n   -0.2600   -2.6174   -2.4352 H   0  0  0  0  0  0  0  0  0  0  0  0\\n    0.6254    2.5019    3.2105 O   0  0  0  0  0  0  0  0  0  0  0  0\\n    0.5431    3.7525    3.0358 C   0  0  0  0  0  0  0  0  0  0  0  0\\n   -0.2881    4.4595    3.8022 O   0  0  0  0  0  0  0  0  0  0  0  0\\n   -1.1358    4.1859    4.8307 C   0  0  0  0  0  0  0  0  0  0  0  0\\n   -2.2536    3.2317    4.7180 C   0  0  0  0  0  0  0  0  0  0  0  0\\n   -1.8241    1.9404    4.5050 O   0  0  0  0  0  0  0  0  0  0  0  0\\n   -2.9144    1.0364    4.8178 C   0  0  0  0  0  0  0  0  0  0  0  0\\n   -2.2759   -0.1881    4.9920 O   0  0  0  0  0  0  0  0  0  0  0  0\\n   -2.1835   -0.8667    6.1880 C   0  0  0  0  0  0  0  0  0  0  0  0\\n   -2.8975   -1.9463    6.5965 C   0  0  0  0  0  0  0  0  0  0  0  0\\n   -3.8942   -2.6145    5.7968 C   0  0  0  0  0  0  0  0  0  0  0  0\\n   -4.6531   -3.5952    6.3988 C   0  0  0  0  0  0  0  0  0  0  0  0\\n   -5.5796   -4.3220    5.6827 C   0  0  0  0  0  0  0  0  0  0  0  0\\n   -5.8062   -4.1178    4.3547 C   0  0  0  0  0  0  0  0  0  0  0  0\\n   -6.7324   -4.8380    3.6236 O   0  0  0  0  0  0  0  0  0  0  0  0\\n   -5.0624   -3.1372    3.7261 C   0  0  0  0  0  0  0  0  0  0  0  0\\n   -4.1316   -2.4187    4.4618 C   0  0  0  0  0  0  0  0  0  0  0  0\\n   -2.6693   -2.4537    7.8136 O   0  0  0  0  0  0  0  0  0  0  0  0\\n   -1.7890   -1.9723    8.6434 C   0  0  0  0  0  0  0  0  0  0  0  0\\n   -1.5807   -2.5250    9.9062 C   0  0  0  0  0  0  0  0  0  0  0  0\\n   -0.6478   -2.0078   10.7709 C   0  0  0  0  0  0  0  0  0  0  0  0\\n   -0.4729   -2.5941   12.0201 O   0  0  0  0  0  0  0  0  0  0  0  0\\n    0.1207   -0.9014   10.4075 C   0  0  0  0  0  0  0  0  0  0  0  0\\n   -0.0717   -0.3412    9.1698 C   0  0  0  0  0  0  0  0  0  0  0  0\\n    0.6573    0.7773    8.7231 O   0  0  0  0  0  0  0  0  0  0  0  0\\n   -1.0099   -0.8830    8.3215 C   0  0  0  0  0  0  0  0  0  0  0  0\\n   -1.2227   -0.3381    7.0775 C   0  0  0  0  0  0  0  0  0  0  0  0\\n   -0.5230    0.6542    6.7640 O   0  0  0  0  0  0  0  0  0  0  0  0\\n   -3.7682    1.0995    3.6124 C   0  0  0  0  0  0  0  0  0  0  0  0\\n   -3.0645    0.5286    2.5205 O   0  0  0  0  0  0  0  0  0  0  0  0\\n   -4.2141    2.4806    3.3363 C   0  0  0  0  0  0  0  0  0  0  0  0\\n   -4.4489    2.5291    1.9299 O   0  0  0  0  0  0  0  0  0  0  0  0\\n   -3.3394    3.6192    3.7667 C   0  0  0  0  0  0  0  0  0  0  0  0\\n   -2.7173    4.1397    2.6326 O   0  0  0  0  0  0  0  0  0  0  0  0\\n    1.3501    4.4379    2.0070 C   0  0  0  0  0  0  0  0  0  0  0  0\\n    2.1950    3.8673    1.1826 C   0  0  0  0  0  0  0  0  0  0  0  0\\n    2.9902    4.6470    0.2081 C   0  0  0  0  0  0  0  0  0  0  0  0\\n    2.4766    5.6849   -0.5241 C   0  0  0  0  0  0  0  0  0  0  0  0\\n    3.2751    6.3848   -1.4047 C   0  0  0  0  0  0  0  0  0  0  0  0\\n    4.6234    6.0827   -1.5959 C   0  0  0  0  0  0  0  0  0  0  0  0\\n    5.4159    6.7914   -2.4804 O   0  0  0  0  0  0  0  0  0  0  0  0\\n    5.1316    5.0429   -0.8624 C   0  0  0  0  0  0  0  0  0  0  0  0\\n    4.3399    4.3373    0.0191 C   0  0  0  0  0  0  0  0  0  0  0  0\\n   -0.4366    3.8691    5.7047 H   0  0  0  0  0  0  0  0  0  0  0  0\\n   -1.4921    5.1773    5.2821 H   0  0  0  0  0  0  0  0  0  0  0  0\\n   -2.7446    3.1889    5.7436 H   0  0  0  0  0  0  0  0  0  0  0  0\\n   -3.4284    1.4259    5.7107 H   0  0  0  0  0  0  0  0  0  0  0  0\\n   -4.5502   -3.8300    7.4562 H   0  0  0  0  0  0  0  0  0  0  0  0\\n   -6.1252   -5.0719    6.1950 H   0  0  0  0  0  0  0  0  0  0  0  0\\n   -6.4212   -5.7321    3.2493 H   0  0  0  0  0  0  0  0  0  0  0  0\\n   -5.1997   -2.9219    2.6807 H   0  0  0  0  0  0  0  0  0  0  0  0\\n   -3.5764   -1.6982    3.9419 H   0  0  0  0  0  0  0  0  0  0  0  0\\n   -2.1733   -3.3862   10.1815 H   0  0  0  0  0  0  0  0  0  0  0  0\\n   -0.4116   -2.0518   12.8737 H   0  0  0  0  0  0  0  0  0  0  0  0\\n    0.8545   -0.4938   11.0810 H   0  0  0  0  0  0  0  0  0  0  0  0\\n    1.5079    0.9949    9.2188 H   0  0  0  0  0  0  0  0  0  0  0  0\\n   -4.6675    0.4368    3.7738 H   0  0  0  0  0  0  0  0  0  0  0  0\\n   -2.7324    1.2914    1.9941 H   0  0  0  0  0  0  0  0  0  0  0  0\\n   -5.2557    2.5843    3.7726 H   0  0  0  0  0  0  0  0  0  0  0  0\\n   -4.6565    3.4558    1.6889 H   0  0  0  0  0  0  0  0  0  0  0  0\\n   -3.9775    4.4220    4.1657 H   0  0  0  0  0  0  0  0  0  0  0  0\\n   -3.1402    4.9394    2.2793 H   0  0  0  0  0  0  0  0  0  0  0  0\\n    1.4460    5.9907   -0.4691 H   0  0  0  0  0  0  0  0  0  0  0  0\\n    2.8567    7.1958   -1.9805 H   0  0  0  0  0  0  0  0  0  0  0  0\\n    5.1056    7.6885   -2.8461 H   0  0  0  0  0  0  0  0  0  0  0  0\\n    6.1927    4.7833   -0.9914 H   0  0  0  0  0  0  0  0  0  0  0  0\\n    4.8233    3.5131    0.5431 H   0  0  0  0  0  0  0  0  0  0  0  0\\n    2.7729    1.5829   -2.3814 O   0  0  0  0  0  0  0  0  0  0  0  0\\n    2.4787    0.5328   -1.7975 C   0  0  0  0  0  0  0  0  0  0  0  0\\n    2.9589   -0.6622   -2.2297 O   0  0  0  0  0  0  0  0  0  0  0  0\\n    3.8726   -0.8604   -3.3253 C   0  0  0  0  0  0  0  0  0  0  0  0\\n    4.2255   -2.3172   -3.2471 C   0  0  0  0  0  0  0  0  0  0  0  0\\n    5.2964   -2.6254   -4.1003 O   0  0  0  0  0  0  0  0  0  0  0  0\\n    5.5342   -4.0186   -3.6984 C   0  0  0  0  0  0  0  0  0  0  0  0\\n    6.9141   -4.1846   -3.5547 O   0  0  0  0  0  0  0  0  0  0  0  0\\n    7.3758   -3.6869   -2.3067 C   0  0  0  0  0  0  0  0  0  0  0  0\\n    7.4118   -4.4375   -1.1685 C   0  0  0  0  0  0  0  0  0  0  0  0\\n    6.9980   -5.8208   -1.0587 C   0  0  0  0  0  0  0  0  0  0  0  0\\n    6.7678   -6.6827   -2.1042 C   0  0  0  0  0  0  0  0  0  0  0  0\\n    6.2907   -7.9749   -1.8875 C   0  0  0  0  0  0  0  0  0  0  0  0\\n    6.0330   -8.4505   -0.6003 C   0  0  0  0  0  0  0  0  0  0  0  0\\n    5.5589   -9.7360   -0.4014 O   0  0  0  0  0  0  0  0  0  0  0  0\\n    6.2651   -7.5929    0.4448 C   0  0  0  0  0  0  0  0  0  0  0  0\\n    6.7371   -6.3111    0.2235 C   0  0  0  0  0  0  0  0  0  0  0  0\\n    7.8552   -3.8521   -0.0668 O   0  0  0  0  0  0  0  0  0  0  0  0\\n    8.2468   -2.6173   -0.0491 C   0  0  0  0  0  0  0  0  0  0  0  0\\n    8.7008   -2.1026    1.1604 C   0  0  0  0  0  0  0  0  0  0  0  0\\n    9.1438   -0.7925    1.2686 C   0  0  0  0  0  0  0  0  0  0  0  0\\n    9.6065   -0.2358    2.4454 O   0  0  0  0  0  0  0  0  0  0  0  0\\n    9.1350    0.0322    0.1413 C   0  0  0  0  0  0  0  0  0  0  0  0\\n    8.6757   -0.4933   -1.0615 C   0  0  0  0  0  0  0  0  0  0  0  0\\n    8.6431    0.2937   -2.2183 O   0  0  0  0  0  0  0  0  0  0  0  0\\n    8.2418   -1.7965   -1.1534 C   0  0  0  0  0  0  0  0  0  0  0  0\\n    7.7807   -2.3710   -2.3345 C   0  0  0  0  0  0  0  0  0  0  0  0\\n    7.7637   -1.6429   -3.3781 O   0  0  0  0  0  0  0  0  0  0  0  0\\n    4.7732   -4.7834   -4.6819 C   0  0  0  0  0  0  0  0  0  0  0  0\\n    4.6569   -6.1560   -4.4659 O   0  0  0  0  0  0  0  0  0  0  0  0\\n    3.3806   -4.1508   -4.7716 C   0  0  0  0  0  0  0  0  0  0  0  0\\n    2.4705   -5.2293   -4.6904 O   0  0  0  0  0  0  0  0  0  0  0  0\\n    3.0549   -3.2144   -3.6486 C   0  0  0  0  0  0  0  0  0  0  0  0\\n    2.4875   -3.8465   -2.5615 O   0  0  0  0  0  0  0  0  0  0  0  0\\n    1.5845    0.5659   -0.5219 C   0  0  0  0  0  0  0  0  0  0  0  0\\n    1.3264   -0.6309   -0.1213 C   0  0  0  0  0  0  0  0  0  0  0  0\\n    1.2258   -0.9990    1.2947 C   0  0  0  0  0  0  0  0  0  0  0  0\\n    0.4381   -0.5421    2.2698 C   0  0  0  0  0  0  0  0  0  0  0  0\\n    0.7120   -0.9446    3.5841 C   0  0  0  0  0  0  0  0  0  0  0  0\\n    1.7457   -1.7905    3.9306 C   0  0  0  0  0  0  0  0  0  0  0  0\\n    1.9831   -2.1715    5.2436 O   0  0  0  0  0  0  0  0  0  0  0  0\\n    2.5475   -2.2575    2.9391 C   0  0  0  0  0  0  0  0  0  0  0  0\\n    2.2991   -1.8774    1.6598 C   0  0  0  0  0  0  0  0  0  0  0  0\\n    4.7297   -0.1999   -3.3149 H   0  0  0  0  0  0  0  0  0  0  0  0\\n    3.3225   -0.6846   -4.2910 H   0  0  0  0  0  0  0  0  0  0  0  0\\n    4.5180   -2.6181   -2.2292 H   0  0  0  0  0  0  0  0  0  0  0  0\\n    5.1393   -4.0694   -2.6276 H   0  0  0  0  0  0  0  0  0  0  0  0\\n    6.9797   -6.3892   -3.1102 H   0  0  0  0  0  0  0  0  0  0  0  0\\n    6.1222   -8.6239   -2.7217 H   0  0  0  0  0  0  0  0  0  0  0  0\\n    4.7070   -9.9232    0.1396 H   0  0  0  0  0  0  0  0  0  0  0  0\\n    6.0666   -7.9224    1.4653 H   0  0  0  0  0  0  0  0  0  0  0  0\\n    6.9063   -5.6755    1.0990 H   0  0  0  0  0  0  0  0  0  0  0  0\\n    8.7215   -2.7064    2.0494 H   0  0  0  0  0  0  0  0  0  0  0  0\\n    9.2775    0.6839    2.7736 H   0  0  0  0  0  0  0  0  0  0  0  0\\n    9.4796    1.0656    0.2234 H   0  0  0  0  0  0  0  0  0  0  0  0\\n    9.3792    0.9900   -2.3777 H   0  0  0  0  0  0  0  0  0  0  0  0\\n    5.2606   -4.6026   -5.6908 H   0  0  0  0  0  0  0  0  0  0  0  0\\n    5.3872   -6.5932   -4.9801 H   0  0  0  0  0  0  0  0  0  0  0  0\\n    3.2323   -3.7388   -5.7924 H   0  0  0  0  0  0  0  0  0  0  0  0\\n    2.1991   -5.5447   -5.5899 H   0  0  0  0  0  0  0  0  0  0  0  0\\n    2.3260   -2.4881   -4.0618 H   0  0  0  0  0  0  0  0  0  0  0  0\\n    2.6949   -4.7764   -2.4607 H   0  0  0  0  0  0  0  0  0  0  0  0\\n   -0.3717    0.1183    2.0319 H   0  0  0  0  0  0  0  0  0  0  0  0\\n    0.1158   -0.5725    4.3960 H   0  0  0  0  0  0  0  0  0  0  0  0\\n    2.4801   -3.0531    5.3815 H   0  0  0  0  0  0  0  0  0  0  0  0\\n    3.3766   -2.9313    3.1743 H   0  0  0  0  0  0  0  0  0  0  0  0\\n    2.9772   -2.2671    0.8939 H   0  0  0  0  0  0  0  0  0  0  0  0\\n   -0.7028    0.8680   -4.8736 O   0  0  0  0  0  0  0  0  0  0  0  0\\n   -0.2290    0.6146   -3.6973 C   0  0  0  0  0  0  0  0  0  0  0  0\\n   -0.0595    1.7318   -2.9560 O   0  0  0  0  0  0  0  0  0  0  0  0\\n   -0.3901    3.0330   -3.4444 C   0  0  0  0  0  0  0  0  0  0  0  0\\n   -1.8699    3.2204   -3.4743 C   0  0  0  0  0  0  0  0  0  0  0  0\\n   -2.6291    2.2944   -4.1172 O   0  0  0  0  0  0  0  0  0  0  0  0\\n   -3.7594    1.9270   -3.4677 C   0  0  0  0  0  0  0  0  0  0  0  0\\n   -4.5854    1.0328   -4.1650 O   0  0  0  0  0  0  0  0  0  0  0  0\\n   -5.7310    0.4675   -3.6423 C   0  0  0  0  0  0  0  0  0  0  0  0\\n   -6.9755    1.0290   -3.6108 C   0  0  0  0  0  0  0  0  0  0  0  0\\n   -7.2977    2.3373   -4.1529 C   0  0  0  0  0  0  0  0  0  0  0  0\\n   -6.5443    3.0605   -5.0285 C   0  0  0  0  0  0  0  0  0  0  0  0\\n   -6.8971    4.3425   -5.4702 C   0  0  0  0  0  0  0  0  0  0  0  0\\n   -8.0624    4.9239   -5.0099 C   0  0  0  0  0  0  0  0  0  0  0  0\\n   -8.4512    6.1932   -5.4162 O   0  0  0  0  0  0  0  0  0  0  0  0\\n   -8.8262    4.1929   -4.1252 C   0  0  0  0  0  0  0  0  0  0  0  0\\n   -8.4686    2.9287   -3.6936 C   0  0  0  0  0  0  0  0  0  0  0  0\\n   -7.9492    0.3310   -3.0493 O   0  0  0  0  0  0  0  0  0  0  0  0\\n   -7.8306   -0.8583   -2.5199 C   0  0  0  0  0  0  0  0  0  0  0  0\\n   -8.8969   -1.5307   -1.9434 C   0  0  0  0  0  0  0  0  0  0  0  0\\n   -8.7021   -2.8031   -1.3944 C   0  0  0  0  0  0  0  0  0  0  0  0\\n   -9.7972   -3.4588   -0.8190 O   0  0  0  0  0  0  0  0  0  0  0  0\\n   -7.4569   -3.4185   -1.4101 C   0  0  0  0  0  0  0  0  0  0  0  0\\n   -6.4228   -2.7541   -1.9714 C   0  0  0  0  0  0  0  0  0  0  0  0\\n   -5.1365   -3.3262   -2.0082 O   0  0  0  0  0  0  0  0  0  0  0  0\\n   -6.6197   -1.4925   -2.5154 C   0  0  0  0  0  0  0  0  0  0  0  0\\n   -5.5555   -0.8110   -3.0893 C   0  0  0  0  0  0  0  0  0  0  0  0\\n   -4.4549   -1.3859   -3.0888 O   0  0  0  0  0  0  0  0  0  0  0  0\\n   -3.5171    1.4749   -2.0258 C   0  0  0  0  0  0  0  0  0  0  0  0\\n   -2.6291    0.4766   -1.8755 O   0  0  0  0  0  0  0  0  0  0  0  0\\n   -2.9975    2.6913   -1.2613 C   0  0  0  0  0  0  0  0  0  0  0  0\\n   -2.0049    2.3269   -0.3514 O   0  0  0  0  0  0  0  0  0  0  0  0\\n   -2.4095    3.7325   -2.1609 C   0  0  0  0  0  0  0  0  0  0  0  0\\n   -3.3360    4.7793   -2.3760 O   0  0  0  0  0  0  0  0  0  0  0  0\\n    0.0056   -0.7946   -3.4440 C   0  0  0  0  0  0  0  0  0  0  0  0\\n   -0.3026   -1.5418   -4.5565 C   0  0  0  0  0  0  0  0  0  0  0  0\\n   -0.4150   -3.4712   -4.4115 Br  0  0  0  0  0  0  0  0  0  0  0  0\\n   -0.4057   -1.0341   -5.8941 C   0  0  0  0  0  0  0  0  0  0  0  0\\n   -1.5529   -1.3351   -6.6046 C   0  0  0  0  0  0  0  0  0  0  0  0\\n   -1.7181   -0.9444   -7.9380 C   0  0  0  0  0  0  0  0  0  0  0  0\\n   -0.6883   -0.2387   -8.5244 C   0  0  0  0  0  0  0  0  0  0  0  0\\n   -0.8429    0.1555   -9.8572 O   0  0  0  0  0  0  0  0  0  0  0  0\\n    0.4738    0.0858   -7.8505 C   0  0  0  0  0  0  0  0  0  0  0  0\\n    0.6182   -0.3141   -6.5345 C   0  0  0  0  0  0  0  0  0  0  0  0\\n    0.0244    3.1719   -4.4740 H   0  0  0  0  0  0  0  0  0  0  0  0\\n    0.1244    3.7807   -2.8131 H   0  0  0  0  0  0  0  0  0  0  0  0\\n   -1.9820    4.1548   -4.1885 H   0  0  0  0  0  0  0  0  0  0  0  0\\n   -4.4534    2.8273   -3.2724 H   0  0  0  0  0  0  0  0  0  0  0  0\\n   -5.6441    2.6625   -5.4196 H   0  0  0  0  0  0  0  0  0  0  0  0\\n   -6.2769    4.8793   -6.1774 H   0  0  0  0  0  0  0  0  0  0  0  0\\n   -9.4200    6.4334   -5.5962 H   0  0  0  0  0  0  0  0  0  0  0  0\\n   -9.7452    4.5932   -3.7367 H   0  0  0  0  0  0  0  0  0  0  0  0\\n   -9.1093    2.4101   -2.9899 H   0  0  0  0  0  0  0  0  0  0  0  0\\n   -9.8640   -1.0791   -1.9258 H   0  0  0  0  0  0  0  0  0  0  0  0\\n   -9.6861   -3.8955    0.1067 H   0  0  0  0  0  0  0  0  0  0  0  0\\n   -7.3039   -4.4019   -0.9910 H   0  0  0  0  0  0  0  0  0  0  0  0\\n   -4.7874   -3.7984   -2.8038 H   0  0  0  0  0  0  0  0  0  0  0  0\\n   -4.5204    1.1645   -1.6474 H   0  0  0  0  0  0  0  0  0  0  0  0\\n   -1.8910    0.6429   -1.2427 H   0  0  0  0  0  0  0  0  0  0  0  0\\n   -3.8664    3.1307   -0.7149 H   0  0  0  0  0  0  0  0  0  0  0  0\\n   -1.7713    3.1058    0.1881 H   0  0  0  0  0  0  0  0  0  0  0  0\\n   -1.5411    4.1987   -1.6314 H   0  0  0  0  0  0  0  0  0  0  0  0\\n   -3.0194    5.2702   -3.1656 H   0  0  0  0  0  0  0  0  0  0  0  0\\n   -2.3507   -1.9088   -6.1107 H   0  0  0  0  0  0  0  0  0  0  0  0\\n   -2.6104   -1.1945   -8.4826 H   0  0  0  0  0  0  0  0  0  0  0  0\\n   -1.7688    0.1009  -10.3132 H   0  0  0  0  0  0  0  0  0  0  0  0\\n    1.2774    0.6413   -8.3089 H   0  0  0  0  0  0  0  0  0  0  0  0\\n    1.5354   -0.0848   -5.9770 H   0  0  0  0  0  0  0  0  0  0  0  0\\n  1  2  2  0\\n  2  3  1  0\\n  2  4  1  0\\n  4  5  1  0\\n  4  6  2  3\\n  3  7  1  0\\n  6  8  1  0\\n  9 10  2  0\\n 10 11  1  0\\n 10 12  1  0\\n 12 13  2  3\\n 11 14  1  0\\n 13 15  1  0\\n 16 17  2  0\\n 17 18  1  0\\n 17 19  1  0\\n 19 20  2  3\\n 18 21  1  0\\n 20 22  1  0\\n 23 24  2  0\\n 24 25  1  0\\n 25 26  1  0\\n 26 27  1  0\\n 27 28  1  0\\n 28 29  1  0\\n 29 30  1  0\\n 30 31  1  0\\n 31 32  2  0\\n 32 33  1  0\\n 33 34  2  0\\n 34 35  1  0\\n 35 36  2  0\\n 36 37  1  0\\n 36 38  1  0\\n 38 39  2  0\\n 32 40  1  0\\n 40 41  1  0\\n 41 42  2  0\\n 42 43  1  0\\n 43 44  1  0\\n 43 45  2  0\\n 45 46  1  0\\n 46 47  1  0\\n 46 48  2  0\\n 48 49  1  0\\n 49 50  2  0\\n 29 51  1  0\\n 51 52  1  0\\n 51 53  1  0\\n 53 54  1  0\\n 53 55  1  0\\n 55 56  1  0\\n 24 57  1  0\\n 57 58  2  3\\n 58 59  1  0\\n 59 60  2  0\\n 60 61  1  0\\n 61 62  2  0\\n 62 63  1  0\\n 62 64  1  0\\n 64 65  2  0\\n 55 27  1  0\\n 65 59  1  0\\n 49 31  1  0\\n 39 33  1  0\\n 48 41  1  0\\n 26 66  1  0\\n 26 67  1  0\\n 27 68  1  0\\n 29 69  1  0\\n 34 70  1  0\\n 35 71  1  0\\n 37 72  1  0\\n 38 73  1  0\\n 39 74  1  0\\n 42 75  1  0\\n 44 76  1  0\\n 45 77  1  0\\n 47 78  1  0\\n 51 79  1  0\\n 52 80  1  0\\n 53 81  1  0\\n 54 82  1  0\\n 55 83  1  0\\n 56 84  1  0\\n 60 85  1  0\\n 61 86  1  0\\n 63 87  1  0\\n 64 88  1  0\\n 65 89  1  0\\n 90 91  2  0\\n 91 92  1  0\\n 92 93  1  0\\n 93 94  1  0\\n 94 95  1  0\\n 95 96  1  0\\n 96 97  1  0\\n 97 98  1  0\\n 98 99  2  0\\n 99100  1  0\\n100101  2  0\\n101102  1  0\\n102103  2  0\\n103104  1  0\\n103105  1  0\\n105106  2  0\\n 99107  1  0\\n107108  1  0\\n108109  2  0\\n109110  1  0\\n110111  1  0\\n110112  2  0\\n112113  1  0\\n113114  1  0\\n113115  2  0\\n115116  1  0\\n116117  2  0\\n 96118  1  0\\n118119  1  0\\n118120  1  0\\n120121  1  0\\n120122  1  0\\n122123  1  0\\n 91124  1  0\\n124125  2  3\\n125126  1  0\\n126127  2  0\\n127128  1  0\\n128129  2  0\\n129130  1  0\\n129131  1  0\\n131132  2  0\\n122 94  1  0\\n132126  1  0\\n116 98  1  0\\n106100  1  0\\n115108  1  0\\n 93133  1  0\\n 93134  1  0\\n 94135  1  0\\n 96136  1  0\\n101137  1  0\\n102138  1  0\\n104139  1  0\\n105140  1  0\\n106141  1  0\\n109142  1  0\\n111143  1  0\\n112144  1  0\\n114145  1  0\\n118146  1  0\\n119147  1  0\\n120148  1  0\\n121149  1  0\\n122150  1  0\\n123151  1  0\\n127152  1  0\\n128153  1  0\\n130154  1  0\\n131155  1  0\\n132156  1  0\\n157158  2  0\\n158159  1  0\\n159160  1  0\\n160161  1  0\\n161162  1  0\\n162163  1  0\\n163164  1  0\\n164165  1  0\\n165166  2  0\\n166167  1  0\\n167168  2  0\\n168169  1  0\\n169170  2  0\\n170171  1  0\\n170172  1  0\\n172173  2  0\\n166174  1  0\\n174175  1  0\\n175176  2  0\\n176177  1  0\\n177178  1  0\\n177179  2  0\\n179180  1  0\\n180181  1  0\\n180182  2  0\\n182183  1  0\\n183184  2  0\\n163185  1  0\\n185186  1  0\\n185187  1  0\\n187188  1  0\\n187189  1  0\\n189190  1  0\\n158191  1  0\\n191192  2  3\\n192193  1  0\\n192194  1  0\\n194195  2  0\\n195196  1  0\\n196197  2  0\\n197198  1  0\\n197199  1  0\\n199200  2  0\\n189161  1  0\\n200194  1  0\\n183165  1  0\\n173167  1  0\\n182175  1  0\\n160201  1  0\\n160202  1  0\\n161203  1  0\\n163204  1  0\\n168205  1  0\\n169206  1  0\\n171207  1  0\\n172208  1  0\\n173209  1  0\\n176210  1  0\\n178211  1  0\\n179212  1  0\\n181213  1  0\\n185214  1  0\\n186215  1  0\\n187216  1  0\\n188217  1  0\\n189218  1  0\\n190219  1  0\\n195220  1  0\\n196221  1  0\\n198222  1  0\\n199223  1  0\\n200224  1  0\\n  6 57  1  0\\n 12 58  1  0\\n 13124  1  0\\n 19125  1  0\\n 20191  1  0\\nM  END\\n\",\"sdf\");\n\tviewer_1749848529497171.setStyle({\"stick\": {}});\n\tviewer_1749848529497171.zoomTo();\nviewer_1749848529497171.render();\n});\n</script>",
      "text/html": [
       "<div id=\"3dmolviewer_1749848529497171\"  style=\"position: relative; width: 400px; height: 400px;\">\n",
       "        <p id=\"3dmolwarning_1749848529497171\" style=\"background-color:#ffcccc;color:black\">3Dmol.js failed to load for some reason.  Please check your browser console for error messages.<br></p>\n",
       "        </div>\n",
       "<script>\n",
       "\n",
       "var loadScriptAsync = function(uri){\n",
       "  return new Promise((resolve, reject) => {\n",
       "    //this is to ignore the existence of requirejs amd\n",
       "    var savedexports, savedmodule;\n",
       "    if (typeof exports !== 'undefined') savedexports = exports;\n",
       "    else exports = {}\n",
       "    if (typeof module !== 'undefined') savedmodule = module;\n",
       "    else module = {}\n",
       "\n",
       "    var tag = document.createElement('script');\n",
       "    tag.src = uri;\n",
       "    tag.async = true;\n",
       "    tag.onload = () => {\n",
       "        exports = savedexports;\n",
       "        module = savedmodule;\n",
       "        resolve();\n",
       "    };\n",
       "  var firstScriptTag = document.getElementsByTagName('script')[0];\n",
       "  firstScriptTag.parentNode.insertBefore(tag, firstScriptTag);\n",
       "});\n",
       "};\n",
       "\n",
       "if(typeof $3Dmolpromise === 'undefined') {\n",
       "$3Dmolpromise = null;\n",
       "  $3Dmolpromise = loadScriptAsync('https://cdn.jsdelivr.net/npm/3dmol@2.5.0/build/3Dmol-min.js');\n",
       "}\n",
       "\n",
       "var viewer_1749848529497171 = null;\n",
       "var warn = document.getElementById(\"3dmolwarning_1749848529497171\");\n",
       "if(warn) {\n",
       "    warn.parentNode.removeChild(warn);\n",
       "}\n",
       "$3Dmolpromise.then(function() {\n",
       "viewer_1749848529497171 = $3Dmol.createViewer(document.getElementById(\"3dmolviewer_1749848529497171\"),{backgroundColor:\"white\"});\n",
       "viewer_1749848529497171.zoomTo();\n",
       "\tviewer_1749848529497171.removeAllModels();\n",
       "\tviewer_1749848529497171.addModel(\"\\n     RDKit          3D\\n\\n224238  0  0  0  0  0  0  0  0999 V2000\\n    0.4376    8.3878    1.5942 O   0  0  0  0  0  0  0  0  0  0  0  0\\n    1.6278    8.1991    1.9841 C   0  0  0  0  0  0  0  0  0  0  0  0\\n    2.4414    9.3002    2.2095 O   0  0  0  0  0  0  0  0  0  0  0  0\\n    2.0910    6.8026    2.1795 C   0  0  0  0  0  0  0  0  0  0  0  0\\n    3.8736    6.5564    2.7830 Br  0  0  0  0  0  0  0  0  0  0  0  0\\n    1.2215    5.8800    1.9223 C   0  0  0  0  0  0  0  0  0  0  0  0\\n    2.2084   10.2110    1.7941 H   0  0  0  0  0  0  0  0  0  0  0  0\\n    0.2230    6.2394    1.5849 H   0  0  0  0  0  0  0  0  0  0  0  0\\n    3.8932    0.7200    1.9517 O   0  0  0  0  0  0  0  0  0  0  0  0\\n    3.4562    1.8913    1.9607 C   0  0  0  0  0  0  0  0  0  0  0  0\\n    4.0334    2.7297    2.9575 O   0  0  0  0  0  0  0  0  0  0  0  0\\n    2.4337    2.3939    1.0442 C   0  0  0  0  0  0  0  0  0  0  0  0\\n    1.7689    1.8203    0.1261 C   0  0  0  0  0  0  0  0  0  0  0  0\\n    4.8446    2.3570    3.4437 H   0  0  0  0  0  0  0  0  0  0  0  0\\n    1.0276    2.5804   -0.3949 H   0  0  0  0  0  0  0  0  0  0  0  0\\n    0.5633   -3.2886    0.7183 O   0  0  0  0  0  0  0  0  0  0  0  0\\n    0.2962   -2.9642   -0.4456 C   0  0  0  0  0  0  0  0  0  0  0  0\\n   -0.3689   -3.9252   -1.1896 O   0  0  0  0  0  0  0  0  0  0  0  0\\n    0.6604   -1.6060   -1.0443 C   0  0  0  0  0  0  0  0  0  0  0  0\\n    0.2531   -1.5211   -2.2567 C   0  0  0  0  0  0  0  0  0  0  0  0\\n   -0.9525   -4.5969   -0.6462 H   0  0  0  0  0  0  0  0  0  0  0  0\\n   -0.2600   -2.6174   -2.4352 H   0  0  0  0  0  0  0  0  0  0  0  0\\n    0.6254    2.5019    3.2105 O   0  0  0  0  0  0  0  0  0  0  0  0\\n    0.5431    3.7525    3.0358 C   0  0  0  0  0  0  0  0  0  0  0  0\\n   -0.2881    4.4595    3.8022 O   0  0  0  0  0  0  0  0  0  0  0  0\\n   -1.1358    4.1859    4.8307 C   0  0  0  0  0  0  0  0  0  0  0  0\\n   -2.2536    3.2317    4.7180 C   0  0  0  0  0  0  0  0  0  0  0  0\\n   -1.8241    1.9404    4.5050 O   0  0  0  0  0  0  0  0  0  0  0  0\\n   -2.9144    1.0364    4.8178 C   0  0  0  0  0  0  0  0  0  0  0  0\\n   -2.2759   -0.1881    4.9920 O   0  0  0  0  0  0  0  0  0  0  0  0\\n   -2.1835   -0.8667    6.1880 C   0  0  0  0  0  0  0  0  0  0  0  0\\n   -2.8975   -1.9463    6.5965 C   0  0  0  0  0  0  0  0  0  0  0  0\\n   -3.8942   -2.6145    5.7968 C   0  0  0  0  0  0  0  0  0  0  0  0\\n   -4.6531   -3.5952    6.3988 C   0  0  0  0  0  0  0  0  0  0  0  0\\n   -5.5796   -4.3220    5.6827 C   0  0  0  0  0  0  0  0  0  0  0  0\\n   -5.8062   -4.1178    4.3547 C   0  0  0  0  0  0  0  0  0  0  0  0\\n   -6.7324   -4.8380    3.6236 O   0  0  0  0  0  0  0  0  0  0  0  0\\n   -5.0624   -3.1372    3.7261 C   0  0  0  0  0  0  0  0  0  0  0  0\\n   -4.1316   -2.4187    4.4618 C   0  0  0  0  0  0  0  0  0  0  0  0\\n   -2.6693   -2.4537    7.8136 O   0  0  0  0  0  0  0  0  0  0  0  0\\n   -1.7890   -1.9723    8.6434 C   0  0  0  0  0  0  0  0  0  0  0  0\\n   -1.5807   -2.5250    9.9062 C   0  0  0  0  0  0  0  0  0  0  0  0\\n   -0.6478   -2.0078   10.7709 C   0  0  0  0  0  0  0  0  0  0  0  0\\n   -0.4729   -2.5941   12.0201 O   0  0  0  0  0  0  0  0  0  0  0  0\\n    0.1207   -0.9014   10.4075 C   0  0  0  0  0  0  0  0  0  0  0  0\\n   -0.0717   -0.3412    9.1698 C   0  0  0  0  0  0  0  0  0  0  0  0\\n    0.6573    0.7773    8.7231 O   0  0  0  0  0  0  0  0  0  0  0  0\\n   -1.0099   -0.8830    8.3215 C   0  0  0  0  0  0  0  0  0  0  0  0\\n   -1.2227   -0.3381    7.0775 C   0  0  0  0  0  0  0  0  0  0  0  0\\n   -0.5230    0.6542    6.7640 O   0  0  0  0  0  0  0  0  0  0  0  0\\n   -3.7682    1.0995    3.6124 C   0  0  0  0  0  0  0  0  0  0  0  0\\n   -3.0645    0.5286    2.5205 O   0  0  0  0  0  0  0  0  0  0  0  0\\n   -4.2141    2.4806    3.3363 C   0  0  0  0  0  0  0  0  0  0  0  0\\n   -4.4489    2.5291    1.9299 O   0  0  0  0  0  0  0  0  0  0  0  0\\n   -3.3394    3.6192    3.7667 C   0  0  0  0  0  0  0  0  0  0  0  0\\n   -2.7173    4.1397    2.6326 O   0  0  0  0  0  0  0  0  0  0  0  0\\n    1.3501    4.4379    2.0070 C   0  0  0  0  0  0  0  0  0  0  0  0\\n    2.1950    3.8673    1.1826 C   0  0  0  0  0  0  0  0  0  0  0  0\\n    2.9902    4.6470    0.2081 C   0  0  0  0  0  0  0  0  0  0  0  0\\n    2.4766    5.6849   -0.5241 C   0  0  0  0  0  0  0  0  0  0  0  0\\n    3.2751    6.3848   -1.4047 C   0  0  0  0  0  0  0  0  0  0  0  0\\n    4.6234    6.0827   -1.5959 C   0  0  0  0  0  0  0  0  0  0  0  0\\n    5.4159    6.7914   -2.4804 O   0  0  0  0  0  0  0  0  0  0  0  0\\n    5.1316    5.0429   -0.8624 C   0  0  0  0  0  0  0  0  0  0  0  0\\n    4.3399    4.3373    0.0191 C   0  0  0  0  0  0  0  0  0  0  0  0\\n   -0.4366    3.8691    5.7047 H   0  0  0  0  0  0  0  0  0  0  0  0\\n   -1.4921    5.1773    5.2821 H   0  0  0  0  0  0  0  0  0  0  0  0\\n   -2.7446    3.1889    5.7436 H   0  0  0  0  0  0  0  0  0  0  0  0\\n   -3.4284    1.4259    5.7107 H   0  0  0  0  0  0  0  0  0  0  0  0\\n   -4.5502   -3.8300    7.4562 H   0  0  0  0  0  0  0  0  0  0  0  0\\n   -6.1252   -5.0719    6.1950 H   0  0  0  0  0  0  0  0  0  0  0  0\\n   -6.4212   -5.7321    3.2493 H   0  0  0  0  0  0  0  0  0  0  0  0\\n   -5.1997   -2.9219    2.6807 H   0  0  0  0  0  0  0  0  0  0  0  0\\n   -3.5764   -1.6982    3.9419 H   0  0  0  0  0  0  0  0  0  0  0  0\\n   -2.1733   -3.3862   10.1815 H   0  0  0  0  0  0  0  0  0  0  0  0\\n   -0.4116   -2.0518   12.8737 H   0  0  0  0  0  0  0  0  0  0  0  0\\n    0.8545   -0.4938   11.0810 H   0  0  0  0  0  0  0  0  0  0  0  0\\n    1.5079    0.9949    9.2188 H   0  0  0  0  0  0  0  0  0  0  0  0\\n   -4.6675    0.4368    3.7738 H   0  0  0  0  0  0  0  0  0  0  0  0\\n   -2.7324    1.2914    1.9941 H   0  0  0  0  0  0  0  0  0  0  0  0\\n   -5.2557    2.5843    3.7726 H   0  0  0  0  0  0  0  0  0  0  0  0\\n   -4.6565    3.4558    1.6889 H   0  0  0  0  0  0  0  0  0  0  0  0\\n   -3.9775    4.4220    4.1657 H   0  0  0  0  0  0  0  0  0  0  0  0\\n   -3.1402    4.9394    2.2793 H   0  0  0  0  0  0  0  0  0  0  0  0\\n    1.4460    5.9907   -0.4691 H   0  0  0  0  0  0  0  0  0  0  0  0\\n    2.8567    7.1958   -1.9805 H   0  0  0  0  0  0  0  0  0  0  0  0\\n    5.1056    7.6885   -2.8461 H   0  0  0  0  0  0  0  0  0  0  0  0\\n    6.1927    4.7833   -0.9914 H   0  0  0  0  0  0  0  0  0  0  0  0\\n    4.8233    3.5131    0.5431 H   0  0  0  0  0  0  0  0  0  0  0  0\\n    2.7729    1.5829   -2.3814 O   0  0  0  0  0  0  0  0  0  0  0  0\\n    2.4787    0.5328   -1.7975 C   0  0  0  0  0  0  0  0  0  0  0  0\\n    2.9589   -0.6622   -2.2297 O   0  0  0  0  0  0  0  0  0  0  0  0\\n    3.8726   -0.8604   -3.3253 C   0  0  0  0  0  0  0  0  0  0  0  0\\n    4.2255   -2.3172   -3.2471 C   0  0  0  0  0  0  0  0  0  0  0  0\\n    5.2964   -2.6254   -4.1003 O   0  0  0  0  0  0  0  0  0  0  0  0\\n    5.5342   -4.0186   -3.6984 C   0  0  0  0  0  0  0  0  0  0  0  0\\n    6.9141   -4.1846   -3.5547 O   0  0  0  0  0  0  0  0  0  0  0  0\\n    7.3758   -3.6869   -2.3067 C   0  0  0  0  0  0  0  0  0  0  0  0\\n    7.4118   -4.4375   -1.1685 C   0  0  0  0  0  0  0  0  0  0  0  0\\n    6.9980   -5.8208   -1.0587 C   0  0  0  0  0  0  0  0  0  0  0  0\\n    6.7678   -6.6827   -2.1042 C   0  0  0  0  0  0  0  0  0  0  0  0\\n    6.2907   -7.9749   -1.8875 C   0  0  0  0  0  0  0  0  0  0  0  0\\n    6.0330   -8.4505   -0.6003 C   0  0  0  0  0  0  0  0  0  0  0  0\\n    5.5589   -9.7360   -0.4014 O   0  0  0  0  0  0  0  0  0  0  0  0\\n    6.2651   -7.5929    0.4448 C   0  0  0  0  0  0  0  0  0  0  0  0\\n    6.7371   -6.3111    0.2235 C   0  0  0  0  0  0  0  0  0  0  0  0\\n    7.8552   -3.8521   -0.0668 O   0  0  0  0  0  0  0  0  0  0  0  0\\n    8.2468   -2.6173   -0.0491 C   0  0  0  0  0  0  0  0  0  0  0  0\\n    8.7008   -2.1026    1.1604 C   0  0  0  0  0  0  0  0  0  0  0  0\\n    9.1438   -0.7925    1.2686 C   0  0  0  0  0  0  0  0  0  0  0  0\\n    9.6065   -0.2358    2.4454 O   0  0  0  0  0  0  0  0  0  0  0  0\\n    9.1350    0.0322    0.1413 C   0  0  0  0  0  0  0  0  0  0  0  0\\n    8.6757   -0.4933   -1.0615 C   0  0  0  0  0  0  0  0  0  0  0  0\\n    8.6431    0.2937   -2.2183 O   0  0  0  0  0  0  0  0  0  0  0  0\\n    8.2418   -1.7965   -1.1534 C   0  0  0  0  0  0  0  0  0  0  0  0\\n    7.7807   -2.3710   -2.3345 C   0  0  0  0  0  0  0  0  0  0  0  0\\n    7.7637   -1.6429   -3.3781 O   0  0  0  0  0  0  0  0  0  0  0  0\\n    4.7732   -4.7834   -4.6819 C   0  0  0  0  0  0  0  0  0  0  0  0\\n    4.6569   -6.1560   -4.4659 O   0  0  0  0  0  0  0  0  0  0  0  0\\n    3.3806   -4.1508   -4.7716 C   0  0  0  0  0  0  0  0  0  0  0  0\\n    2.4705   -5.2293   -4.6904 O   0  0  0  0  0  0  0  0  0  0  0  0\\n    3.0549   -3.2144   -3.6486 C   0  0  0  0  0  0  0  0  0  0  0  0\\n    2.4875   -3.8465   -2.5615 O   0  0  0  0  0  0  0  0  0  0  0  0\\n    1.5845    0.5659   -0.5219 C   0  0  0  0  0  0  0  0  0  0  0  0\\n    1.3264   -0.6309   -0.1213 C   0  0  0  0  0  0  0  0  0  0  0  0\\n    1.2258   -0.9990    1.2947 C   0  0  0  0  0  0  0  0  0  0  0  0\\n    0.4381   -0.5421    2.2698 C   0  0  0  0  0  0  0  0  0  0  0  0\\n    0.7120   -0.9446    3.5841 C   0  0  0  0  0  0  0  0  0  0  0  0\\n    1.7457   -1.7905    3.9306 C   0  0  0  0  0  0  0  0  0  0  0  0\\n    1.9831   -2.1715    5.2436 O   0  0  0  0  0  0  0  0  0  0  0  0\\n    2.5475   -2.2575    2.9391 C   0  0  0  0  0  0  0  0  0  0  0  0\\n    2.2991   -1.8774    1.6598 C   0  0  0  0  0  0  0  0  0  0  0  0\\n    4.7297   -0.1999   -3.3149 H   0  0  0  0  0  0  0  0  0  0  0  0\\n    3.3225   -0.6846   -4.2910 H   0  0  0  0  0  0  0  0  0  0  0  0\\n    4.5180   -2.6181   -2.2292 H   0  0  0  0  0  0  0  0  0  0  0  0\\n    5.1393   -4.0694   -2.6276 H   0  0  0  0  0  0  0  0  0  0  0  0\\n    6.9797   -6.3892   -3.1102 H   0  0  0  0  0  0  0  0  0  0  0  0\\n    6.1222   -8.6239   -2.7217 H   0  0  0  0  0  0  0  0  0  0  0  0\\n    4.7070   -9.9232    0.1396 H   0  0  0  0  0  0  0  0  0  0  0  0\\n    6.0666   -7.9224    1.4653 H   0  0  0  0  0  0  0  0  0  0  0  0\\n    6.9063   -5.6755    1.0990 H   0  0  0  0  0  0  0  0  0  0  0  0\\n    8.7215   -2.7064    2.0494 H   0  0  0  0  0  0  0  0  0  0  0  0\\n    9.2775    0.6839    2.7736 H   0  0  0  0  0  0  0  0  0  0  0  0\\n    9.4796    1.0656    0.2234 H   0  0  0  0  0  0  0  0  0  0  0  0\\n    9.3792    0.9900   -2.3777 H   0  0  0  0  0  0  0  0  0  0  0  0\\n    5.2606   -4.6026   -5.6908 H   0  0  0  0  0  0  0  0  0  0  0  0\\n    5.3872   -6.5932   -4.9801 H   0  0  0  0  0  0  0  0  0  0  0  0\\n    3.2323   -3.7388   -5.7924 H   0  0  0  0  0  0  0  0  0  0  0  0\\n    2.1991   -5.5447   -5.5899 H   0  0  0  0  0  0  0  0  0  0  0  0\\n    2.3260   -2.4881   -4.0618 H   0  0  0  0  0  0  0  0  0  0  0  0\\n    2.6949   -4.7764   -2.4607 H   0  0  0  0  0  0  0  0  0  0  0  0\\n   -0.3717    0.1183    2.0319 H   0  0  0  0  0  0  0  0  0  0  0  0\\n    0.1158   -0.5725    4.3960 H   0  0  0  0  0  0  0  0  0  0  0  0\\n    2.4801   -3.0531    5.3815 H   0  0  0  0  0  0  0  0  0  0  0  0\\n    3.3766   -2.9313    3.1743 H   0  0  0  0  0  0  0  0  0  0  0  0\\n    2.9772   -2.2671    0.8939 H   0  0  0  0  0  0  0  0  0  0  0  0\\n   -0.7028    0.8680   -4.8736 O   0  0  0  0  0  0  0  0  0  0  0  0\\n   -0.2290    0.6146   -3.6973 C   0  0  0  0  0  0  0  0  0  0  0  0\\n   -0.0595    1.7318   -2.9560 O   0  0  0  0  0  0  0  0  0  0  0  0\\n   -0.3901    3.0330   -3.4444 C   0  0  0  0  0  0  0  0  0  0  0  0\\n   -1.8699    3.2204   -3.4743 C   0  0  0  0  0  0  0  0  0  0  0  0\\n   -2.6291    2.2944   -4.1172 O   0  0  0  0  0  0  0  0  0  0  0  0\\n   -3.7594    1.9270   -3.4677 C   0  0  0  0  0  0  0  0  0  0  0  0\\n   -4.5854    1.0328   -4.1650 O   0  0  0  0  0  0  0  0  0  0  0  0\\n   -5.7310    0.4675   -3.6423 C   0  0  0  0  0  0  0  0  0  0  0  0\\n   -6.9755    1.0290   -3.6108 C   0  0  0  0  0  0  0  0  0  0  0  0\\n   -7.2977    2.3373   -4.1529 C   0  0  0  0  0  0  0  0  0  0  0  0\\n   -6.5443    3.0605   -5.0285 C   0  0  0  0  0  0  0  0  0  0  0  0\\n   -6.8971    4.3425   -5.4702 C   0  0  0  0  0  0  0  0  0  0  0  0\\n   -8.0624    4.9239   -5.0099 C   0  0  0  0  0  0  0  0  0  0  0  0\\n   -8.4512    6.1932   -5.4162 O   0  0  0  0  0  0  0  0  0  0  0  0\\n   -8.8262    4.1929   -4.1252 C   0  0  0  0  0  0  0  0  0  0  0  0\\n   -8.4686    2.9287   -3.6936 C   0  0  0  0  0  0  0  0  0  0  0  0\\n   -7.9492    0.3310   -3.0493 O   0  0  0  0  0  0  0  0  0  0  0  0\\n   -7.8306   -0.8583   -2.5199 C   0  0  0  0  0  0  0  0  0  0  0  0\\n   -8.8969   -1.5307   -1.9434 C   0  0  0  0  0  0  0  0  0  0  0  0\\n   -8.7021   -2.8031   -1.3944 C   0  0  0  0  0  0  0  0  0  0  0  0\\n   -9.7972   -3.4588   -0.8190 O   0  0  0  0  0  0  0  0  0  0  0  0\\n   -7.4569   -3.4185   -1.4101 C   0  0  0  0  0  0  0  0  0  0  0  0\\n   -6.4228   -2.7541   -1.9714 C   0  0  0  0  0  0  0  0  0  0  0  0\\n   -5.1365   -3.3262   -2.0082 O   0  0  0  0  0  0  0  0  0  0  0  0\\n   -6.6197   -1.4925   -2.5154 C   0  0  0  0  0  0  0  0  0  0  0  0\\n   -5.5555   -0.8110   -3.0893 C   0  0  0  0  0  0  0  0  0  0  0  0\\n   -4.4549   -1.3859   -3.0888 O   0  0  0  0  0  0  0  0  0  0  0  0\\n   -3.5171    1.4749   -2.0258 C   0  0  0  0  0  0  0  0  0  0  0  0\\n   -2.6291    0.4766   -1.8755 O   0  0  0  0  0  0  0  0  0  0  0  0\\n   -2.9975    2.6913   -1.2613 C   0  0  0  0  0  0  0  0  0  0  0  0\\n   -2.0049    2.3269   -0.3514 O   0  0  0  0  0  0  0  0  0  0  0  0\\n   -2.4095    3.7325   -2.1609 C   0  0  0  0  0  0  0  0  0  0  0  0\\n   -3.3360    4.7793   -2.3760 O   0  0  0  0  0  0  0  0  0  0  0  0\\n    0.0056   -0.7946   -3.4440 C   0  0  0  0  0  0  0  0  0  0  0  0\\n   -0.3026   -1.5418   -4.5565 C   0  0  0  0  0  0  0  0  0  0  0  0\\n   -0.4150   -3.4712   -4.4115 Br  0  0  0  0  0  0  0  0  0  0  0  0\\n   -0.4057   -1.0341   -5.8941 C   0  0  0  0  0  0  0  0  0  0  0  0\\n   -1.5529   -1.3351   -6.6046 C   0  0  0  0  0  0  0  0  0  0  0  0\\n   -1.7181   -0.9444   -7.9380 C   0  0  0  0  0  0  0  0  0  0  0  0\\n   -0.6883   -0.2387   -8.5244 C   0  0  0  0  0  0  0  0  0  0  0  0\\n   -0.8429    0.1555   -9.8572 O   0  0  0  0  0  0  0  0  0  0  0  0\\n    0.4738    0.0858   -7.8505 C   0  0  0  0  0  0  0  0  0  0  0  0\\n    0.6182   -0.3141   -6.5345 C   0  0  0  0  0  0  0  0  0  0  0  0\\n    0.0244    3.1719   -4.4740 H   0  0  0  0  0  0  0  0  0  0  0  0\\n    0.1244    3.7807   -2.8131 H   0  0  0  0  0  0  0  0  0  0  0  0\\n   -1.9820    4.1548   -4.1885 H   0  0  0  0  0  0  0  0  0  0  0  0\\n   -4.4534    2.8273   -3.2724 H   0  0  0  0  0  0  0  0  0  0  0  0\\n   -5.6441    2.6625   -5.4196 H   0  0  0  0  0  0  0  0  0  0  0  0\\n   -6.2769    4.8793   -6.1774 H   0  0  0  0  0  0  0  0  0  0  0  0\\n   -9.4200    6.4334   -5.5962 H   0  0  0  0  0  0  0  0  0  0  0  0\\n   -9.7452    4.5932   -3.7367 H   0  0  0  0  0  0  0  0  0  0  0  0\\n   -9.1093    2.4101   -2.9899 H   0  0  0  0  0  0  0  0  0  0  0  0\\n   -9.8640   -1.0791   -1.9258 H   0  0  0  0  0  0  0  0  0  0  0  0\\n   -9.6861   -3.8955    0.1067 H   0  0  0  0  0  0  0  0  0  0  0  0\\n   -7.3039   -4.4019   -0.9910 H   0  0  0  0  0  0  0  0  0  0  0  0\\n   -4.7874   -3.7984   -2.8038 H   0  0  0  0  0  0  0  0  0  0  0  0\\n   -4.5204    1.1645   -1.6474 H   0  0  0  0  0  0  0  0  0  0  0  0\\n   -1.8910    0.6429   -1.2427 H   0  0  0  0  0  0  0  0  0  0  0  0\\n   -3.8664    3.1307   -0.7149 H   0  0  0  0  0  0  0  0  0  0  0  0\\n   -1.7713    3.1058    0.1881 H   0  0  0  0  0  0  0  0  0  0  0  0\\n   -1.5411    4.1987   -1.6314 H   0  0  0  0  0  0  0  0  0  0  0  0\\n   -3.0194    5.2702   -3.1656 H   0  0  0  0  0  0  0  0  0  0  0  0\\n   -2.3507   -1.9088   -6.1107 H   0  0  0  0  0  0  0  0  0  0  0  0\\n   -2.6104   -1.1945   -8.4826 H   0  0  0  0  0  0  0  0  0  0  0  0\\n   -1.7688    0.1009  -10.3132 H   0  0  0  0  0  0  0  0  0  0  0  0\\n    1.2774    0.6413   -8.3089 H   0  0  0  0  0  0  0  0  0  0  0  0\\n    1.5354   -0.0848   -5.9770 H   0  0  0  0  0  0  0  0  0  0  0  0\\n  1  2  2  0\\n  2  3  1  0\\n  2  4  1  0\\n  4  5  1  0\\n  4  6  2  3\\n  3  7  1  0\\n  6  8  1  0\\n  9 10  2  0\\n 10 11  1  0\\n 10 12  1  0\\n 12 13  2  3\\n 11 14  1  0\\n 13 15  1  0\\n 16 17  2  0\\n 17 18  1  0\\n 17 19  1  0\\n 19 20  2  3\\n 18 21  1  0\\n 20 22  1  0\\n 23 24  2  0\\n 24 25  1  0\\n 25 26  1  0\\n 26 27  1  0\\n 27 28  1  0\\n 28 29  1  0\\n 29 30  1  0\\n 30 31  1  0\\n 31 32  2  0\\n 32 33  1  0\\n 33 34  2  0\\n 34 35  1  0\\n 35 36  2  0\\n 36 37  1  0\\n 36 38  1  0\\n 38 39  2  0\\n 32 40  1  0\\n 40 41  1  0\\n 41 42  2  0\\n 42 43  1  0\\n 43 44  1  0\\n 43 45  2  0\\n 45 46  1  0\\n 46 47  1  0\\n 46 48  2  0\\n 48 49  1  0\\n 49 50  2  0\\n 29 51  1  0\\n 51 52  1  0\\n 51 53  1  0\\n 53 54  1  0\\n 53 55  1  0\\n 55 56  1  0\\n 24 57  1  0\\n 57 58  2  3\\n 58 59  1  0\\n 59 60  2  0\\n 60 61  1  0\\n 61 62  2  0\\n 62 63  1  0\\n 62 64  1  0\\n 64 65  2  0\\n 55 27  1  0\\n 65 59  1  0\\n 49 31  1  0\\n 39 33  1  0\\n 48 41  1  0\\n 26 66  1  0\\n 26 67  1  0\\n 27 68  1  0\\n 29 69  1  0\\n 34 70  1  0\\n 35 71  1  0\\n 37 72  1  0\\n 38 73  1  0\\n 39 74  1  0\\n 42 75  1  0\\n 44 76  1  0\\n 45 77  1  0\\n 47 78  1  0\\n 51 79  1  0\\n 52 80  1  0\\n 53 81  1  0\\n 54 82  1  0\\n 55 83  1  0\\n 56 84  1  0\\n 60 85  1  0\\n 61 86  1  0\\n 63 87  1  0\\n 64 88  1  0\\n 65 89  1  0\\n 90 91  2  0\\n 91 92  1  0\\n 92 93  1  0\\n 93 94  1  0\\n 94 95  1  0\\n 95 96  1  0\\n 96 97  1  0\\n 97 98  1  0\\n 98 99  2  0\\n 99100  1  0\\n100101  2  0\\n101102  1  0\\n102103  2  0\\n103104  1  0\\n103105  1  0\\n105106  2  0\\n 99107  1  0\\n107108  1  0\\n108109  2  0\\n109110  1  0\\n110111  1  0\\n110112  2  0\\n112113  1  0\\n113114  1  0\\n113115  2  0\\n115116  1  0\\n116117  2  0\\n 96118  1  0\\n118119  1  0\\n118120  1  0\\n120121  1  0\\n120122  1  0\\n122123  1  0\\n 91124  1  0\\n124125  2  3\\n125126  1  0\\n126127  2  0\\n127128  1  0\\n128129  2  0\\n129130  1  0\\n129131  1  0\\n131132  2  0\\n122 94  1  0\\n132126  1  0\\n116 98  1  0\\n106100  1  0\\n115108  1  0\\n 93133  1  0\\n 93134  1  0\\n 94135  1  0\\n 96136  1  0\\n101137  1  0\\n102138  1  0\\n104139  1  0\\n105140  1  0\\n106141  1  0\\n109142  1  0\\n111143  1  0\\n112144  1  0\\n114145  1  0\\n118146  1  0\\n119147  1  0\\n120148  1  0\\n121149  1  0\\n122150  1  0\\n123151  1  0\\n127152  1  0\\n128153  1  0\\n130154  1  0\\n131155  1  0\\n132156  1  0\\n157158  2  0\\n158159  1  0\\n159160  1  0\\n160161  1  0\\n161162  1  0\\n162163  1  0\\n163164  1  0\\n164165  1  0\\n165166  2  0\\n166167  1  0\\n167168  2  0\\n168169  1  0\\n169170  2  0\\n170171  1  0\\n170172  1  0\\n172173  2  0\\n166174  1  0\\n174175  1  0\\n175176  2  0\\n176177  1  0\\n177178  1  0\\n177179  2  0\\n179180  1  0\\n180181  1  0\\n180182  2  0\\n182183  1  0\\n183184  2  0\\n163185  1  0\\n185186  1  0\\n185187  1  0\\n187188  1  0\\n187189  1  0\\n189190  1  0\\n158191  1  0\\n191192  2  3\\n192193  1  0\\n192194  1  0\\n194195  2  0\\n195196  1  0\\n196197  2  0\\n197198  1  0\\n197199  1  0\\n199200  2  0\\n189161  1  0\\n200194  1  0\\n183165  1  0\\n173167  1  0\\n182175  1  0\\n160201  1  0\\n160202  1  0\\n161203  1  0\\n163204  1  0\\n168205  1  0\\n169206  1  0\\n171207  1  0\\n172208  1  0\\n173209  1  0\\n176210  1  0\\n178211  1  0\\n179212  1  0\\n181213  1  0\\n185214  1  0\\n186215  1  0\\n187216  1  0\\n188217  1  0\\n189218  1  0\\n190219  1  0\\n195220  1  0\\n196221  1  0\\n198222  1  0\\n199223  1  0\\n200224  1  0\\n  6 57  1  0\\n 12 58  1  0\\n 13124  1  0\\n 19125  1  0\\n 20191  1  0\\nM  END\\n\",\"sdf\");\n",
       "\tviewer_1749848529497171.setStyle({\"stick\": {}});\n",
       "\tviewer_1749848529497171.zoomTo();\n",
       "viewer_1749848529497171.render();\n",
       "});\n",
       "</script>"
      ]
     },
     "metadata": {},
     "output_type": "display_data"
    }
   ],
   "source": [
    "rdkit_polymer = polymer.to_rdkit_mol()\n",
    "rdkit_polymer = AllChem.AddHs(rdkit_polymer)\n",
    "rdkit.SanitizeMol(rdkit_polymer)\n",
    "\n",
    "stk.MolWriter().write(polymer, 'polymer.mol')\n",
    "\n",
    "rdkit_polymer_h = Chem.AddHs(rdkit_polymer)\n",
    "params = AllChem.ETKDGv3()\n",
    "params.useRandomCoords=True\n",
    "AllChem.EmbedMolecule(rdkit_polymer_h, params);\n",
    "\n",
    "params = AllChem.ETKDGv3()\n",
    "\n",
    "rdkit_polymer_h = Chem.MolToMolBlock(rdkit_polymer_h)\n",
    "p = py3Dmol.view(width=400,height=400)\n",
    "p.removeAllModels()\n",
    "p.addModel(rdkit_polymer_h,'sdf')\n",
    "p.setStyle({'stick':{}})\n",
    "p.zoomTo()\n",
    "p.show()"
   ]
  }
 ],
 "metadata": {
  "kernelspec": {
   "display_name": ".venv",
   "language": "python",
   "name": "python3"
  },
  "language_info": {
   "codemirror_mode": {
    "name": "ipython",
    "version": 3
   },
   "file_extension": ".py",
   "mimetype": "text/x-python",
   "name": "python",
   "nbconvert_exporter": "python",
   "pygments_lexer": "ipython3",
   "version": "3.13.2"
  }
 },
 "nbformat": 4,
 "nbformat_minor": 5
}
